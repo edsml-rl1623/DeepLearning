{
  "nbformat": 4,
  "nbformat_minor": 0,
  "metadata": {
    "colab": {
      "provenance": [],
      "gpuType": "T4"
    },
    "kernelspec": {
      "name": "python3",
      "display_name": "Python 3"
    },
    "language_info": {
      "name": "python"
    },
    "accelerator": "GPU"
  },
  "cells": [
    {
      "cell_type": "markdown",
      "source": [
        "<img src=\"https://drive.google.com/uc?id=1DvKhAzLtk-Hilu7Le73WAOz2EBR5d41G\" width=\"500\"/>\n",
        "\n",
        "---\n"
      ],
      "metadata": {
        "id": "9YehS8enAmDn"
      }
    },
    {
      "cell_type": "markdown",
      "source": [
        "# **Deep learning basic concepts**\n",
        "\n",
        "\n",
        "#### **Morning contents/agenda**\n",
        "\n",
        "1. Supervised VS unsupervised learning\n",
        "\n",
        "2. Parameters and hyperparameters of a network\n",
        "\n",
        "  2.1 Activation functions\n",
        "\n",
        "  2.2 Losses\n",
        "\n",
        "3. **Training is an optimisation problem**: gradient descent and backpropagation\n",
        "\n",
        "4. Batch, mini-batch, and stochastic gradient descent\n",
        "\n",
        "5. Bias and variance, and regularisers\n",
        "\n",
        "#### **Learning outcomes**\n",
        "\n",
        "1. Understand the difference between parameters of hyperparameters of a network\n",
        "\n",
        "2. Understand how networks are trained using gradient descent and backpropagation\n",
        "\n",
        "3. Understand how batch size works and the effect of regularisers in the training process\n",
        "\n",
        "\n",
        "<br>\n",
        "\n",
        "#### **Afternoon contents/agenda**\n",
        "\n",
        "1. Half-moon classifier\n",
        "\n",
        "2. L2 regularisation on MNIST\n",
        "\n",
        "#### **Learning outcomes**\n",
        "\n",
        "1. Be able to build a simple classifier for simple datasets\n",
        "\n",
        "2. Understand the effect of explicit regularisation during training\n",
        "\n",
        "<br/>\n",
        "\n",
        "---\n",
        "\n",
        "<br/>"
      ],
      "metadata": {
        "id": "ZKS9BL1zphFL"
      }
    },
    {
      "cell_type": "code",
      "source": [
        "!pip install pycm livelossplot\n",
        "%pylab inline\n",
        "\n",
        "from sklearn.metrics import accuracy_score\n",
        "from sklearn.model_selection import StratifiedShuffleSplit\n",
        "\n",
        "from livelossplot import PlotLosses\n",
        "from pycm import *\n",
        "\n",
        "import torch\n",
        "import torch.nn as nn\n",
        "import torch.nn.functional as F\n",
        "from torch.utils.data import TensorDataset, DataLoader\n",
        "import torchvision.transforms as transforms\n",
        "from torchvision.datasets import MNIST\n",
        "from torchsummary import summary"
      ],
      "metadata": {
        "id": "_kYki018eTFJ",
        "outputId": "386cac43-c640-4248-c9cc-553bccd42713",
        "colab": {
          "base_uri": "https://localhost:8080/"
        }
      },
      "execution_count": 2,
      "outputs": [
        {
          "output_type": "stream",
          "name": "stdout",
          "text": [
            "Requirement already satisfied: pycm in /usr/local/lib/python3.10/dist-packages (4.0)\n",
            "Requirement already satisfied: livelossplot in /usr/local/lib/python3.10/dist-packages (0.5.5)\n",
            "Requirement already satisfied: art>=1.8 in /usr/local/lib/python3.10/dist-packages (from pycm) (6.1)\n",
            "Requirement already satisfied: numpy>=1.9.0 in /usr/local/lib/python3.10/dist-packages (from pycm) (1.23.5)\n",
            "Requirement already satisfied: matplotlib in /usr/local/lib/python3.10/dist-packages (from livelossplot) (3.7.1)\n",
            "Requirement already satisfied: bokeh in /usr/local/lib/python3.10/dist-packages (from livelossplot) (3.3.1)\n",
            "Requirement already satisfied: Jinja2>=2.9 in /usr/local/lib/python3.10/dist-packages (from bokeh->livelossplot) (3.1.2)\n",
            "Requirement already satisfied: contourpy>=1 in /usr/local/lib/python3.10/dist-packages (from bokeh->livelossplot) (1.2.0)\n",
            "Requirement already satisfied: packaging>=16.8 in /usr/local/lib/python3.10/dist-packages (from bokeh->livelossplot) (23.2)\n",
            "Requirement already satisfied: pandas>=1.2 in /usr/local/lib/python3.10/dist-packages (from bokeh->livelossplot) (1.5.3)\n",
            "Requirement already satisfied: pillow>=7.1.0 in /usr/local/lib/python3.10/dist-packages (from bokeh->livelossplot) (9.4.0)\n",
            "Requirement already satisfied: PyYAML>=3.10 in /usr/local/lib/python3.10/dist-packages (from bokeh->livelossplot) (6.0.1)\n",
            "Requirement already satisfied: tornado>=5.1 in /usr/local/lib/python3.10/dist-packages (from bokeh->livelossplot) (6.3.2)\n",
            "Requirement already satisfied: xyzservices>=2021.09.1 in /usr/local/lib/python3.10/dist-packages (from bokeh->livelossplot) (2023.10.1)\n",
            "Requirement already satisfied: cycler>=0.10 in /usr/local/lib/python3.10/dist-packages (from matplotlib->livelossplot) (0.12.1)\n",
            "Requirement already satisfied: fonttools>=4.22.0 in /usr/local/lib/python3.10/dist-packages (from matplotlib->livelossplot) (4.45.1)\n",
            "Requirement already satisfied: kiwisolver>=1.0.1 in /usr/local/lib/python3.10/dist-packages (from matplotlib->livelossplot) (1.4.5)\n",
            "Requirement already satisfied: pyparsing>=2.3.1 in /usr/local/lib/python3.10/dist-packages (from matplotlib->livelossplot) (3.1.1)\n",
            "Requirement already satisfied: python-dateutil>=2.7 in /usr/local/lib/python3.10/dist-packages (from matplotlib->livelossplot) (2.8.2)\n",
            "Requirement already satisfied: MarkupSafe>=2.0 in /usr/local/lib/python3.10/dist-packages (from Jinja2>=2.9->bokeh->livelossplot) (2.1.3)\n",
            "Requirement already satisfied: pytz>=2020.1 in /usr/local/lib/python3.10/dist-packages (from pandas>=1.2->bokeh->livelossplot) (2023.3.post1)\n",
            "Requirement already satisfied: six>=1.5 in /usr/local/lib/python3.10/dist-packages (from python-dateutil>=2.7->matplotlib->livelossplot) (1.16.0)\n",
            "Populating the interactive namespace from numpy and matplotlib\n"
          ]
        }
      ]
    },
    {
      "cell_type": "code",
      "source": [
        "def set_seed(seed):\n",
        "    \"\"\"\n",
        "    Use this to set ALL the random seeds to a fixed value and take out any randomness from cuda kernels\n",
        "    \"\"\"\n",
        "    random.seed(seed)\n",
        "    np.random.seed(seed)\n",
        "    torch.manual_seed(seed)\n",
        "    torch.cuda.manual_seed_all(seed)\n",
        "\n",
        "    torch.backends.cudnn.benchmark = False  ##uses the inbuilt cudnn auto-tuner to find the fastest convolution algorithms. -\n",
        "    torch.backends.cudnn.enabled   = False\n",
        "\n",
        "    return True\n",
        "\n",
        "device = 'cpu'\n",
        "if torch.cuda.device_count() > 0 and torch.cuda.is_available():\n",
        "    print(\"Cuda installed! Running on GPU!\")\n",
        "    device = 'cuda'\n",
        "else:\n",
        "    print(\"No GPU available!\")"
      ],
      "metadata": {
        "id": "LI8sNA9feT3H",
        "outputId": "0c7e5257-8a81-40dc-fd5d-f5f29043ea6e",
        "colab": {
          "base_uri": "https://localhost:8080/"
        }
      },
      "execution_count": 3,
      "outputs": [
        {
          "output_type": "stream",
          "name": "stdout",
          "text": [
            "No GPU available!\n"
          ]
        }
      ]
    },
    {
      "cell_type": "markdown",
      "source": [
        "Today we will recap some of the concepts you have already seen in the ML module"
      ],
      "metadata": {
        "id": "Z-BLv6L2_LaF"
      }
    },
    {
      "cell_type": "markdown",
      "source": [
        "## 1. Supervised VS unsupervised learning\n",
        "\n",
        "<img src=\"https://drive.google.com/uc?id=1Lp6offWwF8IGv6I-WulLQ5xPJDkiucW7\" width=\"1000\"/>\n",
        "\n",
        "Definitions from the book Deep Learning (Goodfellow et al, 2016):\n",
        "\n",
        "<img src=\"https://drive.google.com/uc?id=1av7AhfBq_-0QdWPlZToT19Ku1aKMY9wt\" width=\"1000\"/>\n",
        "\n",
        "There are other types of learning (reinforced, self-supervised, and semi-supervised, we will cover some of them on the last week of the module).\n",
        "\n",
        "\n",
        "\n",
        "\n",
        "\n",
        "\n",
        "\n",
        "\n",
        "\n",
        "<br/>\n",
        "\n",
        "---\n",
        "\n",
        "<br/>"
      ],
      "metadata": {
        "id": "2RAfufbgYAjF"
      }
    },
    {
      "cell_type": "markdown",
      "source": [
        "## 2. Parameters and hyperparameters of a network\n",
        "\n",
        "We use deep learning to perform tasks that usually rely on large amounts of data. Such tasks, or problems, are then formulated as optimisation problems involving neural networks.\n",
        "\n",
        "Let's say that we have some data and a task that needs to be done. We want to use a solution based on training a network, but a few questions arise:\n",
        "\n",
        "1. What does training a network mean and how do we do it?\n",
        "2. What is the network 'design'?\n",
        "3. How do we choose the best 'design' for our problem?  \n",
        "\n",
        "Let's look at each of those one by one:\n",
        "\n",
        "<br>\n",
        "\n",
        "##### **1. What does training a network mean and how do we do it?**\n",
        "\n",
        "Training a network means to find the optimal parameters of the network according to some measure that we define, usually using a **loss** function. The network parameters are the $\\theta$ parameters we saw on the first day:\n",
        "\n",
        "<img src=\"https://drive.google.com/uc?id=1u8u915wCBPKuKURiQJWHle_d0ci_EVt0\" width=\"800\"/>\n",
        "\n",
        "Network parameters are also referred to as weights and biases ($w$ and $b$ respectively), where the **weights** are the parameters that operate on the data inputs (our outputs of the previous layer), and the **biases** are an extra parameter we add to provide the network with extra flexibility:\n",
        "\n",
        "<br>\n",
        "\n",
        "<center><img src=\"https://drive.google.com/uc?id=1__yM95UJrKTtxtJQyR1HAtFFcwVmovOg\" width=\"300\"/></center>\n",
        "\n",
        "<br>\n",
        "\n",
        "To train a network is to find the parameters, which are (unsurprisingly) called **trainable parameters**, that better accomplish the task at hand. We will discuss the mechanism to measure this 'accomplishment' when we talk about loss functions further down.\n",
        "\n",
        "\n",
        "##### **2. What is the network 'design'?**\n",
        "\n",
        "The design/shape/form of a network is known as its architecture. The architecture of the network is mostly controled by the network **hyperparameters**.\n",
        "\n",
        "'Definition' from the book [Deep Learning](https://www.deeplearningbook.org/):\n",
        "\n",
        "*Most machine learning algorithms have hyperparameters, settings that we can use to control the algorithm’s behavior. The values of hyperparameters are not adapted by the learning algorithm itself (though we can design a nested learning procedure in which one learning algorithm learns the best hyperparameters for another learning algorithm).*\n",
        "\n",
        "Examples of hyperparameters are:\n",
        "\n",
        "- learning rate\n",
        "- batch size\n",
        "- loss type\n",
        "- number of layers\n",
        "- types of layers\n",
        "- and a very long etc.\n",
        "\n",
        "In essence, ***network settings that are not trainable***.\n",
        "\n",
        "<br>\n",
        "\n",
        "##### **3. How do we choose the best *hyperparameters* for our problem?**\n",
        "\n",
        "If they are not trainable, how do we find their optimal values then?\n",
        "\n",
        "There are several methods to search for the best model hyperparameters. They all rely on exploring the effect these hyperparameters have on the training performance. The two most common strategies are grid and random search ([image source](https://medium.com/@cjl2fv/an-intro-to-hyper-parameter-optimization-using-grid-search-and-random-search-d73b9834ca0a)):\n",
        "\n",
        "<br>\n",
        "\n",
        "<p align = \"center\"><img src=\"https://miro.medium.com/max/1400/0*yDmmJmvRowl0cSN8.webp\" width=\"400\"/></p><p align = \"center\">\n",
        "\n",
        "<br>\n",
        "\n",
        "A good video by Andrew Ng on the topic [here](https://www.youtube.com/watch?v=AXDByU3D1hA)\n",
        "\n",
        "<br>\n",
        "\n",
        "In fact, this need to optimise hyperparameters is the reason why we split our data in three sets: training, validation, and testing. The table below summarises how each of these three datasets are used during a basic deep learning workflow:\n",
        "\n",
        "<br>\n",
        "\n",
        "| Dataset      | Used for training?| Used to find hyperparameters? | Good to assess Generalisation* |\n",
        "| -----------    | :---: | :----: | :---: |\n",
        "| Training set   | Yes      |  Partly | No  |\n",
        "| Validation set | No       |  Yes | Partly  |\n",
        "| Testing set    | No       |  No  | Yes |\n",
        "\n",
        "<br>\n",
        "\n",
        "\\*Generalisation error (from Goodfellow et al, 2017):\n",
        "\n",
        "*The trained model must perform well on new, previously unseen data, not just those on which the model was trained. The ability to perform well on previously unseen data – or Test Data - is called Generalisation.*\n",
        "\n",
        "<br>\n",
        "\n",
        "#### **Putting it all together**\n",
        "\n",
        "Finally, a somewhat simplified workflow to design, train, and test a network would be something like this. For each set of hyperaparemeters we want to optimise:\n",
        "\n",
        "1. Train each neural network (corresponding to each hyperparameter combination) using the training set.\n",
        "2. Test performance on the validation set.\n",
        "3. Pick the hyperparameters that give the best performance on the validation set.\n",
        "4. Possibly retrain the network with optimal hyperparameters but now using both training and validation sets.\n",
        "5. Test the network using the test set.\n",
        "\n",
        "***The Test Set is the final measure of performance but must never be used in the Training.***\n",
        "\n",
        "<br>\n",
        "\n",
        "\n",
        "In the next two sections we will cover two special types of '***hyperparameters***'.\n",
        "\n",
        "<br/>\n"
      ],
      "metadata": {
        "id": "Gw1L_8b8YAjH"
      }
    },
    {
      "cell_type": "markdown",
      "source": [
        "### 2.1 Activation functions\n",
        "\n",
        "Without activation functions, neural networks would just be a composition of linear operations. We introduce activation functions to introduce non-linearities:\n",
        "\n",
        "<br>\n",
        "\n",
        "<center><img src=\"https://drive.google.com/uc?id=1NwA80ENDZvuJNAp_Zv8UURivfbGRT-Ax\" width=\"800\"/></center>\n",
        "\n",
        "But why do we want to introduce non-linearities, and how do we do it?\n",
        "\n",
        "This blog by Christopher Olah has a very nice visual explanation of it:"
      ],
      "metadata": {
        "id": "39etFchsYAjJ"
      }
    },
    {
      "cell_type": "code",
      "source": [
        "%%html\n",
        "<iframe src=\"https://colah.github.io/posts/2014-03-NN-Manifolds-Topology/\" width=\"1200\" height=\"700\"></iframe>"
      ],
      "metadata": {
        "colab": {
          "base_uri": "https://localhost:8080/",
          "height": 725
        },
        "outputId": "4850aea3-6a09-485b-ac16-a66bf7fade0c",
        "id": "4lfoWR8AYAjJ"
      },
      "execution_count": null,
      "outputs": [
        {
          "output_type": "display_data",
          "data": {
            "text/plain": [
              "<IPython.core.display.HTML object>"
            ],
            "text/html": [
              "\n",
              "<iframe src=\"https://colah.github.io/posts/2014-03-NN-Manifolds-Topology/\" width=\"1200\" height=\"700\"></iframe>\n"
            ]
          },
          "metadata": {}
        }
      ]
    },
    {
      "cell_type": "markdown",
      "source": [
        "There are many different types of activation functions. Historically, the three most commonly used are:\n",
        "\n",
        "- tanh\n",
        "- sigmoid\n",
        "- ReLU (Rectified Linear Unit)\n",
        "\n",
        "\n",
        "<img src=\"https://miro.medium.com/max/1190/1*f9erByySVjTjohfFdNkJYQ.jpeg\" width=\"210\"/>\n",
        "\n",
        "<img src=\"https://miro.medium.com/max/4800/1*XxxiA0jJvPrHEJHD4z893g.png\" width=\"400\"/>\n",
        "\n",
        "But over time, many more have been developed:\n",
        "\n",
        "<center><img src=\"https://drive.google.com/uc?id=1KvLxqibUIQmP6tgjrV_YJdm949n5CY3q\" width=\"800\"/></center>\n",
        "\n",
        "A special case of activation functions are those involving outputs from several neurons in each layer:\n",
        "\n",
        "<center><img src=\"https://drive.google.com/uc?id=1USS9LY9VuVMeDqIwbLR5nrRchaE8ldHR\" width=\"400\"/></center>\n",
        "\n",
        "[link to wikipedia entry](https://en.wikipedia.org/wiki/Activation_function) about activation functions.\n",
        "\n",
        "\n",
        "Fun version of the activation functions ([link](https://sefiks.com/2020/02/02/dance-moves-of-deep-learning-activation-functions/)):\n",
        "\n",
        "<center><img src=\"https://i0.wp.com/sefiks.com/wp-content/uploads/2020/02/sample-activation-functions-square.png?ssl=1\" width=\"400\"/></center>\n",
        "\n",
        "To reiterate, activation functions act as non-linear operators that provide models with additional flexibility.\n",
        "\n",
        "Play with different activations provided by PyTorch given a random tensor to see the effect they have. You can find them in the [documentation](https://pytorch.org/docs/stable/nn.html#non-linear-activations-weighted-sum-nonlinearity):"
      ],
      "metadata": {
        "id": "qrCBL4oLYAjK"
      }
    },
    {
      "cell_type": "code",
      "source": [
        "# simple example of the effects of activation functions:\n",
        "m = nn.Sigmoid()                      #### change this activation function to see what happens\n",
        "input = torch.randn(25, 25)*100\n",
        "output = m(input)\n",
        "\n",
        "fig, (ax1, ax2) = plt.subplots(1, 2)\n",
        "fig.tight_layout(pad=5.0)\n",
        "plt.rcParams[\"figure.figsize\"] = (10,10)\n",
        "\n",
        "im1 = ax1.imshow(input.detach().numpy(), cmap='seismic', vmin=-100, vmax=100)  # play with the colorscales to highlight the\n",
        "im2 = ax2.imshow(output.detach().numpy(), cmap='seismic', vmin=-100, vmax=100) # effects ofthe different activations\n",
        "plt.colorbar(im1, ax=ax1, fraction=0.04)\n",
        "plt.colorbar(im2, ax=ax2, fraction=0.04)\n",
        "\n"
      ],
      "metadata": {
        "colab": {
          "base_uri": "https://localhost:8080/",
          "height": 296
        },
        "outputId": "a8e49049-2ddc-4bd6-d9a5-bd885e030742",
        "id": "nR5ssDArYAjK"
      },
      "execution_count": null,
      "outputs": [
        {
          "output_type": "execute_result",
          "data": {
            "text/plain": [
              "<matplotlib.colorbar.Colorbar at 0x7fa1cb748690>"
            ]
          },
          "metadata": {},
          "execution_count": 4
        },
        {
          "output_type": "display_data",
          "data": {
            "text/plain": [
              "<Figure size 720x720 with 4 Axes>"
            ],
            "image/png": "[encoded data removed]"
          },
          "metadata": {
            "needs_background": "light"
          }
        }
      ]
    },
    {
      "cell_type": "markdown",
      "source": [
        "### 2.2 Loss functions\n",
        "\n",
        "Training a network is an optimisation procedure, and therefore it relies on being able to quantify somehow the performance of models (networks in DL). To do so, we define a quantity that distills the performance of the model to a single quantity, called the objective function. In deep learning, we often use a measure of 'error' for this, and we try to minimise it, hence the name loss function. This quantity has other names, most of them summarised in the following definition from the Deep Learning book (Goodfellow et al, 2016):\n",
        "\n",
        "*The function we want to minimize or maximize is called the objective function or criterion. When we are minimizing it, we may also call it the cost function, loss function, or error function.*\n",
        "\n",
        "<br>\n",
        "\n",
        "The two most common loss functions are:\n",
        "\n",
        "- Mean squared error (MSE):  \n",
        "\n",
        "$$ L_{MSE} = \\frac{1}{N} \\sum_i^N ( y_i - h_i(x) )^2$$\n",
        "\n",
        "where $h_i(x)$ is an element of the output of the network, $y_i$ and element of what we define as the target, and $N$ is the total number of elements for this data sample. For example, $h_i(x)$ and $y_i$ could be pixels in an image, and $N$ the total number of pixels in this image.\n",
        "\n",
        "<br>\n",
        "\n",
        "- Cross entropy(CE): $$\n",
        "\n",
        "$$ L_{CE} = \\sum_j^M y_j \\log(h_j(x)) $$\n",
        "\n",
        "where $h_j(x)$ is the probability (calculated using softmax) of the sample to belong to class $j$, $y_j$ is the real probability of the sample belonging to this class (either 1 or 0), and $M$ is the total number of classes we are using in the classification. For example, in the network we implemented on the first day, we had 10 classes (digits 0-9), and every time we ran a sample (image of a handwritten digit) through our network, we had an output vector with 10 values corresponding to the probability of the sample to belong to each class.\n",
        "\n",
        "<br>\n",
        "\n",
        "It is trivial to see that if we only have two classes, we can use the binary cross entropy, which only requires the true probability to belong to one of the classes:\n",
        "\n",
        "$$L_{BCE} = -y \\log(h(x)) - (1 - y)\\log(1-h(x))$$\n",
        "\n",
        "which looks like:\n",
        "\n",
        "<center><img src=\"https://drive.google.com/uc?id=1szARToXpU0uOEq0g4_HdpbUHQHFK9VOB\" width=\"400\"/></center>\n",
        "\n",
        "\n",
        "<br>\n",
        "\n",
        "The loss in binary classification tasks, then, has this form:\n",
        "\n",
        "<center><img src=\"https://drive.google.com/uc?id=1NrdAcxR0CqpVJfAN_VmpgZsZM1Vq0TQj\" width=\"400\"/></center>\n",
        "\n",
        "\n",
        "\n",
        "<br>\n",
        "\n",
        "#### **Clarifications and links to activations for the cross-entropy loss:**\n",
        "\n",
        "The last layer of a binary classifier that uses a BCE loss is equivalent to logistic regression:\n",
        "\n",
        "<br>\n",
        "\n",
        "<center><img src=\"https://drive.google.com/uc?id=1__yM95UJrKTtxtJQyR1HAtFFcwVmovOg\" width=\"300\"/></center>\n",
        "\n",
        "<br>\n",
        "\n",
        "where the activation of the last layer is a sigmoid function:\n",
        "\n",
        "<br>\n",
        "\n",
        "<center><img src=\"https://drive.google.com/uc?id=1nhqUVA3MeXKl435F5HFaGOJtRfZornHC\" width=\"600\"/></center>\n",
        "\n",
        "<br>\n",
        "\n",
        "which also defines the decision boundary:\n",
        "\n",
        "<center><img src=\"https://drive.google.com/uc?id=1LVhaQrkOL6xCYiaOJ0xIaackmfhoAGRo\" width=\"700\"/></center>\n",
        "\n",
        "<br>\n",
        "\n",
        "Do you remember https://playground.tensorflow.org/? There we could see either the value of the output of the last layer discretised (ie, the decision boundary), or the values of the last layer of the classifier (which only had one neuron and used a BCE loss):\n",
        "\n",
        "\n",
        "\n"
      ],
      "metadata": {
        "id": "FiCvlghqYAjL"
      }
    },
    {
      "cell_type": "code",
      "source": [
        "%%html\n",
        "<iframe src=\"https://playground.tensorflow.org/\" width=\"1200\" height=\"700\"></iframe>"
      ],
      "metadata": {
        "colab": {
          "base_uri": "https://localhost:8080/",
          "height": 745
        },
        "id": "87kQJ5dRL6l2",
        "outputId": "c9526569-5a41-4b79-d20d-ecd6a15cacfb"
      },
      "execution_count": null,
      "outputs": [
        {
          "output_type": "display_data",
          "data": {
            "text/plain": [
              "<IPython.core.display.HTML object>"
            ],
            "text/html": [
              "<iframe src=\"https://playground.tensorflow.org/\" width=\"1200\" height=\"700\"></iframe>\n"
            ]
          },
          "metadata": {}
        }
      ]
    },
    {
      "cell_type": "markdown",
      "source": [
        "But for the case of multiple classes, we can't use sigmoid.\n",
        "\n",
        "**Why not?**\n",
        "\n",
        "<br>\n",
        "\n",
        "Because when we have only two classes, we can calculate the probability of the second class given the probability of the first, as they both have to add up to one. And if we use a sigmoid activation in the last layer, since its value is restricted between zero and one, we can interpret it as a probability.\n",
        "\n",
        "But this is no longer true for more than 2 classes, as reflected in the expression of the cross-entropy loss we saw above (where $h_j(x)$ is now $p_j$):\n",
        "\n",
        "$$ L_{CE} = \\sum_j^M y_j \\log(p_j) $$\n",
        "\n",
        "\n",
        "<center><img src=\"https://drive.google.com/uc?id=1VOzMIXk6TRf3AiyEv0fT1S6fK6B_UpFj\" width=\"700\"/></center>\n",
        "\n",
        "\n",
        "And now we have an output that can represent the probability of belonging to one of many multiple classes.\n",
        "\n",
        "**Why is it a probability now?** Think about what all the numbers add up to.\n",
        "\n",
        "The Cross Entropy implementation in `PyTorch` ([`CrossEntropyLoss`](https://pytorch.org/docs/stable/generated/torch.nn.CrossEntropyLoss.html)) does a bit more than advertised, as it performs a `Softmax` operation for us. If we don't want `PyTorch` to do this, we can use the Negative-Log-Likelihood-Loss ([`NLLLoss`](https://pytorch.org/docs/stable/generated/torch.nn.NLLLoss.html#torch.nn.NLLLoss)), because as we will see in the probability lecture, the cross entropy is the same as the negative of the log-likelihood.\n",
        "\n",
        "In addition, `PyTorch`'s `CrossEntropyLoss` does a `LogSoftmax`, not a Softmax, and the reason for doing this is that taking the log of the softmax values does not change the positions of the solution(s) of our problem (as log it is a monotonic function), but scales the values to improve numerical stability.\n",
        "\n",
        "<br>\n",
        "\n",
        "You can find a complete list of losses provided by PyTorch [here](https://pytorch.org/docs/stable/nn.html#loss-functions)\n",
        "\n",
        "<br>\n",
        "\n",
        "\n",
        "\n",
        "\n",
        "<br>\n",
        "\n",
        "---\n",
        "\n",
        "<br>\n"
      ],
      "metadata": {
        "id": "vuigJkHGL3gR"
      }
    },
    {
      "cell_type": "markdown",
      "source": [
        "## 3. **Training is an optimisation problem**: gradient descent and backpropagation\n",
        "\n",
        "#### **Gradient descent**\n",
        "\n",
        "When we train a network we are finding the values of the model parameters (weights and biases) that minimise the loss function. The loss function defines a hypersurface in a space that has as many dimensions as model parameters.\n",
        "\n",
        "That means that each combination of parameters correspond to a unique value of the loss, and we want to make this value as small as possible.\n",
        "\n",
        "For example, if we had a very simple network with only two parameters, the loss (or solution space, as it is also often called) could look something like this:\n",
        "\n",
        "<center><img src=\"https://drive.google.com/uc?id=1ttGRRIYmDwjBJOBMYQJlHMm0kJ6igqN2\" width=\"400\"/></center>\n"
      ],
      "metadata": {
        "id": "ZWhuwteuYAjN"
      }
    },
    {
      "cell_type": "code",
      "source": [
        "%%html\n",
        "<iframe src=\"https://losslandscape.com/explorer\" width=\"1200\" height=\"700\"></iframe>"
      ],
      "metadata": {
        "colab": {
          "base_uri": "https://localhost:8080/",
          "height": 725
        },
        "outputId": "af97c371-739d-437d-c204-cb988c1f6e9c",
        "id": "KvhUNio8YAjO"
      },
      "execution_count": null,
      "outputs": [
        {
          "output_type": "display_data",
          "data": {
            "text/plain": [
              "<IPython.core.display.HTML object>"
            ],
            "text/html": [
              "<iframe src=\"https://losslandscape.com/explorer\" width=\"1200\" height=\"700\"></iframe>\n"
            ]
          },
          "metadata": {}
        }
      ]
    },
    {
      "cell_type": "markdown",
      "source": [
        "By looking at the plot above, one may imagine that a simple solution would be to densely sample sufficient combinations of parameters, and then pick the lowest value you find. While this, in theory, would work, such brute force approach is completely infeasible in even the smallest networks which have at least thousands of parameters because it would take too long to sample this solutions space properly.\n",
        "\n",
        "Instead, we use a **local optimisation** technique called **gradient descent**.\n",
        "\n",
        "<center><img src=\"https://drive.google.com/uc?id=1ZVczYMBAwXkYDprAUmbkmcdNMIivuJ3M\" width=\"800\"/></center>\n",
        "\n",
        "where, for simplicity, in this example we assume that the 'network' is a simple multiplication by the value $\\theta$.\n",
        "\n",
        "\\[**NOTE**: it is also common to us $J$ for the **loss** (or **cost** function)\\]\n",
        "\n",
        "In essence, gradient descent is a method that provides us with the information of the local curvature of the loss, and then we just update our model by changing the parameters in the steepest descent direction provided by the gradient expression. As the loss has a complex shape, this process needs to be iterated, as illustrated in the interactive web shown above.\n",
        "\n",
        "\n",
        "In the figure above, we only have one parameter $\\theta$, but in practice, our networks have many more parameters than that. Additionally, they have dependencies betwen them.\n",
        "\n",
        "<br>\n",
        "\n",
        "#### **Backpropagation**\n",
        "<center><img src=\"https://developer-blogs.nvidia.com/wp-content/uploads/2022/02/DS-Guide-to-Gradient-Descent_Pic5.gif\" width=\"400\"/></center>\n",
        "\n",
        "\n",
        "The question is then, how do we use gradient descent to train our networks?\n",
        "\n",
        "The answer is **backpropagation**: a combination of gradient descent and the derivative chain rule.\n",
        "\n",
        "Let's illustrate it with a very simple step-by-step example:\n",
        "\n",
        "<br>\n",
        "\n",
        "| Step 1 |\n",
        " :---:\n",
        "| <center><img src=\"https://drive.google.com/uc?id=1Gy1qztT343rsaU0PjS0QwF1nhia5wq7-\" width=\"800\"/></center> |\n",
        "\n",
        "<br>\n",
        "\n",
        "Here is worth noting that $a_4$ depends on all the model parameters $w_i,b_i$.\n",
        "\n",
        "<br>\n",
        "\n",
        "| Step 2 |\n",
        " :---:\n",
        "| <center><img src=\"https://drive.google.com/uc?id=1MAw3PQNVmLkl_TsZ1RlDnDi5lCI_7516\" width=\"800\"/></center> |\n",
        "\n",
        "<br>\n",
        "\n",
        "where here we add a $\\frac{1}{2}$ in front of the loss to simplify calculations:\n",
        "\n",
        "$$\\require{cancel}$$\n",
        "$$\\frac{\\partial C}{\\partial a_4} = \\frac{1}{\\cancel{2}} \\cancel{2} (a_4 - y)$$\n",
        "\n",
        "and then we continue with the chain rule:\n",
        "\n",
        "<br>\n",
        "\n",
        "| Step 3 |\n",
        " :---:\n",
        "| <center><img src=\"https://drive.google.com/uc?id=11jEYeMTjHPeNwHtU0ayCrr_0FmdFCt9Z\" width=\"800\"/></center> |\n",
        "\n",
        "<br>\n",
        "\n",
        "And the same principle can be applied in networks with more neurons per layer, of course:\n",
        "\n",
        "<center><img src=\"https://drive.google.com/uc?id=1DHzIAkMAyTpq1i2YgaR6D6kfunsaaFWZ\" width=\"600\"/></center>\n",
        "\n",
        "[Here](https://drive.google.com/file/d/1OF9mdC1pUXScfFxdmjucU3IjBIbburTD/view?usp=share_link) you can find a video recorded by Oscar Bates (who will deliver the lecture on VAEs next week). In the video, he calculates by hand all the steps necessary to calculate gradients for all parameters for a simple network using backprop.\n",
        "\n",
        "<br>\n",
        "\n",
        "---\n",
        "\n",
        "<br>"
      ],
      "metadata": {
        "id": "gCBbd-EFYAjP"
      }
    },
    {
      "cell_type": "markdown",
      "source": [
        "## **4**. Batch, mini-batch, and stochastic gradient descent\n",
        "\n",
        "So far we have analysed what happens when we put a single sample through a network, and how to use the loss to measure how well a network performs a given task.\n",
        "\n",
        "In reality, our datasets are composed of hundreds, thousands, or even millions of samples. And now we should ask ourselves the question: how do we use all the data we have to train a network?\n",
        "\n",
        "There are three different strategies to combine the data we have. In each of those, one **iteration** (one update of the model) consists of:\n",
        "\n",
        "- **Batch gradient descent**: we use all the data samples (**batch**) we have, and for each we calculate a gradient. Once we have calculated all the gradients corresponding to all the data values, we combine them (average, sum, etc), and we update the model parameters using a particular learning rate.\n",
        "\n",
        "- **Mini-batch gradient descent**: we use subsets of the data (**mini-batches**) to compute the gradients corresponding to each sample in the subset, then combine them (again, average, sum, etc), and update the model parameters.\n",
        "\n",
        "- **Stochastic gradient descent**: we use only one sample of the data to calculate a gradient (hence the name **stochastic**), and with this gradient we update the model before moving on the the next data sample.\n",
        "\n",
        "When we are training networks, we normally define how many **epochs** we want to train. Every time we pass all the samples available in our dataset through our network for training, we have performed an epoch. The table below gives an examples of iterations and epochs for a dataset with 1000 samples and with a mini-batch size of 100:\n",
        "\n",
        "<br>\n",
        "\n",
        "|    | batch | mini-batch | stochastic |\n",
        "| -- | --: | --: | --: |\n",
        "| iterations |  1  | 10 | 1000 |\n",
        "| epochs     |  1  |  1 |    1 |\n",
        "\n",
        "<br>\n",
        "\n",
        "Visually ([gif source](https://medium.com/analytics-vidhya/gradient-descent-optimization-techniques-4316419c5b74)):\n",
        "<center><img src=\"https://miro.medium.com/max/1400/1*m4taSeNUZzTiEr-aSv1c3w.gif\" width=\"600\"/></center>\n",
        "\n",
        "\n",
        "**NOTE**:\n",
        "`PyTorch` calls its mini-batch optimiser SGC (for stochastic gradient descent), which can be confusing. It is a nomenclature convention they use which is different from the one used here.\n",
        "\n",
        "<br>\n",
        "\n",
        "PyTorch provides different optimisers we can use.\n",
        "\n",
        "Two of the most common optimisers are **SGD with momentum** and **Adam**, and during this module we will use them quite a lot, but it is a good exercise to experiment with other algorithms."
      ],
      "metadata": {
        "id": "EpG030cdYAjQ"
      }
    },
    {
      "cell_type": "code",
      "source": [
        " %%html\n",
        "<iframe src=\"https://pytorch.org/docs/stable/optim.html\" width=\"1200\" height=\"700\"></iframe>"
      ],
      "metadata": {
        "colab": {
          "base_uri": "https://localhost:8080/",
          "height": 725
        },
        "outputId": "7233b652-f01b-4741-8110-2782f14eef9d",
        "id": "rsKU0H4MYAjQ"
      },
      "execution_count": null,
      "outputs": [
        {
          "output_type": "display_data",
          "data": {
            "text/plain": [
              "<IPython.core.display.HTML object>"
            ],
            "text/html": [
              "<iframe src=\"https://pytorch.org/docs/stable/optim.html\" width=\"1200\" height=\"700\"></iframe>\n"
            ]
          },
          "metadata": {}
        }
      ]
    },
    {
      "cell_type": "markdown",
      "source": [
        "even though, at the end of the day:\n",
        "\n",
        "<center><img src=\"https://miro.medium.com/max/1000/1*kqPSj6ylpvMf26rAiX7m6g.webp\" width=\"700\"/></center>\n",
        "\n",
        "\n",
        "<br>\n",
        "\n",
        "---\n",
        "\n",
        "<br>"
      ],
      "metadata": {
        "id": "d7Ra8ZjXYAjQ"
      }
    },
    {
      "cell_type": "markdown",
      "source": [
        "### *Exercise*\n",
        "\n",
        "We will now revisit the network we implemented on the first day, but we will add a few modifications:\n",
        "\n",
        "1. Add one extra layer to the network.\n",
        "2. Add biases.\n",
        "3. Change the activation functions\n",
        "4. Change the batch size (from pure SGD to full batch)\n",
        "5. Modify the learning rate and observe what happens to the loss and accuracy evolution curves\n",
        "6. Change the random seed\n",
        "\n",
        "Also, discuss and try to justify which modifications make sense in this context."
      ],
      "metadata": {
        "id": "aGW0V_66GBhe"
      }
    },
    {
      "cell_type": "code",
      "source": [
        "# create a simple network\n",
        "class simpleFFN(nn.Module):\n",
        "  def __init__(self):\n",
        "    super(simpleFFN, self).__init__()\n",
        "    self.hidden_1 = nn.Linear(784, 400, bias=False)\n",
        "    self.hidden_2 = nn.Linear(400, 200, bias=False)             ### add bias terms\n",
        "    self.hidden_3 = nn.Linear(200, 50,bias=True)\n",
        "    ## add a new activation layer\n",
        "    self.output = nn.Linear(50, 10, bias=False)\n",
        "    self.activation = nn.ReLU() ### modify the activation function\n",
        "\n",
        "  def forward(self, X):\n",
        "    z1 = self.hidden_1(X)\n",
        "    a1 = self.activation(z1)\n",
        "    z2 = self.hidden_2(a1)\n",
        "    a2 = self.activation(z2)           ### modify the forward pass to include the new layer\n",
        "    z3 = self.hidden_3(a2)\n",
        "    a3 = self.activation(z3)\n",
        "    z4 = self.output(a3)\n",
        "    a4 = self.activation(z4)\n",
        "    return a4\n",
        "\n",
        "# test that it runs\n",
        "x = torch.randn((1, 1, 784))\n",
        "model = simpleFFN()\n",
        "y = model(x)\n",
        "print(y)\n",
        "print(model)"
      ],
      "metadata": {
        "id": "WNlT1-zQ05ox",
        "outputId": "4c86122a-311c-47aa-b1db-0aa055445b79",
        "colab": {
          "base_uri": "https://localhost:8080/"
        }
      },
      "execution_count": 5,
      "outputs": [
        {
          "output_type": "stream",
          "name": "stdout",
          "text": [
            "tensor([[[0.0129, 0.0031, 0.0334, 0.0039, 0.0000, 0.0000, 0.0000, 0.0009,\n",
            "          0.0593, 0.0181]]], grad_fn=<ReluBackward0>)\n",
            "simpleFFN(\n",
            "  (hidden_1): Linear(in_features=784, out_features=400, bias=False)\n",
            "  (hidden_2): Linear(in_features=400, out_features=200, bias=False)\n",
            "  (hidden_3): Linear(in_features=200, out_features=50, bias=True)\n",
            "  (output): Linear(in_features=50, out_features=10, bias=False)\n",
            "  (activation): ReLU()\n",
            ")\n"
          ]
        }
      ]
    },
    {
      "cell_type": "code",
      "source": [
        "# download MNIST\n",
        "mnist_train = MNIST(\"./\", download=True, train=True)\n",
        "mnist_test = MNIST(\"./\", download=True, train=False)"
      ],
      "metadata": {
        "id": "u9m0Kg3QEzxI",
        "outputId": "63731440-9070-4e41-cb95-5af6f31f15f6",
        "colab": {
          "base_uri": "https://localhost:8080/"
        }
      },
      "execution_count": 6,
      "outputs": [
        {
          "output_type": "stream",
          "name": "stdout",
          "text": [
            "Downloading http://yann.lecun.com/exdb/mnist/train-images-idx3-ubyte.gz\n",
            "Downloading http://yann.lecun.com/exdb/mnist/train-images-idx3-ubyte.gz to ./MNIST/raw/train-images-idx3-ubyte.gz\n"
          ]
        },
        {
          "output_type": "stream",
          "name": "stderr",
          "text": [
            "100%|██████████| 9912422/9912422 [00:00<00:00, 118834261.54it/s]"
          ]
        },
        {
          "output_type": "stream",
          "name": "stdout",
          "text": [
            "Extracting ./MNIST/raw/train-images-idx3-ubyte.gz to ./MNIST/raw\n"
          ]
        },
        {
          "output_type": "stream",
          "name": "stderr",
          "text": [
            "\n"
          ]
        },
        {
          "output_type": "stream",
          "name": "stdout",
          "text": [
            "\n",
            "Downloading http://yann.lecun.com/exdb/mnist/train-labels-idx1-ubyte.gz\n",
            "Downloading http://yann.lecun.com/exdb/mnist/train-labels-idx1-ubyte.gz to ./MNIST/raw/train-labels-idx1-ubyte.gz\n"
          ]
        },
        {
          "output_type": "stream",
          "name": "stderr",
          "text": [
            "100%|██████████| 28881/28881 [00:00<00:00, 84651078.84it/s]\n"
          ]
        },
        {
          "output_type": "stream",
          "name": "stdout",
          "text": [
            "Extracting ./MNIST/raw/train-labels-idx1-ubyte.gz to ./MNIST/raw\n",
            "\n",
            "Downloading http://yann.lecun.com/exdb/mnist/t10k-images-idx3-ubyte.gz\n",
            "Downloading http://yann.lecun.com/exdb/mnist/t10k-images-idx3-ubyte.gz to ./MNIST/raw/t10k-images-idx3-ubyte.gz\n"
          ]
        },
        {
          "output_type": "stream",
          "name": "stderr",
          "text": [
            "100%|██████████| 1648877/1648877 [00:00<00:00, 41386501.88it/s]"
          ]
        },
        {
          "output_type": "stream",
          "name": "stdout",
          "text": [
            "Extracting ./MNIST/raw/t10k-images-idx3-ubyte.gz to ./MNIST/raw\n"
          ]
        },
        {
          "output_type": "stream",
          "name": "stderr",
          "text": [
            "\n"
          ]
        },
        {
          "output_type": "stream",
          "name": "stdout",
          "text": [
            "\n",
            "Downloading http://yann.lecun.com/exdb/mnist/t10k-labels-idx1-ubyte.gz\n",
            "Downloading http://yann.lecun.com/exdb/mnist/t10k-labels-idx1-ubyte.gz to ./MNIST/raw/t10k-labels-idx1-ubyte.gz\n"
          ]
        },
        {
          "output_type": "stream",
          "name": "stderr",
          "text": [
            "100%|██████████| 4542/4542 [00:00<00:00, 17871040.12it/s]\n"
          ]
        },
        {
          "output_type": "stream",
          "name": "stdout",
          "text": [
            "Extracting ./MNIST/raw/t10k-labels-idx1-ubyte.gz to ./MNIST/raw\n",
            "\n"
          ]
        }
      ]
    },
    {
      "cell_type": "code",
      "source": [
        "# split the data\n",
        "shuffler = StratifiedShuffleSplit(n_splits=1, test_size=0.1, random_state=42).split(mnist_train.train_data, mnist_train.train_labels)\n",
        "indices = [(train_idx, validation_idx) for train_idx, validation_idx in shuffler][0]\n",
        "\n",
        "# define an standardisation function\n",
        "def apply_standardization(X):\n",
        "  X /= 255.\n",
        "  X -= 0.1307\n",
        "  X /= 0.3081\n",
        "  return X\n",
        "\n",
        "# standardise the data\n",
        "X_train, y_train = apply_standardization(mnist_train.train_data[indices[0]].float()), mnist_train.train_labels[indices[0]]\n",
        "X_val, y_val = apply_standardization(mnist_train.train_data[indices[1]].float()), mnist_train.train_labels[indices[1]]\n",
        "X_test, y_test =  apply_standardization(mnist_test.test_data.float()), mnist_test.test_labels"
      ],
      "metadata": {
        "id": "HYqjkRTPE4tO",
        "outputId": "cf1a27e2-cd16-4aab-b6a4-01fc4a2471b2",
        "colab": {
          "base_uri": "https://localhost:8080/"
        }
      },
      "execution_count": 7,
      "outputs": [
        {
          "output_type": "stream",
          "name": "stderr",
          "text": [
            "/usr/local/lib/python3.10/dist-packages/torchvision/datasets/mnist.py:75: UserWarning: train_data has been renamed data\n",
            "  warnings.warn(\"train_data has been renamed data\")\n",
            "/usr/local/lib/python3.10/dist-packages/torchvision/datasets/mnist.py:65: UserWarning: train_labels has been renamed targets\n",
            "  warnings.warn(\"train_labels has been renamed targets\")\n",
            "/usr/local/lib/python3.10/dist-packages/torchvision/datasets/mnist.py:75: UserWarning: train_data has been renamed data\n",
            "  warnings.warn(\"train_data has been renamed data\")\n",
            "/usr/local/lib/python3.10/dist-packages/torchvision/datasets/mnist.py:65: UserWarning: train_labels has been renamed targets\n",
            "  warnings.warn(\"train_labels has been renamed targets\")\n",
            "/usr/local/lib/python3.10/dist-packages/torchvision/datasets/mnist.py:80: UserWarning: test_data has been renamed data\n",
            "  warnings.warn(\"test_data has been renamed data\")\n",
            "/usr/local/lib/python3.10/dist-packages/torchvision/datasets/mnist.py:70: UserWarning: test_labels has been renamed targets\n",
            "  warnings.warn(\"test_labels has been renamed targets\")\n"
          ]
        }
      ]
    },
    {
      "cell_type": "code",
      "source": [
        "# create the TensorDatasets containing mnist_train, mnist_validate, and mnist_test\n",
        "mnist_train = TensorDataset(X_train, y_train.long())\n",
        "mnist_validate = TensorDataset(X_val, y_val.long())\n",
        "mnist_test = TensorDataset(X_test, y_test.long())"
      ],
      "metadata": {
        "id": "l39A5Ml1FCft"
      },
      "execution_count": 8,
      "outputs": []
    },
    {
      "cell_type": "code",
      "source": [
        "# implement training and validation functions\n",
        "\n",
        "def train(model, optimizer, criterion, data_loader):\n",
        "    model.train()                         # the model is in the training mode so the parameters(weights)to be optimised will be updated\n",
        "    train_loss, train_accuracy = 0, 0     # initialise loss and accuracy to 0 for training\n",
        "    for X, y in data_loader:              # iterate over the mini-batches defined in the data loader\n",
        "        X, y = X.to(device), y.to(device) # send data to the device (GPU in our case)\n",
        "        optimizer.zero_grad()             # resetting optimiser info\n",
        "        a2 = model(X.view(-1, 28*28))     # forward pass\n",
        "        loss = criterion(a2, y)           # compute loss\n",
        "        loss.backward()                   # backpropagation to calculate the gradients\n",
        "        train_loss += loss*X.size(0)      # # add it up for different mini-batches and undo loss normalisation\n",
        "        y_pred = F.log_softmax(a2, dim=1).max(1)[1]  # get predictions\n",
        "        train_accuracy += accuracy_score(y.cpu().numpy(), y_pred.detach().cpu().numpy())*X.size(0) # compute accuracy\n",
        "        optimizer.step()                  # perform a step of gradient descent\n",
        "\n",
        "    return train_loss/len(data_loader.dataset), train_accuracy/len(data_loader.dataset)  # here we can average over the whole dataset\n",
        "\n",
        "\n",
        "def validate(model, criterion, data_loader):      # does not need optimiser\n",
        "    model.eval()                                  # model is set to evaluation mode so no dropout or any other funny stuff here\n",
        "    validation_loss, validation_accuracy = 0., 0. # initialise loss and accuracy to 0 for training\n",
        "    for X, y in data_loader:                      # iterate over the mini-batches defined in the data loader\n",
        "        with torch.no_grad():                     # deactivates autograd engine\n",
        "            X, y = X.to(device), y.to(device)     # send data to the device (GPU in our case)\n",
        "            a2 = model(X.view(-1, 28*28))         # forward pass\n",
        "            loss = criterion(a2, y)               # evaluate loss\n",
        "            validation_loss += loss*X.size(0)     # add it up for different mini-batches and undo loss normalisation\n",
        "            y_pred = F.log_softmax(a2, dim=1).max(1)[1]  # get predictions\n",
        "            validation_accuracy += accuracy_score(y.cpu().numpy(), y_pred.cpu().numpy())*X.size(0) # compute accuracy\n",
        "\n",
        "    return validation_loss/len(data_loader.dataset), validation_accuracy/len(data_loader.dataset)  # here we can average over the whole dataset"
      ],
      "metadata": {
        "id": "KbWyTwASFDPv"
      },
      "execution_count": 9,
      "outputs": []
    },
    {
      "cell_type": "code",
      "source": [
        "# set hyperparameters\n",
        "\n",
        "seed = 42### change the random seed (what happens if we change it??)\n",
        "lr = 1e-2### change the learning rate\n",
        "momentum = 0.9\n",
        "batch_size = 32### change the batch size\n",
        "test_batch_size = 1000\n",
        "n_epochs = 30\n",
        "\n",
        "set_seed(seed)\n",
        "model = simpleFFN().to(device)                                              # instantiate model and send it to the GPU\n",
        "optimizer = torch.optim.SGD(model.parameters(), lr=lr, momentum=momentum)   # instantiate the optimizer\n",
        "criterion = nn.CrossEntropyLoss()"
      ],
      "metadata": {
        "id": "ovYwQ3ZBFOsj"
      },
      "execution_count": 10,
      "outputs": []
    },
    {
      "cell_type": "code",
      "source": [
        "# create DataLoaders\n",
        "\n",
        "train_loader = DataLoader(mnist_train, batch_size=batch_size, shuffle=True, num_workers=0) ## num_workers=0 means that the main process will retrieve the data.\n",
        "validation_loader = DataLoader(mnist_validate, batch_size=test_batch_size, shuffle=False, num_workers=0)\n",
        "test_loader = DataLoader(mnist_test, batch_size=test_batch_size, shuffle=False, num_workers=0)"
      ],
      "metadata": {
        "id": "Db_8ocXSFaQG"
      },
      "execution_count": 11,
      "outputs": []
    },
    {
      "cell_type": "code",
      "source": [
        "# train for the number of epochs specified\n",
        "\n",
        "set_seed(seed)\n",
        "liveloss = PlotLosses()    # plots evolution of loss and accuracy\n",
        "for epoch in range(n_epochs):\n",
        "    logs = {}\n",
        "    train_loss, train_accuracy = train(model, optimizer, criterion, train_loader)\n",
        "\n",
        "    logs['' + 'log loss'] = train_loss.item()\n",
        "    logs['' + 'accuracy'] = train_accuracy.item()\n",
        "\n",
        "    validation_loss, validation_accuracy = validate(model, criterion, validation_loader)\n",
        "    logs['val_' + 'log loss'] = validation_loss.item()\n",
        "    logs['val_' + 'accuracy'] = validation_accuracy.item()\n",
        "\n",
        "    liveloss.update(logs)\n",
        "    liveloss.draw()\n",
        "    print(validation_loss.item())"
      ],
      "metadata": {
        "id": "NPO7na2IFkNp",
        "outputId": "8227f8d3-dabc-40e7-c14b-ffae51552986",
        "colab": {
          "base_uri": "https://localhost:8080/",
          "height": 599
        }
      },
      "execution_count": 12,
      "outputs": [
        {
          "output_type": "display_data",
          "data": {
            "text/plain": [
              "<Figure size 1200x800 with 2 Axes>"
            ],
            "image/png": "[encoded data removed]"
          },
          "metadata": {}
        },
        {
          "output_type": "stream",
          "name": "stdout",
          "text": [
            "accuracy\n",
            "\ttraining         \t (min:    0.899, max:    1.000, cur:    1.000)\n",
            "\tvalidation       \t (min:    0.958, max:    0.986, cur:    0.986)\n",
            "log loss\n",
            "\ttraining         \t (min:    0.000, max:    0.332, cur:    0.000)\n",
            "\tvalidation       \t (min:    0.083, max:    0.139, cur:    0.110)\n",
            "0.10962896794080734\n"
          ]
        }
      ]
    },
    {
      "cell_type": "markdown",
      "source": [
        "<br>\n",
        "\n",
        "---\n",
        "\n",
        "<br>\n"
      ],
      "metadata": {
        "id": "4pEeg1_rKzIO"
      }
    },
    {
      "cell_type": "code",
      "source": [
        "from torchsummary import summary\n",
        "summary(model,(1,28*28))"
      ],
      "metadata": {
        "id": "MVwraLS_Lxa_",
        "outputId": "d6ad75e3-5a09-434b-c3fe-5b6939e0a695",
        "colab": {
          "base_uri": "https://localhost:8080/"
        }
      },
      "execution_count": 13,
      "outputs": [
        {
          "output_type": "stream",
          "name": "stdout",
          "text": [
            "----------------------------------------------------------------\n",
            "        Layer (type)               Output Shape         Param #\n",
            "================================================================\n",
            "            Linear-1               [-1, 1, 400]         313,600\n",
            "              ReLU-2               [-1, 1, 400]               0\n",
            "            Linear-3               [-1, 1, 200]          80,000\n",
            "              ReLU-4               [-1, 1, 200]               0\n",
            "            Linear-5                [-1, 1, 50]          10,050\n",
            "              ReLU-6                [-1, 1, 50]               0\n",
            "            Linear-7                [-1, 1, 10]             500\n",
            "              ReLU-8                [-1, 1, 10]               0\n",
            "================================================================\n",
            "Total params: 404,150\n",
            "Trainable params: 404,150\n",
            "Non-trainable params: 0\n",
            "----------------------------------------------------------------\n",
            "Input size (MB): 0.00\n",
            "Forward/backward pass size (MB): 0.01\n",
            "Params size (MB): 1.54\n",
            "Estimated Total Size (MB): 1.55\n",
            "----------------------------------------------------------------\n"
          ]
        }
      ]
    },
    {
      "cell_type": "code",
      "source": [
        "X_train.size()"
      ],
      "metadata": {
        "id": "muWldd_jM2o-",
        "outputId": "b1c69c62-1897-4ad0-93df-89553c99eab4",
        "colab": {
          "base_uri": "https://localhost:8080/"
        }
      },
      "execution_count": 14,
      "outputs": [
        {
          "output_type": "execute_result",
          "data": {
            "text/plain": [
              "torch.Size([54000, 28, 28])"
            ]
          },
          "metadata": {},
          "execution_count": 14
        }
      ]
    },
    {
      "cell_type": "markdown",
      "source": [
        "## 5. Bias and variance, and regularisers:\n",
        "\n",
        "#### **Bias and variance**:\n",
        "\n",
        "<center><img src=\"https://miro.medium.com/max/1400/1*LMExgwNg1emIEaN88TaU0g.png\" width=\"600\"/></center>\n",
        "\n",
        "**Bias** (or underfitting) and **variance** (or overfitting) analogy in polynomial fitting:\n",
        "\n",
        "<br>\n",
        "\n",
        "<center><img src=\"https://drive.google.com/uc?id=1SyqF66YZRxX5xgOcZ1aC2T-7uFhuTTGP\" width=\"800\"/></center>\n",
        "\n",
        "<br>\n",
        "\n",
        "The capacity of the model is closely related to the model complexity. Increasing the capacity of a model increases how expressive a model can be, or in other words, how much variation in the data it can accomodate. The capacity of the model has to be adapted to correctly capture the distribution of the data in the dataset.\n",
        "\n",
        "<br>\n",
        "\n",
        "<p align = \"center\"><img src=\"https://drive.google.com/uc?id=1BeJ0cZlrBAvy5Ep_sD0hebwqvVLGZj1s\" width=\"800\"/></p><p align = \"center\">\n",
        "<i>image from the book Deep learning (Goodfellow et. al 2016)</i>\n",
        "</p>\n",
        "\n",
        "<br>\n",
        "\n",
        "We have already seen a case of bias (or underfitting) in the first training we did on Monday:\n",
        "\n",
        "<p align = \"center\"><img src=\"https://drive.google.com/uc?id=1Tcu2e0HBnlvqQpHVNx4HAoMbRdtiqUYR\" width=\"600\"/></p><p align = \"center\">\n",
        "<i>the model does not have enough capacity to predict the correct digits</i>\n",
        "</p>\n",
        "\n",
        "<br>\n",
        "\n",
        "and from the exercise we did this morning, we can see a clear case of variance (overfitting):\n",
        "\n",
        "<p align = \"center\"><img src=\"https://drive.google.com/uc?id=1inwH-1UvYFh9IVYYXiigV783rIJkoplu\" width=\"600\"/></p><p align = \"center\">\n",
        "<i>the model does not have enough capacity to predict the correct digits</i>\n",
        "</p>\n",
        "\n",
        "<br>\n",
        "\n",
        "The natural solution to avoid underfitting is to increase the capacity of our models, but to avoid overfitting is less straightforward. Sometimes we want to keep the expressivity of the model, but avoid overfitting to the training set.\n",
        "\n",
        "A common strategy to solve this overfitting problem is to add **regularisation**, which aims at reducing variance (overfitting) without increasing bias (underfitting).\n",
        "\n",
        "Regularisers can be:\n",
        "\n",
        "- **explicit regularisers**: add terms to the loss definition\n",
        "\n",
        "or\n",
        "\n",
        "- **implicit regularisers**: adopt strategies that mitigate overfitting by any other means, for example dropout, or data augmentation.\n",
        "\n",
        "<br>\n",
        "\n",
        "#### **Explicit regularisers**\n",
        "\n",
        "There is a wide range of explicit regularisers we could use (some people even use networks as added terms to the loss). But the two most common ones are:\n",
        "\n",
        "-$L_1$:\n",
        "\n",
        "<p align = \"center\"><img src=\"https://drive.google.com/uc?id=15IP5FCi9yC6XdhIDPpDa1Wd8BydKoJxI\" width=\"400\"/></p><p align = \"center\">\n",
        "</p>\n",
        "\n",
        "<br>\n",
        "\n",
        "-$L_2$\n",
        "\n",
        "<p align = \"center\"><img src=\"https://drive.google.com/uc?id=14dU7hmRz8fa0ivei4vD5U_Tfq1kHH0SQ\" width=\"400\"/></p><p align = \"center\">\n",
        "</p>\n",
        "\n",
        "Where in both cases the parameter $\\lambda$ controls the strength of the regularisation. Is this a hyperparameter? And how do we choose the optimal one?\n",
        "\n",
        "\n",
        "<p align = \"center\"><img src=\"https://drive.google.com/uc?id=1z293J_DJxc6Dv5CXCSiU7It4mzwFWoZ0\" width=\"600\"/></p><p align = \"center\">\n",
        "</p>\n",
        "\n",
        "We try different values of $\\lambda$ and select the best one.\n",
        "\n",
        "<br>\n",
        "\n",
        "#### **Implicit regularisers**\n",
        "\n",
        "We will cover three examples of implicit regularisers in this section: dropout, data augmentation, and batch normalisation. We focus on these three because they are routinely used in deep learning, and they have proven to be robust solutions in a wide variety of problems.\n",
        "\n",
        "\n",
        "#### **- Dropout**\n",
        "\n",
        "\n",
        "\n",
        "<p align = \"center\"><img src=\"https://drive.google.com/uc?id=12zFVeSJXHtwMecwaifMSrWjTpTN4UFOj\" width=\"800\"/></p><p align = \"center\">\n",
        "image from <i>Dropout: A Simple Way to Prevent Neural Networks from Overfitting (Srivastava, Hinton, et al 2014)</i>\n",
        "</p>\n",
        "\n",
        "<br>\n",
        "\n",
        "<p><img src=\"https://drive.google.com/uc?id=1A9MkG4xqt7ag7j3RZaU2sfsCGU4RUBjn\" width=\"1000\"/></p><p>\n",
        "</p>\n",
        "\n",
        "<br>\n",
        "\n",
        "Dropout is implemented by defining a parameter $p$ that defines the probability of a neuron in a layer to be dropped, and it is only applied during training. During inference (when we are using a trained model), we don't apply dropout, but instead scale the outputs of the neurons by a factor $p$ to keep the magnitude of the data consistent as it goes through the network.\n",
        "\n",
        "Remember the `model.train()` and `model.eval()` we saw with Debbie? Here it would activate or deactive the dropout in the `nn.Module` we define.\n",
        "\n",
        "A video by Hinton explaining it in more detail [here](https://www.youtube.com/watch?v=kAwF--GJ-ek)\n",
        "\n",
        "Finally, dropout can also be interpreted as a form of [ensemble learning](https://machinelearningmastery.com/tour-of-ensemble-learning-algorithms/).\n",
        "\n",
        "<br>\n",
        "\n",
        "#### **- Data augmentation**\n",
        "\n",
        "Data augmentation is a strategy to increase our dataset by generating new samples based on the original dataset. These modifications should not change the ideal response of the network to them. Common strategies to augment image datasets are:\n",
        "- rotate\n",
        "- translate\n",
        "- zoom\n",
        "- crop\n",
        "- add noise\n",
        "- change brightness level\n",
        "\n",
        "<br>\n",
        "\n",
        "<p><img src=\"https://drive.google.com/uc?id=18PnNn5wWkA8kRaJmJOa64dBiBFOqpfHt\" width=\"800\"/></p><p>\n",
        "</p>\n",
        "\n",
        "<br>\n",
        "\n",
        "#### **- Batch normalisation**\n",
        "\n",
        "\n",
        "\n",
        "Batch normalisation is based on normalising the outputs of the neurons (normally applied after activations, but could be applied before too). We have already seen that it is desirable to standardise the inputs, and batch normalisation extends this concept to the layers of the model.\n",
        "\n",
        "This normalisation is controled by parameters that are also updated during training.\n",
        "\n",
        "There are different interpretations of what batch normalisation does. Some people interpret it as a means to reduce the internal covariate shift (see [original paper](https://arxiv.org/abs/1502.03167) for details), but more recent developments seem to point that it acts as a regulariser that smooths the objective function (and therefore make it better suited to gradient descent minimisation methods).\n",
        "\n",
        "***internal covariate shift***: *changes in the distribution of data as it navigates through the layers of the networks have.*\n",
        "\n",
        "In summary, batch normalisation:\n",
        "\n",
        "- Normalise(standardise) values at each layer of the network, instead of just on input layer.\n",
        "- Accelerates training by stabilizing the layer changes through the iterations.\n",
        "- Provides some regularization, like dropout, but not as strong (open topic of discussion).\n",
        "- Batch normalisation should really be called batch standardization.\n",
        "It reduces the probability that vanishing or exploding gradients occur.\n",
        "\n",
        "[A good video by Andrew Ng](https://www.youtube.com/watch?v=tNIpEZLv_eg) on this topic\n",
        "\n"
      ],
      "metadata": {
        "id": "MMBI_ljFKpCi"
      }
    }
  ]
}