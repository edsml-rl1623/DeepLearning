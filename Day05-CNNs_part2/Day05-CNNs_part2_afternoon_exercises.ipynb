{
  "nbformat": 4,
  "nbformat_minor": 0,
  "metadata": {
    "colab": {
      "provenance": []
    },
    "kernelspec": {
      "name": "python3",
      "display_name": "Python 3"
    },
    "language_info": {
      "name": "python"
    },
    "gpuClass": "standard",
    "accelerator": "GPU"
  },
  "cells": [
    {
      "cell_type": "markdown",
      "source": [
        "<img src=\"https://drive.google.com/uc?id=1DvKhAzLtk-Hilu7Le73WAOz2EBR5d41G\" width=\"500\"/>\n",
        "\n",
        "---\n"
      ],
      "metadata": {
        "id": "9YehS8enAmDn"
      }
    },
    {
      "cell_type": "markdown",
      "source": [
        "# **CNNs: convolutional neural networks (part 2)**\n",
        "\n",
        "#### **Morning contents/agenda**\n",
        "\n",
        "1. Commonly used datasets in computer vision\n",
        "\n",
        "2. Important CNN architectures\n",
        "\n",
        "3. U-nets and upsampling (unpooling & transpose convolutions)\n",
        "\n",
        "4. Transfer learning\n",
        "\n",
        "5. Summary of CNNs\n",
        "\n",
        "#### **Learning outcomes**\n",
        "\n",
        "1. Awareness of well-established CNN architectures\n",
        "\n",
        "2. Undersand how to upsample data\n",
        "\n",
        "3. Understand how and why transfer learning is used\n",
        "\n",
        "#### **Afternoon contents/agenda**\n",
        "\n",
        "1. Inspection of CNN filters\n",
        "\n",
        "2. Transfer learning from ImageNet to Bees and Ants\n",
        "\n",
        "#### **Learning outcomes**\n",
        "\n",
        "1. Become familiar with the effect that filters have (sometimes you can interpret them, sometimes they have abstracted the data too far to develop intuitions)\n",
        "\n",
        "2. Hands-on knowledge on how to apply transfer learning\n",
        "\n",
        "\n",
        "<br/>\n",
        "\n",
        "---\n",
        "\n",
        "<br/>"
      ],
      "metadata": {
        "id": "BV8Up_Q3Z5La"
      }
    },
    {
      "cell_type": "code",
      "source": [
        "!pip install pycm livelossplot\n",
        "%pylab inline\n",
        "\n",
        "from sklearn.metrics import accuracy_score\n",
        "from sklearn.model_selection import StratifiedShuffleSplit\n",
        "\n",
        "from livelossplot import PlotLosses\n",
        "from pycm import *\n",
        "\n",
        "import torch\n",
        "import torch.nn as nn\n",
        "import torch.nn.functional as F\n",
        "from torch.utils.data import TensorDataset, DataLoader\n",
        "import torchvision.datasets\n",
        "import torchvision.transforms as transforms\n",
        "from torchvision.datasets import MNIST\n",
        "from torchsummary import summary\n",
        "\n",
        "\n",
        "import matplotlib.pyplot as plt\n",
        "import numpy as np\n",
        "import random"
      ],
      "metadata": {
        "colab": {
          "base_uri": "https://localhost:8080/"
        },
        "id": "_kYki018eTFJ",
        "outputId": "78dbea5f-33aa-40ae-cc23-848f960ceef5"
      },
      "execution_count": 6,
      "outputs": [
        {
          "output_type": "stream",
          "name": "stdout",
          "text": [
            "Collecting pycm\n",
            "  Downloading pycm-4.0-py3-none-any.whl (70 kB)\n",
            "\u001b[?25l     \u001b[90m━━━━━━━━━━━━━━━━━━━━━━━━━━━━━━━━━━━━━━━━\u001b[0m \u001b[32m0.0/70.3 kB\u001b[0m \u001b[31m?\u001b[0m eta \u001b[36m-:--:--\u001b[0m\r\u001b[2K     \u001b[90m━━━━━━━━━━━━━━━━━━━━━━━━━━━━━━━━━━━━━━━━\u001b[0m \u001b[32m70.3/70.3 kB\u001b[0m \u001b[31m2.2 MB/s\u001b[0m eta \u001b[36m0:00:00\u001b[0m\n",
            "\u001b[?25hCollecting livelossplot\n",
            "  Downloading livelossplot-0.5.5-py3-none-any.whl (22 kB)\n",
            "Collecting art>=1.8 (from pycm)\n",
            "  Downloading art-6.1-py3-none-any.whl (599 kB)\n",
            "\u001b[2K     \u001b[90m━━━━━━━━━━━━━━━━━━━━━━━━━━━━━━━━━━━━━━━━\u001b[0m \u001b[32m599.8/599.8 kB\u001b[0m \u001b[31m23.4 MB/s\u001b[0m eta \u001b[36m0:00:00\u001b[0m\n",
            "\u001b[?25hRequirement already satisfied: numpy>=1.9.0 in /usr/local/lib/python3.10/dist-packages (from pycm) (1.23.5)\n",
            "Requirement already satisfied: matplotlib in /usr/local/lib/python3.10/dist-packages (from livelossplot) (3.7.1)\n",
            "Requirement already satisfied: bokeh in /usr/local/lib/python3.10/dist-packages (from livelossplot) (3.3.1)\n",
            "Requirement already satisfied: Jinja2>=2.9 in /usr/local/lib/python3.10/dist-packages (from bokeh->livelossplot) (3.1.2)\n",
            "Requirement already satisfied: contourpy>=1 in /usr/local/lib/python3.10/dist-packages (from bokeh->livelossplot) (1.2.0)\n",
            "Requirement already satisfied: packaging>=16.8 in /usr/local/lib/python3.10/dist-packages (from bokeh->livelossplot) (23.2)\n",
            "Requirement already satisfied: pandas>=1.2 in /usr/local/lib/python3.10/dist-packages (from bokeh->livelossplot) (1.5.3)\n",
            "Requirement already satisfied: pillow>=7.1.0 in /usr/local/lib/python3.10/dist-packages (from bokeh->livelossplot) (9.4.0)\n",
            "Requirement already satisfied: PyYAML>=3.10 in /usr/local/lib/python3.10/dist-packages (from bokeh->livelossplot) (6.0.1)\n",
            "Requirement already satisfied: tornado>=5.1 in /usr/local/lib/python3.10/dist-packages (from bokeh->livelossplot) (6.3.2)\n",
            "Requirement already satisfied: xyzservices>=2021.09.1 in /usr/local/lib/python3.10/dist-packages (from bokeh->livelossplot) (2023.10.1)\n",
            "Requirement already satisfied: cycler>=0.10 in /usr/local/lib/python3.10/dist-packages (from matplotlib->livelossplot) (0.12.1)\n",
            "Requirement already satisfied: fonttools>=4.22.0 in /usr/local/lib/python3.10/dist-packages (from matplotlib->livelossplot) (4.45.1)\n",
            "Requirement already satisfied: kiwisolver>=1.0.1 in /usr/local/lib/python3.10/dist-packages (from matplotlib->livelossplot) (1.4.5)\n",
            "Requirement already satisfied: pyparsing>=2.3.1 in /usr/local/lib/python3.10/dist-packages (from matplotlib->livelossplot) (3.1.1)\n",
            "Requirement already satisfied: python-dateutil>=2.7 in /usr/local/lib/python3.10/dist-packages (from matplotlib->livelossplot) (2.8.2)\n",
            "Requirement already satisfied: MarkupSafe>=2.0 in /usr/local/lib/python3.10/dist-packages (from Jinja2>=2.9->bokeh->livelossplot) (2.1.3)\n",
            "Requirement already satisfied: pytz>=2020.1 in /usr/local/lib/python3.10/dist-packages (from pandas>=1.2->bokeh->livelossplot) (2023.3.post1)\n",
            "Requirement already satisfied: six>=1.5 in /usr/local/lib/python3.10/dist-packages (from python-dateutil>=2.7->matplotlib->livelossplot) (1.16.0)\n",
            "Installing collected packages: art, pycm, livelossplot\n",
            "Successfully installed art-6.1 livelossplot-0.5.5 pycm-4.0\n",
            "Populating the interactive namespace from numpy and matplotlib\n"
          ]
        }
      ]
    },
    {
      "cell_type": "code",
      "source": [
        "def set_seed(seed):\n",
        "    \"\"\"\n",
        "    Use this to set ALL the random seeds to a fixed value and take out any randomness from cuda kernels\n",
        "    \"\"\"\n",
        "    random.seed(seed)\n",
        "    np.random.seed(seed)\n",
        "    torch.manual_seed(seed)\n",
        "    torch.cuda.manual_seed_all(seed)\n",
        "\n",
        "    torch.backends.cudnn.benchmark = False  ##uses the inbuilt cudnn auto-tuner to find the fastest convolution algorithms. -\n",
        "    torch.backends.cudnn.enabled   = False\n",
        "\n",
        "    return True\n",
        "\n",
        "device = 'cpu'\n",
        "if torch.cuda.device_count() > 0 and torch.cuda.is_available():\n",
        "    print(\"Cuda installed! Running on GPU!\")\n",
        "    device = 'cuda'\n",
        "else:\n",
        "    print(\"No GPU available!\")"
      ],
      "metadata": {
        "colab": {
          "base_uri": "https://localhost:8080/"
        },
        "id": "LI8sNA9feT3H",
        "outputId": "52cc4461-e203-4038-8a45-61fdcd156258"
      },
      "execution_count": 8,
      "outputs": [
        {
          "output_type": "stream",
          "name": "stdout",
          "text": [
            "Cuda installed! Running on GPU!\n"
          ]
        }
      ]
    },
    {
      "cell_type": "markdown",
      "source": [
        "## 1. Inspection of CNN filters\n",
        "\n",
        "Pytorch provides users with a rich set of pre-trained neural network architectures. These have mostly been pre-trained on imagenet.   \n",
        "[```torchvision.models```](https://pytorch.org/vision/stable/models.html) provides us with an interface to these pretrained deep neural networks.\n",
        "\n",
        "- Load a pretrained [AlexNet](https://arxiv.org/abs/1404.5997) model from ```torchvision.models``` ([Source Code](https://pytorch.org/vision/stable/_modules/torchvision/models/alexnet.html) for AlexNet in Pytorch).\n",
        "\n",
        "- Obtain the weight kernels of the first and second convolutional layers and display them.\n",
        "\n",
        "- Do it again for one (or more) layer of a ResNet18 model and/or any other model you like."
      ],
      "metadata": {
        "id": "sinIebTtMUvs"
      }
    },
    {
      "cell_type": "code",
      "source": [
        "from torchvision import models\n",
        "from torchsummary import summary\n",
        "\n",
        "alexnet = models.alexnet(pretrained=True).to(device)### instantiate a pretrained alexnet\n",
        "### print alexnet\n",
        "print(alexnet)\n",
        "### print a summary of alexnet\n",
        "summary(alexnet, input_size=(3,100,100))"
      ],
      "metadata": {
        "id": "pskzXya6gUN_",
        "colab": {
          "base_uri": "https://localhost:8080/"
        },
        "outputId": "b5ccf9f1-26f6-4081-bdb9-ef99847fb5b6"
      },
      "execution_count": 15,
      "outputs": [
        {
          "output_type": "stream",
          "name": "stderr",
          "text": [
            "/usr/local/lib/python3.10/dist-packages/torchvision/models/_utils.py:208: UserWarning: The parameter 'pretrained' is deprecated since 0.13 and may be removed in the future, please use 'weights' instead.\n",
            "  warnings.warn(\n",
            "/usr/local/lib/python3.10/dist-packages/torchvision/models/_utils.py:223: UserWarning: Arguments other than a weight enum or `None` for 'weights' are deprecated since 0.13 and may be removed in the future. The current behavior is equivalent to passing `weights=AlexNet_Weights.IMAGENET1K_V1`. You can also use `weights=AlexNet_Weights.DEFAULT` to get the most up-to-date weights.\n",
            "  warnings.warn(msg)\n"
          ]
        },
        {
          "output_type": "stream",
          "name": "stdout",
          "text": [
            "AlexNet(\n",
            "  (features): Sequential(\n",
            "    (0): Conv2d(3, 64, kernel_size=(11, 11), stride=(4, 4), padding=(2, 2))\n",
            "    (1): ReLU(inplace=True)\n",
            "    (2): MaxPool2d(kernel_size=3, stride=2, padding=0, dilation=1, ceil_mode=False)\n",
            "    (3): Conv2d(64, 192, kernel_size=(5, 5), stride=(1, 1), padding=(2, 2))\n",
            "    (4): ReLU(inplace=True)\n",
            "    (5): MaxPool2d(kernel_size=3, stride=2, padding=0, dilation=1, ceil_mode=False)\n",
            "    (6): Conv2d(192, 384, kernel_size=(3, 3), stride=(1, 1), padding=(1, 1))\n",
            "    (7): ReLU(inplace=True)\n",
            "    (8): Conv2d(384, 256, kernel_size=(3, 3), stride=(1, 1), padding=(1, 1))\n",
            "    (9): ReLU(inplace=True)\n",
            "    (10): Conv2d(256, 256, kernel_size=(3, 3), stride=(1, 1), padding=(1, 1))\n",
            "    (11): ReLU(inplace=True)\n",
            "    (12): MaxPool2d(kernel_size=3, stride=2, padding=0, dilation=1, ceil_mode=False)\n",
            "  )\n",
            "  (avgpool): AdaptiveAvgPool2d(output_size=(6, 6))\n",
            "  (classifier): Sequential(\n",
            "    (0): Dropout(p=0.5, inplace=False)\n",
            "    (1): Linear(in_features=9216, out_features=4096, bias=True)\n",
            "    (2): ReLU(inplace=True)\n",
            "    (3): Dropout(p=0.5, inplace=False)\n",
            "    (4): Linear(in_features=4096, out_features=4096, bias=True)\n",
            "    (5): ReLU(inplace=True)\n",
            "    (6): Linear(in_features=4096, out_features=1000, bias=True)\n",
            "  )\n",
            ")\n",
            "----------------------------------------------------------------\n",
            "        Layer (type)               Output Shape         Param #\n",
            "================================================================\n",
            "            Conv2d-1           [-1, 64, 24, 24]          23,296\n",
            "              ReLU-2           [-1, 64, 24, 24]               0\n",
            "         MaxPool2d-3           [-1, 64, 11, 11]               0\n",
            "            Conv2d-4          [-1, 192, 11, 11]         307,392\n",
            "              ReLU-5          [-1, 192, 11, 11]               0\n",
            "         MaxPool2d-6            [-1, 192, 5, 5]               0\n",
            "            Conv2d-7            [-1, 384, 5, 5]         663,936\n",
            "              ReLU-8            [-1, 384, 5, 5]               0\n",
            "            Conv2d-9            [-1, 256, 5, 5]         884,992\n",
            "             ReLU-10            [-1, 256, 5, 5]               0\n",
            "           Conv2d-11            [-1, 256, 5, 5]         590,080\n",
            "             ReLU-12            [-1, 256, 5, 5]               0\n",
            "        MaxPool2d-13            [-1, 256, 2, 2]               0\n",
            "AdaptiveAvgPool2d-14            [-1, 256, 6, 6]               0\n",
            "          Dropout-15                 [-1, 9216]               0\n",
            "           Linear-16                 [-1, 4096]      37,752,832\n",
            "             ReLU-17                 [-1, 4096]               0\n",
            "          Dropout-18                 [-1, 4096]               0\n",
            "           Linear-19                 [-1, 4096]      16,781,312\n",
            "             ReLU-20                 [-1, 4096]               0\n",
            "           Linear-21                 [-1, 1000]       4,097,000\n",
            "================================================================\n",
            "Total params: 61,100,840\n",
            "Trainable params: 61,100,840\n",
            "Non-trainable params: 0\n",
            "----------------------------------------------------------------\n",
            "Input size (MB): 0.11\n",
            "Forward/backward pass size (MB): 1.67\n",
            "Params size (MB): 233.08\n",
            "Estimated Total Size (MB): 234.86\n",
            "----------------------------------------------------------------\n"
          ]
        }
      ]
    },
    {
      "cell_type": "code",
      "source": [
        "alexnet.features[0]"
      ],
      "metadata": {
        "id": "tDDlQtXWdnXc",
        "outputId": "1a3cacbb-ad76-4c76-cd63-213518aef1aa",
        "colab": {
          "base_uri": "https://localhost:8080/"
        }
      },
      "execution_count": 17,
      "outputs": [
        {
          "output_type": "execute_result",
          "data": {
            "text/plain": [
              "Conv2d(3, 64, kernel_size=(11, 11), stride=(4, 4), padding=(2, 2))"
            ]
          },
          "metadata": {},
          "execution_count": 17
        }
      ]
    },
    {
      "cell_type": "code",
      "source": [
        "alexnet.features[0].weight.data"
      ],
      "metadata": {
        "id": "HaP2fo-YeBVF",
        "outputId": "55618aaa-1a6e-48cb-f659-19dcba5b5e07",
        "colab": {
          "base_uri": "https://localhost:8080/"
        }
      },
      "execution_count": 21,
      "outputs": [
        {
          "output_type": "execute_result",
          "data": {
            "text/plain": [
              "Parameter containing:\n",
              "tensor([[[[ 1.1864e-01,  9.4069e-02,  9.5435e-02,  ...,  5.5822e-02,\n",
              "            2.1575e-02,  4.9963e-02],\n",
              "          [ 7.4882e-02,  3.8940e-02,  5.2979e-02,  ...,  2.5709e-02,\n",
              "           -1.1299e-02,  4.1590e-03],\n",
              "          [ 7.5425e-02,  3.8779e-02,  5.4930e-02,  ...,  4.3596e-02,\n",
              "            1.0225e-02,  1.3251e-02],\n",
              "          ...,\n",
              "          [ 9.3155e-02,  1.0374e-01,  6.7547e-02,  ..., -2.0277e-01,\n",
              "           -1.2839e-01, -1.1220e-01],\n",
              "          [ 4.3544e-02,  6.4916e-02,  3.6164e-02,  ..., -2.0248e-01,\n",
              "           -1.1376e-01, -1.0719e-01],\n",
              "          [ 4.7369e-02,  6.2543e-02,  2.4758e-02,  ..., -1.1844e-01,\n",
              "           -9.5567e-02, -8.3890e-02]],\n",
              "\n",
              "         [[-7.2634e-02, -5.7996e-02, -8.0661e-02,  ..., -6.0304e-04,\n",
              "           -2.5309e-02,  2.5471e-02],\n",
              "          [-6.9042e-02, -6.7562e-02, -7.6367e-02,  ..., -3.9616e-03,\n",
              "           -3.0402e-02,  1.0477e-02],\n",
              "          [-9.9517e-02, -8.5592e-02, -1.0521e-01,  ..., -2.6587e-02,\n",
              "           -2.2777e-02,  6.6451e-03],\n",
              "          ...,\n",
              "          [-1.5121e-01, -8.8735e-02, -9.6737e-02,  ...,  3.0853e-01,\n",
              "            1.8096e-01,  8.4297e-02],\n",
              "          [-1.4309e-01, -7.5710e-02, -7.2215e-02,  ...,  2.0417e-01,\n",
              "            1.6447e-01,  9.5166e-02],\n",
              "          [-8.5925e-02, -4.0134e-02, -5.1491e-02,  ...,  1.6352e-01,\n",
              "            1.4822e-01,  1.0196e-01]],\n",
              "\n",
              "         [[-2.3596e-02, -2.1258e-03, -2.7761e-02,  ...,  3.9940e-02,\n",
              "           -7.1123e-03,  3.2207e-02],\n",
              "          [ 2.5705e-04,  2.2468e-02,  8.9070e-03,  ...,  1.8771e-02,\n",
              "           -1.4155e-02,  1.8275e-02],\n",
              "          [ 5.4084e-03,  2.9397e-02,  3.3051e-04,  ...,  1.2054e-02,\n",
              "           -2.5237e-03,  8.3515e-03],\n",
              "          ...,\n",
              "          [-6.2826e-02, -1.1655e-02, -6.2080e-02,  ...,  1.0332e-01,\n",
              "           -9.4987e-03, -7.9570e-02],\n",
              "          [-4.5691e-02,  3.3726e-03, -3.9632e-02,  ..., -2.6448e-02,\n",
              "           -3.3500e-02, -7.6398e-02],\n",
              "          [-1.8700e-02,  1.1365e-02, -3.9671e-02,  ..., -6.8563e-02,\n",
              "           -4.1289e-02, -5.5473e-02]]],\n",
              "\n",
              "\n",
              "        [[[-1.9950e-03,  2.9262e-03,  4.8212e-02,  ...,  6.1402e-02,\n",
              "            2.6121e-02,  1.9558e-02],\n",
              "          [-1.2579e-02, -4.8879e-03,  1.8490e-02,  ...,  5.3881e-02,\n",
              "            1.6377e-02,  2.3768e-02],\n",
              "          [ 3.6561e-03, -7.7510e-04,  2.6360e-02,  ..., -2.5849e-02,\n",
              "           -6.1798e-02,  2.6103e-02],\n",
              "          ...,\n",
              "          [-1.0812e-02, -4.6008e-03,  1.5122e-02,  ...,  2.9561e-02,\n",
              "            5.3272e-03,  6.8561e-02],\n",
              "          [ 2.7364e-04, -1.4850e-02,  7.8180e-03,  ...,  2.7172e-02,\n",
              "           -1.8095e-02,  5.2485e-02],\n",
              "          [-5.2470e-02, -4.6578e-02, -1.0951e-02,  ...,  4.3038e-03,\n",
              "           -2.6379e-03,  1.4406e-02]],\n",
              "\n",
              "         [[ 2.3965e-02,  2.2740e-02,  5.7586e-03,  ...,  7.2087e-03,\n",
              "           -2.4652e-02,  4.4658e-02],\n",
              "          [ 2.6914e-02,  4.4892e-02, -1.0872e-03,  ...,  4.4243e-02,\n",
              "           -2.1168e-02,  6.4538e-02],\n",
              "          [ 1.2421e-02,  1.0247e-02, -4.1554e-02,  ..., -1.2134e-01,\n",
              "           -1.6294e-01,  2.6266e-02],\n",
              "          ...,\n",
              "          [ 3.5926e-02,  5.3235e-02,  1.1016e-02,  ...,  1.2710e-02,\n",
              "           -2.9737e-02,  8.5926e-02],\n",
              "          [ 1.5623e-02,  2.1743e-02, -8.2941e-03,  ..., -3.2744e-03,\n",
              "           -5.4099e-02,  5.7634e-02],\n",
              "          [ 7.5254e-02,  8.7784e-02,  5.5804e-02,  ...,  5.2849e-02,\n",
              "            1.0612e-02,  9.3531e-02]],\n",
              "\n",
              "         [[-3.6488e-02,  6.6332e-03, -3.9035e-02,  ..., -1.5678e-02,\n",
              "           -7.9994e-02, -8.8658e-04],\n",
              "          [-5.1740e-03,  5.7395e-02,  8.9841e-03,  ...,  7.4166e-02,\n",
              "           -3.1792e-03,  4.2777e-02],\n",
              "          [-7.9446e-02, -2.2924e-02, -7.3370e-02,  ..., -5.6738e-02,\n",
              "           -1.2923e-01,  1.8896e-02],\n",
              "          ...,\n",
              "          [-3.9394e-02,  3.0981e-02, -2.7901e-02,  ..., -1.6774e-02,\n",
              "           -1.0236e-01,  4.0128e-02],\n",
              "          [-6.0751e-02, -2.3034e-02, -7.6838e-02,  ..., -7.9069e-02,\n",
              "           -1.6195e-01, -1.3746e-02],\n",
              "          [ 7.9522e-03,  4.6969e-02, -1.2460e-02,  ..., -4.6956e-02,\n",
              "           -1.0082e-01,  1.9832e-02]]],\n",
              "\n",
              "\n",
              "        [[[-5.1702e-02,  1.3825e-02,  9.0514e-03,  ..., -9.6401e-02,\n",
              "           -1.1277e-01, -2.1596e-01],\n",
              "          [-9.0091e-02, -1.3136e-02, -3.2812e-02,  ..., -7.5263e-02,\n",
              "           -1.4803e-01, -2.9966e-01],\n",
              "          [-1.3155e-01, -4.2686e-02, -4.7744e-02,  ...,  2.1429e-01,\n",
              "            3.2543e-02, -1.7151e-01],\n",
              "          ...,\n",
              "          [-1.0621e-01, -9.7966e-02, -2.5551e-01,  ...,  1.2277e-01,\n",
              "            1.9287e-01,  1.2671e-01],\n",
              "          [-8.0761e-02, -6.1498e-02, -2.2312e-01,  ...,  3.5376e-02,\n",
              "            1.0532e-01,  1.0669e-01],\n",
              "          [ 3.8186e-02,  4.9957e-02, -1.2802e-01,  ..., -3.2927e-02,\n",
              "            1.8685e-02,  4.7146e-02]],\n",
              "\n",
              "         [[ 3.9013e-02,  6.4311e-03, -3.1710e-03,  ..., -2.1245e-02,\n",
              "            4.0516e-02,  1.1092e-01],\n",
              "          [ 6.5689e-02,  2.2132e-02,  6.6539e-03,  ..., -3.9448e-02,\n",
              "            2.7749e-02,  1.1404e-01],\n",
              "          [ 7.7954e-02,  4.0220e-02,  1.4047e-02,  ..., -1.5417e-01,\n",
              "           -9.2291e-02,  3.4460e-02],\n",
              "          ...,\n",
              "          [ 1.2836e-01,  9.4449e-02,  1.4659e-01,  ..., -6.0067e-02,\n",
              "           -9.0891e-02, -6.1129e-02],\n",
              "          [ 1.2683e-01,  1.0044e-01,  1.3754e-01,  ..., -2.2507e-02,\n",
              "           -6.6664e-02, -1.9906e-02],\n",
              "          [ 8.0509e-02,  7.8203e-02,  9.8934e-02,  ...,  9.2865e-03,\n",
              "           -3.4635e-02, -1.2395e-02]],\n",
              "\n",
              "         [[ 1.1535e-02, -2.6993e-02,  1.4820e-02,  ...,  9.4833e-02,\n",
              "            1.2044e-01,  1.1027e-01],\n",
              "          [ 9.2629e-03, -2.6680e-02,  1.2218e-02,  ...,  8.7219e-02,\n",
              "            1.5435e-01,  1.8049e-01],\n",
              "          [ 6.9946e-02,  1.3250e-02,  4.8007e-02,  ..., -5.6851e-02,\n",
              "            3.2596e-02,  1.6812e-01],\n",
              "          ...,\n",
              "          [-1.2187e-02, -3.3265e-02,  1.1284e-01,  ..., -6.7740e-02,\n",
              "           -1.0240e-01, -7.6188e-02],\n",
              "          [-6.0069e-03, -2.8631e-02,  1.1643e-01,  ..., -6.7597e-03,\n",
              "           -4.3772e-02, -3.1101e-02],\n",
              "          [-1.3355e-01, -1.4825e-01, -1.0060e-03,  ...,  1.8809e-02,\n",
              "           -6.4637e-03, -2.7061e-02]]],\n",
              "\n",
              "\n",
              "        ...,\n",
              "\n",
              "\n",
              "        [[[ 9.0948e-03,  1.4823e-02,  4.7374e-03,  ...,  1.5540e-02,\n",
              "           -5.8369e-04, -1.9922e-02],\n",
              "          [ 2.8962e-04,  2.1229e-02, -1.3210e-02,  ...,  2.4388e-03,\n",
              "           -5.8485e-03, -2.0373e-02],\n",
              "          [-1.1050e-02,  1.0094e-02, -2.9625e-02,  ..., -1.4471e-02,\n",
              "           -1.7187e-02, -3.0534e-02],\n",
              "          ...,\n",
              "          [ 1.0013e-01,  9.1407e-02,  1.3077e-01,  ...,  1.5798e-01,\n",
              "            9.0361e-02,  7.8365e-02],\n",
              "          [ 1.1610e-01,  8.1846e-02,  8.2892e-02,  ..., -6.0174e-02,\n",
              "           -6.9412e-02, -5.0151e-02],\n",
              "          [-1.0564e-01, -1.1848e-01, -1.7681e-01,  ..., -2.0837e-01,\n",
              "           -1.8036e-01, -1.6691e-01]],\n",
              "\n",
              "         [[-1.1495e-02,  2.4917e-03, -8.2400e-03,  ..., -7.5865e-03,\n",
              "           -1.7387e-02, -1.7026e-02],\n",
              "          [-2.7461e-03, -1.1415e-02, -6.0670e-03,  ..., -2.8248e-02,\n",
              "           -2.2555e-02, -2.2559e-02],\n",
              "          [-8.4246e-03, -2.2378e-03, -3.5825e-02,  ..., -1.8462e-02,\n",
              "           -1.9795e-02, -2.4990e-02],\n",
              "          ...,\n",
              "          [ 1.2956e-01,  9.8057e-02,  1.4888e-01,  ...,  1.5655e-01,\n",
              "            7.9547e-02,  9.6928e-02],\n",
              "          [ 1.6080e-01,  1.0522e-01,  1.0264e-01,  ..., -6.5226e-02,\n",
              "           -6.4314e-02, -3.9066e-02],\n",
              "          [-1.2880e-01, -1.4656e-01, -1.9475e-01,  ..., -2.4177e-01,\n",
              "           -2.0277e-01, -1.9324e-01]],\n",
              "\n",
              "         [[-5.4209e-03, -1.7648e-03,  4.3163e-03,  ...,  9.8182e-03,\n",
              "            5.2347e-03,  6.3336e-03],\n",
              "          [ 9.3478e-03,  1.5920e-03, -2.1660e-03,  ...,  7.1244e-03,\n",
              "            9.3521e-04, -5.7647e-03],\n",
              "          [-1.3668e-03,  3.8899e-03, -7.7412e-03,  ...,  3.0651e-03,\n",
              "            1.4989e-02, -8.1730e-03],\n",
              "          ...,\n",
              "          [ 4.3937e-02,  7.9544e-04,  6.0613e-02,  ...,  7.4787e-02,\n",
              "            4.3960e-02,  5.6071e-02],\n",
              "          [ 1.0077e-01,  7.5126e-02,  1.0962e-01,  ...,  4.9886e-03,\n",
              "            1.0789e-02,  1.3402e-02],\n",
              "          [-8.8773e-02, -7.2790e-02, -9.2907e-02,  ..., -6.6530e-02,\n",
              "           -3.8977e-02, -4.8370e-02]]],\n",
              "\n",
              "\n",
              "        [[[ 4.5712e-03,  4.6908e-02, -1.6075e-02,  ...,  7.7790e-03,\n",
              "           -1.9798e-02,  6.8000e-03],\n",
              "          [ 6.2769e-02,  4.5108e-02,  4.7187e-02,  ...,  6.0599e-02,\n",
              "            2.9275e-02,  5.5794e-02],\n",
              "          [ 3.6748e-03,  1.2952e-02,  1.8988e-05,  ..., -8.3492e-03,\n",
              "           -1.9689e-03,  8.0830e-03],\n",
              "          ...,\n",
              "          [-4.4365e-02, -5.8858e-02, -2.4772e-02,  ..., -2.8423e-02,\n",
              "           -3.0897e-02, -5.2936e-02],\n",
              "          [-9.7572e-03, -4.3227e-02,  9.0068e-03,  ..., -4.2596e-02,\n",
              "           -1.8114e-02, -2.8028e-02],\n",
              "          [-2.2007e-02, -3.3594e-02,  1.3479e-02,  ..., -4.1530e-02,\n",
              "           -1.7819e-02, -5.1977e-02]],\n",
              "\n",
              "         [[-9.0596e-02, -5.1485e-02, -1.6459e-01,  ..., -1.1970e-01,\n",
              "           -1.1150e-01, -4.3914e-02],\n",
              "          [ 1.3835e-02,  2.6007e-02, -1.9440e-02,  ...,  2.3757e-02,\n",
              "            6.3709e-03,  5.4287e-02],\n",
              "          [-9.3225e-02, -4.7454e-02, -1.1274e-01,  ..., -8.6459e-02,\n",
              "           -7.3958e-02, -6.6610e-02],\n",
              "          ...,\n",
              "          [ 2.7382e-02,  1.0310e-02,  4.3906e-02,  ...,  2.7094e-02,\n",
              "            4.4510e-02,  1.5977e-02],\n",
              "          [ 9.8431e-02,  6.1433e-02,  1.1413e-01,  ...,  9.6398e-02,\n",
              "            1.0725e-01,  9.5719e-02],\n",
              "          [-1.5100e-02, -1.1830e-02,  4.8571e-02,  ...,  2.9060e-02,\n",
              "            5.6323e-02, -2.1631e-03]],\n",
              "\n",
              "         [[-1.3693e-01, -7.9341e-02, -2.1245e-01,  ..., -1.3633e-01,\n",
              "           -1.5123e-01, -6.3938e-02],\n",
              "          [ 1.5745e-02,  5.1443e-02, -1.8209e-02,  ...,  4.9085e-02,\n",
              "            1.9585e-02,  7.8095e-02],\n",
              "          [-1.7127e-01, -8.8734e-02, -1.7467e-01,  ..., -1.4431e-01,\n",
              "           -1.3364e-01, -1.1878e-01],\n",
              "          ...,\n",
              "          [ 5.1982e-02,  1.5912e-02,  7.0009e-02,  ...,  4.4396e-02,\n",
              "            6.5429e-02,  2.6919e-02],\n",
              "          [ 1.3144e-01,  9.1333e-02,  1.6228e-01,  ...,  1.4230e-01,\n",
              "            1.5500e-01,  1.3808e-01],\n",
              "          [ 3.7818e-03, -2.0365e-02,  7.8663e-02,  ...,  8.6037e-02,\n",
              "            1.2596e-01,  3.8774e-02]]],\n",
              "\n",
              "\n",
              "        [[[-9.5081e-02,  5.6581e-02,  1.4016e-01,  ..., -1.4826e-02,\n",
              "            1.0425e-02, -3.7919e-03],\n",
              "          [ 6.0412e-02,  1.2531e-01, -1.2366e-01,  ...,  7.8628e-02,\n",
              "           -1.0564e-02, -2.2228e-02],\n",
              "          [ 1.0304e-01, -1.3654e-01, -1.9601e-01,  ..., -5.1919e-02,\n",
              "           -8.3287e-02,  3.9678e-02],\n",
              "          ...,\n",
              "          [-1.8598e-01,  1.5479e-02,  3.3912e-01,  ...,  2.7509e-01,\n",
              "            1.0493e-01, -1.6863e-01],\n",
              "          [ 6.8278e-02,  1.3989e-01,  1.1350e-02,  ..., -7.8728e-02,\n",
              "           -2.5001e-01, -8.0072e-02],\n",
              "          [ 5.1736e-03, -6.8372e-02, -9.1940e-02,  ..., -1.0727e-01,\n",
              "            8.7973e-02,  1.0139e-01]],\n",
              "\n",
              "         [[-9.8760e-02,  6.2635e-02,  1.1495e-01,  ..., -1.3191e-02,\n",
              "            1.9574e-02, -1.0864e-03],\n",
              "          [ 8.3206e-02,  1.0300e-01, -1.5419e-01,  ...,  1.0864e-01,\n",
              "            1.2592e-02, -2.0278e-02],\n",
              "          [ 1.1248e-01, -1.6928e-01, -1.8876e-01,  ..., -6.3491e-02,\n",
              "           -9.3101e-02,  4.9006e-02],\n",
              "          ...,\n",
              "          [-1.8867e-01,  6.7374e-02,  4.8128e-01,  ...,  3.1371e-01,\n",
              "            1.6068e-01, -1.3449e-01],\n",
              "          [ 1.1207e-01,  2.0871e-01,  4.6815e-02,  ..., -7.0456e-03,\n",
              "           -2.2978e-01, -6.9528e-02],\n",
              "          [ 1.7255e-02, -9.1683e-02, -1.5943e-01,  ..., -8.0373e-02,\n",
              "            8.0035e-02,  1.1819e-01]],\n",
              "\n",
              "         [[-1.0580e-01,  5.4381e-02,  1.3048e-01,  ..., -3.9546e-02,\n",
              "            1.1924e-02, -2.7886e-03],\n",
              "          [ 5.7859e-02,  1.0646e-01, -1.3468e-01,  ...,  1.0645e-01,\n",
              "            1.8412e-02, -1.3245e-03],\n",
              "          [ 1.0398e-01, -1.0849e-01, -1.6758e-01,  ..., -4.2554e-02,\n",
              "           -8.5875e-02,  5.2581e-02],\n",
              "          ...,\n",
              "          [-1.8241e-01,  5.4228e-02,  3.9395e-01,  ...,  2.4432e-01,\n",
              "            1.0216e-01, -1.2876e-01],\n",
              "          [ 8.5720e-02,  1.8378e-01,  5.0316e-02,  ..., -4.7009e-02,\n",
              "           -2.1584e-01, -4.2482e-02],\n",
              "          [ 3.9612e-02, -7.6353e-02, -1.3502e-01,  ..., -4.8630e-02,\n",
              "            1.0063e-01,  9.0307e-02]]]], device='cuda:0', requires_grad=True)"
            ]
          },
          "metadata": {},
          "execution_count": 21
        }
      ]
    },
    {
      "cell_type": "code",
      "source": [
        "first_layer = alexnet.features[0]### extract the features of the first layer\n",
        "### print the first layer\n",
        "weights = alexnet.features[0].weight.data### extract weights from the first layer\n",
        "\n",
        "# Normalisation for plotting because imshow does not like negative values\n",
        "min_w, max_w =  weights.min(), weights.max()\n",
        "weights -= min_w\n",
        "weights /= (max_w-min_w)\n",
        "\n",
        "# plot the filters:\n",
        "fig, axarr = plt.subplots(8, 8, figsize=(12, 12))\n",
        "axarr = axarr.flatten()\n",
        "for ax, kernel in zip(axarr, weights.cpu().numpy()):  # need to send the weights to the cpu for plotting\n",
        "  ax.imshow(np.swapaxes(kernel, 0, 2))"
      ],
      "metadata": {
        "id": "UDXRepBaEI2O",
        "colab": {
          "base_uri": "https://localhost:8080/",
          "height": 985
        },
        "outputId": "41794e8e-74ba-4b1e-8205-14255fc58fd8"
      },
      "execution_count": 22,
      "outputs": [
        {
          "output_type": "display_data",
          "data": {
            "text/plain": [
              "<Figure size 1200x1200 with 64 Axes>"
            ],
            "image/png": "[encoded data removed]"
          },
          "metadata": {}
        }
      ]
    },
    {
      "cell_type": "code",
      "source": [
        "secondconv_layer = ### extract the features of the second convolutional layer\n",
        "### print the layer\n",
        "weights = ### extract weights\n",
        "print(weights.shape)  ### check it has the shape you expect\n",
        "\n",
        "# Normalisation for plotting because imshow does not like negative values\n",
        "min_w, max_w =  weights.min(), weights.max()\n",
        "weights -= min_w\n",
        "weights /= (max_w-min_w)\n",
        "\n",
        "fig, axarr = plt.subplots(12, 16, figsize=(12, 12))\n",
        "axarr = axarr.flatten()\n",
        "filter_chan = ### define which channel you want to plot\n",
        "print(\"\")\n",
        "print(\"filters: \", filter_chan)\n",
        "print(\"\")\n",
        "for ax, kernel in zip(axarr, weights[:,filter_chan,:,:].cpu().numpy()):\n",
        "  ax.imshow(kernel)#np.swapaxes(kernel, 0, 2))\n",
        "  ax.set_axis_off()"
      ],
      "metadata": {
        "id": "p7U9nKHSERCQ"
      },
      "execution_count": null,
      "outputs": []
    },
    {
      "cell_type": "markdown",
      "source": [
        "And now for the `resnet`:"
      ],
      "metadata": {
        "id": "R3e8Cnb4Fb1x"
      }
    },
    {
      "cell_type": "code",
      "source": [
        "resnet = ### get an instance of a pre-trained resnet\n",
        "### print it\n",
        "### print the summary"
      ],
      "metadata": {
        "id": "nb_S_g2NFV2y"
      },
      "execution_count": null,
      "outputs": []
    },
    {
      "cell_type": "code",
      "source": [
        "first_layer = ### extract first layer features\n",
        "### print first layer\n",
        "weights = ### extract weights\n",
        "print(weights.shape) ### print shape of weights\n",
        "\n",
        "# Normalisation for plotting because imshow does not like negative values\n",
        "min_w, max_w =  weights.min(), weights.max()\n",
        "weights -= min_w\n",
        "weights /= (max_w-min_w)\n",
        "\n",
        "print('shape of weights: ', weights.shape)\n",
        "\n",
        "fig, axarr = plt.subplots(8, 8, figsize=(12, 12))\n",
        "axarr = axarr.flatten()\n",
        "\n",
        "for ax, kernel in zip(axarr, weights.cpu().numpy()):   # plot the three channels at the same\n",
        "  ax.imshow(np.swapaxes(kernel, 0, 2))                 # time as an RGB image\n",
        "  # ax.imshow(kernel)                                  # imshow does not like this shape (that's why we swap the axes in the line above)\n",
        "\n",
        "\n",
        "# for ax, kernel in zip(axarr, weights[:,1,:,:].cpu().numpy()):  # plot one channel at a time\n",
        "  # ax.imshow(kernel)                                            # (second dimension of the tensor)"
      ],
      "metadata": {
        "id": "2adT4ZkBFZAa"
      },
      "execution_count": null,
      "outputs": []
    },
    {
      "cell_type": "markdown",
      "source": [
        "We can also try the `inception_v3` model:"
      ],
      "metadata": {
        "id": "izEN3IenIfa5"
      }
    },
    {
      "cell_type": "code",
      "source": [
        "### your code goes here"
      ],
      "metadata": {
        "id": "djyZjduDHDR4"
      },
      "execution_count": null,
      "outputs": []
    },
    {
      "cell_type": "code",
      "source": [
        "### your code goes here"
      ],
      "metadata": {
        "id": "ehqpXgjtHnv-"
      },
      "execution_count": null,
      "outputs": []
    },
    {
      "cell_type": "markdown",
      "source": [
        "## 2. Transfer learning from ImageNet to Bees and Ants\n",
        "\\[*adapted from [this PyTorch tutorial](https://pytorch.org/tutorials/beginner/transfer_learning_tutorial.html)*\\]\n",
        "\n",
        "The basic principle behind transfer learning is to leverage features learned on one dataset and recycle them to perform tasks on another dataset.\n",
        "\n",
        "Instead of training a network from randomly initialised weights, we start from a network with weights trained in a different domain and fine-tune it to a different source task. By doing this, the weights of the network already have useful properties that can improve optimisation.\n",
        "\n",
        "To be able to apply transfer learning effectively, the data distribution of the data that a very powerful model was trained on should follow a similar distribution as the other dataset that we are trying to apply transfer learning to.    \n",
        "\n",
        "For example:  \n",
        "_We want to create a new classifier for cats and dogs given only a small set of say 100 training images of each category._\n",
        "\n",
        "Large neural networks that have been trained on ImageNet or CIFAR have similar categories in their dataset, say horses and maybe cows and many more categories of natural images.  \n",
        "\n",
        "The rationale is that since we've already learned a set of efficient filters on ImageNet, we can simply use a deep network as a feature extractor and only retrain the final layer —or alternatively fine tune all layers- of a given network to adapt it to our particular task\n",
        "\n",
        "\n",
        "Transfer learning is a powerful tool because it can:\n",
        "- prevent poor training from random weights when only small datasets are available.\n",
        "- reduce training time for tasks that use data with 'similar' distributions\n",
        "\n",
        "<br>\n",
        "\n",
        "We will apply transfer learning to a small dataset containing images of bees and ants by transfering learning done by training with the ImageNet dataset.\n",
        "\n",
        "ImageNet is arguably the most popular dataset for benchmarking classification models. It contains around 14 million annotated natural images spread over 22 thousand categories. Images are of size 3 x 224 x 224, with normalised means and stds of [0.485, 0.456, 0.406] and [0.229, 0.224, 0.225]. In transfer learning is common practice to use the means and standard deviations of the data used for pretraining to normalise the new dataset. Note that the most popular networks (VGG, ResNet, AlexNet, etc..) have been design to take as input 3 x 224 x 224 images to accomodate for ImageNet.\n",
        "\n",
        "<br>\n",
        "\n",
        "<p style=\"text-align:center;\"><img src=\"https://paperswithcode.com/media/datasets/ImageNet-0000000008-f2e87edd_Y0fT5zg.jpg\" alt=\"drawing\" width=\"600\"/>\n",
        "<i>ImageNet samples</i>\n",
        "</p>\n",
        "\n",
        "<br>\n",
        "\n",
        "\n",
        "\n",
        "Perform the following tasks:\n",
        "\n",
        "0. Adapt the training, validation and evaluation functions to the appropriate input size\n",
        "\n",
        "1. [Download](https://download.pytorch.org/tutorial/hymenoptera_data.zip) the dataset into your current directory (you can do it using the code provided below). Use [```torchvision.datasets.ImageFolder```](https://pytorch.org/vision/stable/generated/torchvision.datasets.ImageFolder.html) to load the training and validation data into a Pytorch ```Dataset```. Investigate and visualize a few examples of the dataset. Remember to transform the data into a tensor. What other pre-processing is required?\n",
        "\n",
        "2. Instantiate an untrained ResNet18 from [```torchvision.models```](https://pytorch.org/vision/stable/models.html). Reinitialise the last connected layer ```model.fc``` with a new fully connected layer with appropriate input and output sizes\n",
        "\n",
        "3. Train the newly initialised ResNet from scratch. What do you notice?\n",
        "\n",
        "4. Now instantiate the pre-trained ReseNet18 by passing the argument ``pretrained=True`` and perform fine-tuning using a smaller learning rate of ```1e-3```\n",
        "\n",
        "5. Use the provided ``set_parameters_requires_grad`` and ``get_params_to_update`` functions to repeat the step above but now freezing optimisation for all layers except the final classifying layer (instead of retraining the whole network with a smaller learning rate).\n",
        "\n",
        "6. Finally, train a ResNet on MNIST from scratch and use those weights to repeat step 5 on the bees and ants dataset. Is this a suitable problem?"
      ],
      "metadata": {
        "id": "rfOjp9orI4g3"
      }
    },
    {
      "cell_type": "code",
      "source": [
        "from google.colab import drive\n",
        "drive.mount('/content/gdrive/')"
      ],
      "metadata": {
        "colab": {
          "base_uri": "https://localhost:8080/"
        },
        "id": "TMw6UvW2JdQt",
        "outputId": "b7013d2a-6008-429d-d073-58dfc3f83ca8"
      },
      "execution_count": null,
      "outputs": [
        {
          "output_type": "stream",
          "name": "stdout",
          "text": [
            "Mounted at /content/gdrive/\n"
          ]
        }
      ]
    },
    {
      "cell_type": "markdown",
      "metadata": {
        "id": "zcRkTyYxxIA9"
      },
      "source": [
        "### 2.0 Adapting training, validation and evaluation functions to our problem size"
      ]
    },
    {
      "cell_type": "code",
      "execution_count": null,
      "metadata": {
        "id": "VKoKWyIgwZQ2"
      },
      "outputs": [],
      "source": [
        "def train(model, optimizer, criterion, data_loader):\n",
        "    model.train()\n",
        "    train_loss, train_accuracy = 0, 0\n",
        "    for X, y in data_loader:\n",
        "        X, y = X.to(device), y.to(device)\n",
        "        optimizer.zero_grad()\n",
        "        a2 = model(X.view(### adapt size here))\n",
        "        loss = criterion(a2, y)\n",
        "        loss.backward()\n",
        "        train_loss += loss*X.size(0)\n",
        "        y_pred = F.log_softmax(a2, dim=1).max(1)[1]\n",
        "        train_accuracy += accuracy_score(y.cpu().numpy(), y_pred.detach().cpu().numpy())*X.size(0)\n",
        "        optimizer.step()\n",
        "\n",
        "    return train_loss/len(data_loader.dataset), train_accuracy/len(data_loader.dataset)\n",
        "\n",
        "def validate(model, criterion, data_loader):\n",
        "    model.eval()\n",
        "    validation_loss, validation_accuracy = 0., 0.\n",
        "    for X, y in data_loader:\n",
        "        with torch.no_grad():\n",
        "            X, y = X.to(device), y.to(device)\n",
        "            a2 = model(X.view(### adapt size here))\n",
        "            loss = criterion(a2, y)\n",
        "            validation_loss += loss*X.size(0)\n",
        "            y_pred = F.log_softmax(a2, dim=1).max(1)[1]\n",
        "            validation_accuracy += accuracy_score(y.cpu().numpy(), y_pred.cpu().numpy())*X.size(0)\n",
        "\n",
        "    return validation_loss/len(data_loader.dataset), validation_accuracy/len(data_loader.dataset)\n",
        "\n",
        "def evaluate(model, data_loader):\n",
        "    model.eval()\n",
        "    ys, y_preds = [], []\n",
        "    for X, y in data_loader:\n",
        "        with torch.no_grad():\n",
        "            X, y = X.to(device), y.to(device)\n",
        "            a2 = model(X.view(### adapt size here))\n",
        "            y_pred = F.log_softmax(a2, dim=1).max(1)[1]\n",
        "            ys.append(y.cpu().numpy())\n",
        "            y_preds.append(y_pred.cpu().numpy())\n",
        "\n",
        "    return np.concatenate(y_preds, 0),  np.concatenate(ys, 0)"
      ]
    },
    {
      "cell_type": "markdown",
      "metadata": {
        "id": "-dAUDSUqtp9r"
      },
      "source": [
        "### 2.1 Loading and Visualising the Data"
      ]
    },
    {
      "cell_type": "code",
      "execution_count": null,
      "metadata": {
        "id": "HpqBDWTegydz"
      },
      "outputs": [],
      "source": [
        "!wget -nc https://download.pytorch.org/tutorial/hymenoptera_data.zip && unzip -oq hymenoptera_data.zip"
      ]
    },
    {
      "cell_type": "code",
      "execution_count": null,
      "metadata": {
        "id": "TeHS9U038ms_"
      },
      "outputs": [],
      "source": [
        "seed = 42\n",
        "lr = 1e-2\n",
        "momentum = 0.9\n",
        "batch_size = 64\n",
        "test_batch_size = 1000\n",
        "n_epochs = 30"
      ]
    },
    {
      "cell_type": "code",
      "execution_count": null,
      "metadata": {
        "id": "ClWBbBL1iNke"
      },
      "outputs": [],
      "source": [
        "from torchvision import datasets, transforms, models\n",
        "\n",
        "transform = transforms.Compose([\n",
        "        transforms.ToTensor(),\n",
        "    ])\n",
        "\n",
        "train_ds = datasets.ImageFolder(\"./hymenoptera_data/train\", transform=transform)\n",
        "test_ds = datasets.ImageFolder(\"./hymenoptera_data/val\", transform=transform)\n",
        "\n",
        "print(train_ds)\n",
        "print(train_ds.classes)\n",
        "print(train_ds.class_to_idx)\n",
        "print(train_ds[0]) # an example of calling  __getitem__, which is what the dataloader does\n",
        "print(train_ds.samples[0]) # get image path inside samples\n",
        "print(\"\\n\\n\")\n",
        "\n",
        "# Get mean and std\n",
        "tmp_loader = DataLoader(train_ds, batch_size=1, num_workers=0)\n",
        "data = next(iter(tmp_loader))\n",
        "mean = [torch.mean(data[0][0][i].flatten()).item() for i in range(3)]\n",
        "std = [torch.std(data[0][0][i].flatten()).item() for i in range(3)]\n",
        "print(mean, std)"
      ]
    },
    {
      "cell_type": "code",
      "execution_count": null,
      "metadata": {
        "id": "6rg29zjqkb1l"
      },
      "outputs": [],
      "source": [
        "def show_batch(dataset, nr=4, nc=4):\n",
        "  fig, axarr = plt.subplots(nr, nc, figsize=(10, 10))\n",
        "  for i in range(nr):\n",
        "      for j in range(nc):\n",
        "          idx = random.randint(0, len(train_ds))\n",
        "          sample, target = train_ds[idx]\n",
        "          try:\n",
        "            axarr[i][j].imshow(sample) # if PIL\n",
        "          except:\n",
        "            axarr[i][j].imshow(sample.permute(1,2,0)) # if tensor of shape CHW\n",
        "          target_name = train_ds.classes[target]\n",
        "          axarr[i][j].set_title(\"%s (%i)\"%(target_name, target))\n",
        "\n",
        "  fig.tight_layout(pad=1.5)\n",
        "  plt.show()"
      ]
    },
    {
      "cell_type": "code",
      "execution_count": null,
      "metadata": {
        "id": "-3IffdzCmaTQ"
      },
      "outputs": [],
      "source": [
        "show_batch(train_ds, 5, 5)"
      ]
    },
    {
      "cell_type": "code",
      "execution_count": null,
      "metadata": {
        "id": "4DLYvyI3mlYj"
      },
      "outputs": [],
      "source": [
        "# Fix image sizes with transforms\n",
        "train_transform = transforms.Compose([\n",
        "        ### add a transform that does a random crop with the right size here\n",
        "        transforms.RandomHorizontalFlip(),\n",
        "        transforms.ToTensor()\n",
        "    ])\n",
        "test_transform = transforms.Compose([\n",
        "        transforms.Resize(256),\n",
        "        transforms.CenterCrop(224),\n",
        "        transforms.ToTensor(),\n",
        "    ])\n",
        "\n",
        "train_ds = datasets.ImageFolder(\"./hymenoptera_data/train\", transform=train_transform)\n",
        "test_ds = datasets.ImageFolder(\"./hymenoptera_data/val\", transform=test_transform)\n",
        "\n",
        "show_batch(train_ds, 5, 5)"
      ]
    },
    {
      "cell_type": "code",
      "execution_count": null,
      "metadata": {
        "id": "xSHLIl2Vjir6"
      },
      "outputs": [],
      "source": [
        "# Finally add normalisation to transforms\n",
        "train_transform = transforms.Compose([\n",
        "        ### add a transform that does a random crop with the right size here\n",
        "        transforms.RandomHorizontalFlip(),\n",
        "        transforms.ToTensor(),\n",
        "        transforms.Normalize(mean, std),\n",
        "    ])\n",
        "test_transform = transforms.Compose([\n",
        "        transforms.Resize(256),\n",
        "        transforms.CenterCrop(224),\n",
        "        transforms.ToTensor(),\n",
        "        transforms.Normalize(mean, std),\n",
        "    ])\n",
        "\n",
        "train_ds = ### create a training ImageFolder\n",
        "test_ds =  ### create a testing ImageFolder\n",
        "\n",
        "# Create dataloader\n",
        "train_loader = ### create a dataloader for the training data\n",
        "test_loader =  ### create a dataloader for the testing data"
      ]
    },
    {
      "cell_type": "markdown",
      "metadata": {
        "id": "38oqk6JAgcAH"
      },
      "source": [
        "### 2.2 Training a newly initialized Resnet18\n"
      ]
    },
    {
      "cell_type": "code",
      "execution_count": null,
      "metadata": {
        "id": "OjS87IIyiW4_"
      },
      "outputs": [],
      "source": [
        "set_seed(seed)\n",
        "\n",
        "model = models.resnet18().to(device)\n",
        "print(model)\n",
        "model.fc = nn.Linear(model.fc.in_features, 2).to(device)  ### this line is provided, but what does it do?\n",
        "\n",
        "optimizer = ### define your optimiser (SGC with momentum)\n",
        "criterion = ### define your loss\n",
        "\n",
        "liveloss = PlotLosses()\n",
        "for epoch in range(n_epochs):\n",
        "    logs = {}\n",
        "    train_loss, train_accuracy = train(model, optimizer, criterion, train_loader)\n",
        "\n",
        "    logs['' + 'log loss'] = train_loss.item()\n",
        "    logs['' + 'accuracy'] = train_accuracy.item()\n",
        "\n",
        "    validation_loss, validation_accuracy = validate(model, criterion, test_loader)\n",
        "    logs['val_' + 'log loss'] = validation_loss.item()\n",
        "    logs['val_' + 'accuracy'] = validation_accuracy.item()\n",
        "\n",
        "    liveloss.update(logs)\n",
        "    liveloss.draw()\n",
        "\n",
        "test_loss, test_accuracy = validate(model, criterion, test_loader)\n",
        "print(\"Avg. Test Loss: %1.3f\" % test_loss.item(), \" Avg. Test Accuracy: %1.3f\" % test_accuracy.item())\n",
        "print(\"\")\n",
        "\n",
        "model_save_name = 'resnet18_bees_and_ants_classifier_full_training_set_baseline.pt'\n",
        "path = F\"/content/gdrive/My Drive/models/{model_save_name}\"\n",
        "torch.save(model.state_dict(), path)"
      ]
    },
    {
      "cell_type": "markdown",
      "metadata": {
        "id": "P_-rX8y8xShf"
      },
      "source": [
        "Our model is not doing too well. The lack of data is taking a toll on our training and giving a large generalisation error."
      ]
    },
    {
      "cell_type": "markdown",
      "metadata": {
        "id": "xRTvtY_wzYS5"
      },
      "source": [
        "### 2.3 Finetuning a pre-trained Resnet"
      ]
    },
    {
      "cell_type": "code",
      "execution_count": null,
      "metadata": {
        "id": "Dw6iEkZDzcrX"
      },
      "outputs": [],
      "source": [
        "set_seed(seed)\n",
        "\n",
        "train_transform = transforms.Compose([\n",
        "        ### add a transform that does a random crop with the right size here\n",
        "        transforms.RandomHorizontalFlip(),\n",
        "        transforms.ToTensor(),\n",
        "        transforms.Normalize([0.485, 0.456, 0.406], [0.229, 0.224, 0.225]),\n",
        "    ])\n",
        "test_transform = transforms.Compose([\n",
        "        transforms.Resize(256),\n",
        "        transforms.CenterCrop(224),\n",
        "        transforms.ToTensor(),\n",
        "        transforms.Normalize([0.485, 0.456, 0.406], [0.229, 0.224, 0.225]),\n",
        "    ])\n",
        "\n",
        "train_ds = datasets.ImageFolder(\"./hymenoptera_data/train\", transform=train_transform)\n",
        "test_ds = datasets.ImageFolder(\"./hymenoptera_data/val\", transform=test_transform)\n",
        "\n",
        "train_loader = DataLoader(train_ds, batch_size=batch_size, shuffle=True, num_workers=0)\n",
        "test_loader = DataLoader(test_ds, batch_size=batch_size, shuffle=False, num_workers=0)\n",
        "\n",
        "model = models.resnet18(pretrained=True).to(device)\n",
        "model.fc = nn.Linear(model.fc.in_features, 2).to(device)\n",
        "\n",
        "optimizer = ### define your optimiser (SGC with momentum) and make sure to adapt the learning rate to 'fine-tune' the network\n",
        "criterion = ### define your loss\n",
        "\n",
        "liveloss = PlotLosses()\n",
        "for epoch in range(n_epochs):\n",
        "    logs = {}\n",
        "    train_loss, train_accuracy = train(model, optimizer, criterion, train_loader)\n",
        "\n",
        "    logs['' + 'log loss'] = train_loss.item()\n",
        "    logs['' + 'accuracy'] = train_accuracy.item()\n",
        "\n",
        "    validation_loss, validation_accuracy = validate(model, criterion, test_loader)\n",
        "    logs['val_' + 'log loss'] = validation_loss.item()\n",
        "    logs['val_' + 'accuracy'] = validation_accuracy.item()\n",
        "\n",
        "    liveloss.update(logs)\n",
        "    liveloss.draw()\n",
        "\n",
        "test_loss, test_accuracy = validate(model, criterion, test_loader)\n",
        "print(\"Avg. Test Loss: %1.3f\" % test_loss.item(), \" Avg. Test Accuracy: %1.3f\" % test_accuracy.item())\n",
        "print(\"\")\n",
        "\n",
        "model_save_name = 'resnet18_bees_and_ants_classifier_full_training_set_imagenet_finetune.pt'\n",
        "path = F\"/content/gdrive/My Drive/models/{model_save_name}\"\n",
        "torch.save(model.state_dict(), path)"
      ]
    },
    {
      "cell_type": "markdown",
      "source": [
        "This is much better now."
      ],
      "metadata": {
        "id": "3Li-0gq5QfKf"
      }
    },
    {
      "cell_type": "markdown",
      "metadata": {
        "id": "0AeBUMRFj5H5"
      },
      "source": [
        "### 2.4 Pre-trained Resnet with retrained last layer\n",
        "\n",
        "Use the following provided functions:"
      ]
    },
    {
      "cell_type": "code",
      "execution_count": null,
      "metadata": {
        "id": "j-e4S1a6yV-d"
      },
      "outputs": [],
      "source": [
        "def set_parameter_requires_grad(model, requires_grad=False):\n",
        "    \"\"\"https://pytorch.org/tutorials/beginner/finetuning_torchvision_models_tutorial.html\"\"\"\n",
        "    for param in model.parameters():\n",
        "        param.requires_grad = requires_grad\n",
        "    return None\n",
        "\n",
        "def get_params_to_update(model):\n",
        "    \"\"\" Returns list of model parameters that have required_grad=True\"\"\"\n",
        "    params_to_update = []\n",
        "    for name,param in model.named_parameters():\n",
        "        if param.requires_grad == True:\n",
        "            params_to_update.append(param)\n",
        "    return params_to_update"
      ]
    },
    {
      "cell_type": "markdown",
      "source": [
        "to adapt the training to only update the last layer of the network"
      ],
      "metadata": {
        "id": "BuedxsJTjpMr"
      }
    },
    {
      "cell_type": "code",
      "execution_count": null,
      "metadata": {
        "id": "aHyiZZiCi7BE"
      },
      "outputs": [],
      "source": [
        "set_seed(seed)\n",
        "\n",
        "train_transform = transforms.Compose([\n",
        "        ### add a transform that does a random crop with the right size here\n",
        "        transforms.RandomHorizontalFlip(),\n",
        "        transforms.ToTensor(),\n",
        "        transforms.Normalize([0.485, 0.456, 0.406], [0.229, 0.224, 0.225])\n",
        "    ])\n",
        "test_transform = transforms.Compose([\n",
        "        transforms.Resize(256),\n",
        "        transforms.CenterCrop(224),\n",
        "        transforms.ToTensor(),\n",
        "        transforms.Normalize([0.485, 0.456, 0.406], [0.229, 0.224, 0.225])\n",
        "    ])\n",
        "\n",
        "train_ds = datasets.ImageFolder(\"./hymenoptera_data/train\", transform=train_transform)\n",
        "test_ds = datasets.ImageFolder(\"./hymenoptera_data/val\", transform=test_transform)\n",
        "\n",
        "train_loader = DataLoader(train_ds, batch_size=batch_size, shuffle=True, num_workers=0)\n",
        "test_loader = DataLoader(test_ds, batch_size=batch_size, shuffle=False, num_workers=0)\n",
        "\n",
        "model = ### get an instance of a pre-trained resnet-18\n",
        "### use the provdied set_parameter_requires_grad to disable training\n",
        "model.fc = ### add a last layer of the network that you need. Newly initialised layers automatically have requires_grad=True\n",
        "\n",
        "optimizer = ### define optimiser and use the provided get_params_to_update function to tell it to only update what you want\n",
        "criterion = nn.CrossEntropyLoss()\n",
        "\n",
        "liveloss = PlotLosses()\n",
        "for epoch in range(n_epochs):\n",
        "    logs = {}\n",
        "    train_loss, train_accuracy = train(model, optimizer, criterion, train_loader)\n",
        "\n",
        "    logs['' + 'log loss'] = train_loss.item()\n",
        "    logs['' + 'accuracy'] = train_accuracy.item()\n",
        "\n",
        "    validation_loss, validation_accuracy = validate(model, criterion, test_loader)\n",
        "    logs['val_' + 'log loss'] = validation_loss.item()\n",
        "    logs['val_' + 'accuracy'] = validation_accuracy.item()\n",
        "\n",
        "    liveloss.update(logs)\n",
        "    liveloss.draw()\n",
        "\n",
        "test_loss, test_accuracy = validate(model, criterion, test_loader)\n",
        "print(\"Avg. Test Loss: %1.3f\" % test_loss.item(), \" Avg. Test Accuracy: %1.3f\" % test_accuracy.item())\n",
        "print(\"\")\n",
        "\n",
        "model_save_name = 'resnet18_bees_and_ants_classifier_full_training_set_imagenet_feature_extract.pt'\n",
        "path = F\"/content/gdrive/My Drive/models/{model_save_name}\"\n",
        "torch.save(model.state_dict(), path)"
      ]
    },
    {
      "cell_type": "markdown",
      "metadata": {
        "id": "N5DmQlc_ebYf"
      },
      "source": [
        "<img src=\"https://pbs.twimg.com/media/Ev-f6AaU8AgMeRd.jpg\" alt=\"drawing\" width=\"600\"/>"
      ]
    },
    {
      "cell_type": "markdown",
      "metadata": {
        "id": "qRArCrs3j-12"
      },
      "source": [
        "### 2.5 What if pretrained on MNIST instead?"
      ]
    },
    {
      "cell_type": "markdown",
      "metadata": {
        "id": "GvQ8SKahEfqV"
      },
      "source": [
        "Training a Resnet on MNIST from scratch"
      ]
    },
    {
      "cell_type": "code",
      "execution_count": null,
      "metadata": {
        "id": "qvoZPexxj93l"
      },
      "outputs": [],
      "source": [
        "train_transform = transforms.Compose([\n",
        "        transforms.Resize(224),\n",
        "        transforms.ToTensor(),\n",
        "        transforms.Normalize((0.1307,), (0.3081,)),\n",
        "        transforms.Lambda(lambda x: x.expand(3, 224, 224)),   # expand to 3 channels\n",
        "    ])\n",
        "test_transform = transforms.Compose([\n",
        "        transforms.Resize(224),\n",
        "        transforms.ToTensor(),\n",
        "        transforms.Normalize((0.1307,), (0.3081,)),\n",
        "        transforms.Lambda(lambda x: x.expand(3, 224, 224)),   # expand to 3 channels\n",
        "    ])\n",
        "\n",
        "mnist_train = MNIST(\"./\", download=True, train=True, transform=train_transform)\n",
        "mnist_test = MNIST(\"./\", download=True, train=False, transform=test_transform)\n",
        "\n",
        "train_loader = DataLoader(mnist_train, batch_size=batch_size, shuffle=True, num_workers=4)\n",
        "test_loader = DataLoader(mnist_test, batch_size=batch_size, shuffle=False, num_workers=4)\n",
        "\n",
        "model = models.resnet18().to(device)\n",
        "model.fc = ### add the last layer you need here\n",
        "\n",
        "optimizer = torch.optim.SGD(model.parameters(), lr=lr, momentum=momentum)\n",
        "criterion = nn.CrossEntropyLoss()\n",
        "\n",
        "\n",
        "### ~ 7 min per epoch here ###\n",
        "liveloss = PlotLosses()\n",
        "for epoch in range(n_epochs):\n",
        "    logs = {}\n",
        "    train_loss, train_accuracy = train(model, optimizer, criterion, train_loader)\n",
        "\n",
        "    logs['' + 'log loss'] = train_loss.item()\n",
        "    logs['' + 'accuracy'] = train_accuracy.item()\n",
        "\n",
        "    validation_loss, validation_accuracy = validate(model, criterion, test_loader)\n",
        "    logs['val_' + 'log loss'] = validation_loss.item()\n",
        "    logs['val_' + 'accuracy'] = validation_accuracy.item()\n",
        "\n",
        "    liveloss.update(logs)\n",
        "    liveloss.draw()\n",
        "\n",
        "model_save_name = 'resnet18_mnist_classifier_full_training_set_baseline_.pt'\n",
        "path = F\"/content/gdrive/My Drive/models/{model_save_name}\"\n",
        "torch.save(model.state_dict(), path)\n",
        "\n",
        "\n",
        "test_loss, test_accuracy = validate(model, criterion, test_loader)\n",
        "print(\"Avg. Test Loss: %1.3f\" % test_loss.item(), \" Avg. Test Accuracy: %1.3f\" % test_accuracy.item())\n",
        "print(\"\")"
      ]
    },
    {
      "cell_type": "markdown",
      "metadata": {
        "id": "j38pm3TBExK6"
      },
      "source": [
        "### 2.6 Transfer learning on the ResNet pretrained on MNIST\n"
      ]
    },
    {
      "cell_type": "code",
      "execution_count": null,
      "metadata": {
        "id": "15DVykO4kaw_"
      },
      "outputs": [],
      "source": [
        "set_seed(seed)\n",
        "\n",
        "train_transform = transforms.Compose([\n",
        "        ### add a transform that does a random crop with the right size here\n",
        "        transforms.RandomHorizontalFlip(),\n",
        "        transforms.ToTensor(),\n",
        "        transforms.Normalize([0.1307, 0.1307, 0.1307], [0.3081, 0.3081, 0.3081]),\n",
        "    ])\n",
        "test_transform = transforms.Compose([\n",
        "        transforms.Resize(256),\n",
        "        transforms.CenterCrop(224),\n",
        "        transforms.ToTensor(),\n",
        "        transforms.Normalize([0.1307, 0.1307, 0.1307], [0.229, 0.3081, 0.3081]),\n",
        "    ])\n",
        "\n",
        "train_ds = datasets.ImageFolder(\"./hymenoptera_data/train\", transform=train_transform)\n",
        "test_ds = datasets.ImageFolder(\"./hymenoptera_data/val\", transform=test_transform)\n",
        "\n",
        "train_loader = DataLoader(train_ds, batch_size=batch_size, shuffle=True, num_workers=0)\n",
        "test_loader = DataLoader(test_ds, batch_size=batch_size, shuffle=False, num_workers=0)\n",
        "\n",
        "model = models.resnet18().to(device)\n",
        "model.fc = nn.Linear(model.fc.in_features, 10).to(device)\n",
        "path = F\"/content/gdrive/My Drive/models/{model_save_name}\"\n",
        "model.load_state_dict(torch.load(path))\n",
        "model.fc = #### add the last layer you need here\n",
        "\n",
        "optimizer = ### use SGD and fine-tune your network\n",
        "criterion = ### define your loss\n",
        "\n",
        "liveloss = PlotLosses()\n",
        "for epoch in range(n_epochs):\n",
        "    logs = {}\n",
        "    train_loss, train_accuracy = train(model, optimizer, criterion, train_loader)\n",
        "\n",
        "    logs['' + 'log loss'] = train_loss.item()\n",
        "    logs['' + 'accuracy'] = train_accuracy.item()\n",
        "    liveloss.update(logs)\n",
        "    liveloss.draw()\n",
        "    logs['val_' + 'log loss'] = 0.\n",
        "    logs['val_' + 'accuracy'] = 0.\n",
        "\n",
        "model_save_name = 'resnet18_bees_and_antes_classifier_full_training_set_mnist_transfer.pt'\n",
        "path = F\"/content/gdrive/My Drive/models/{model_save_name}\"\n",
        "torch.save(model.state_dict(), path)\n",
        "\n",
        "\n",
        "test_loss, test_accuracy = validate(model, criterion, test_loader)\n",
        "print(\"Avg. Test Loss: %1.3f\" % test_loss.item(), \" Avg. Test Accuracy: %1.3f\" % test_accuracy.item())\n",
        "print(\"\")\n",
        "\n"
      ]
    },
    {
      "cell_type": "markdown",
      "metadata": {
        "id": "wVDOioLU_32t"
      },
      "source": [
        "As expected, hand-written digits and bees do not share data distribution shapes."
      ]
    },
    {
      "cell_type": "markdown",
      "source": [
        "<br>\n",
        "<br>\n",
        "<br>\n",
        "<br>\n",
        "\n",
        "---\n",
        "---\n",
        "\n",
        "## ***Clarifying issues with loss averaging:***"
      ],
      "metadata": {
        "id": "aWu5w9zJB5oa"
      }
    },
    {
      "cell_type": "code",
      "source": [
        "def train(model, optimizer, criterion, data_loader):\n",
        "    model.train()\n",
        "    train_loss, train_accuracy = 0, 0\n",
        "    for X, y in data_loader:\n",
        "        X, y = X.to(device), y.to(device)\n",
        "        optimizer.zero_grad()\n",
        "        a2 = model(X.view(-1, 3, 224, 224))\n",
        "        loss = criterion(a2, y)\n",
        "        loss.backward()\n",
        "        train_loss += loss*X.size(0) ## this undoes normalisation\n",
        "        y_pred = F.log_softmax(a2, dim=1).max(1)[1]\n",
        "        train_accuracy += accuracy_score(y.cpu().numpy(), y_pred.detach().cpu().numpy())*X.size(0)\n",
        "        optimizer.step()\n",
        "\n",
        "    return train_loss/len(data_loader.dataset), train_accuracy/len(data_loader.dataset)"
      ],
      "metadata": {
        "id": "M66z-bLYB-X9"
      },
      "execution_count": null,
      "outputs": []
    },
    {
      "cell_type": "markdown",
      "source": [
        "The cross entropy loss provided by PyTorch has a normalisation added to it:\n",
        "\n",
        "[`CrossEntropyLoss`](https://pytorch.org/docs/stable/generated/torch.nn.CrossEntropyLoss.html)\n",
        "\n",
        "This line:\n",
        "\n",
        "`train_loss += loss*X.size(0)`\n",
        "\n",
        "undoes the normalisation done by `torch.nn.CrossEntropyLoss` and adds the value to the accumulated losses over minibatches.\n",
        "\n",
        "Then, once we have gone over all the data (that is, over all the minibatches), we will have completed one epoch, and we want to know the value of the normalised loss. To get it, we divide it by the total number of samples in my data:\n",
        "\n",
        "`return train_loss/len(data_loader.dataset), train_accuracy/len(data_loader.dataset)`\n",
        "\n",
        "A similar business is going on with the accuracy. In this case we use scikit-learn:\n",
        "\n",
        "[`accuracy_score`](https://scikit-learn.org/stable/modules/generated/sklearn.metrics.accuracy_score.html)\n",
        "\n",
        "where we do:\n",
        "\n",
        "`train_accuracy += accuracy_score(y.cpu().numpy(), y_pred.detach().cpu().numpy())*X.size(0)`\n",
        "\n",
        "and then we divide the accuracy by the total length of the data.\n",
        "\n",
        "<br>\n",
        "<br>\n",
        "\n",
        "Finally, this line before the data_loader is iterated:\n",
        "\n",
        "`train_loss, train_accuracy = 0, 0`\n",
        "\n",
        "resets the value of the loss value at every epoch.\n",
        "\n",
        "\n",
        "---\n",
        "\n",
        "## Alternative implementations:"
      ],
      "metadata": {
        "id": "uAuNMG7tCTVQ"
      }
    },
    {
      "cell_type": "markdown",
      "source": [
        "Simply modify the default behaviour of the loss and the accuracy calculations:\n",
        "\n",
        "`torch.nn.CrossEntropyLoss(weight=None, size_average=None, ignore_index=- 100, reduce=None, `**`reduction='mean'`**`, label_smoothing=0.0)`\n",
        "\n",
        "change default to **`reduction='sum'`** when you define the loss.\n",
        "\n",
        "<br>\n",
        "\n",
        "And for the accuracy, just change the line:\n",
        "\n",
        "`train_accuracy += accuracy_score(y.cpu().numpy(), y_pred.detach().cpu().numpy(),`**`normalize=False`**`)`\n",
        "\n",
        "### **Now I just accumulate the sum of the loss, so it is naturally scaled to the batch size**"
      ],
      "metadata": {
        "id": "2kWwC4xMGXfP"
      }
    }
  ]
}