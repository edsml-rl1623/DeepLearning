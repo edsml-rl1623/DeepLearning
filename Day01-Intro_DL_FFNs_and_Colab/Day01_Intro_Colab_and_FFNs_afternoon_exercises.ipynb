{
  "nbformat": 4,
  "nbformat_minor": 0,
  "metadata": {
    "colab": {
      "provenance": []
    },
    "kernelspec": {
      "name": "python3",
      "display_name": "Python 3"
    },
    "language_info": {
      "name": "python"
    },
    "gpuClass": "standard"
  },
  "cells": [
    {
      "cell_type": "markdown",
      "source": [
        "<img src=\"https://drive.google.com/uc?id=1DvKhAzLtk-Hilu7Le73WAOz2EBR5d41G\" width=\"500\"/>\n",
        "\n",
        "\n",
        "---\n"
      ],
      "metadata": {
        "id": "9YehS8enAmDn"
      }
    },
    {
      "cell_type": "markdown",
      "source": [
        "# **Deep learning module introduction**\n",
        "\n",
        "#### **Morning contents/agenda**\n",
        "\n",
        "0. Start at the end\n",
        "\n",
        "1. Description of the module's contents, materials and resources:\n",
        "  - github repository\n",
        "  - schedule and assessments\n",
        "  - teaching team\n",
        "\n",
        "2. Google Colab introduction\n",
        "\n",
        "3. Deep learning?\n",
        "\n",
        "4. Why `PyTorch`?\n",
        "\n",
        "5. A simple feed-forward network (FNN) with `PyTorch`\n",
        "\n",
        "#### **Learning outcomes**\n",
        "\n",
        "1. Overview the module contents and how they will be delivered\n",
        "\n",
        "2. Understand the assessment process for the module\n",
        "\n",
        "3. First contact with `PyTorch` and FFNs\n",
        "\n",
        "<br>\n",
        "\n",
        "\n",
        "#### **Afternoon contents/agenda**\n",
        "\n",
        "1. https://playground.tensorflow.org\n",
        "\n",
        "2. Improving our simpleFFN\n",
        "\n",
        "#### **Learning outcomes**\n",
        "\n",
        "1. Understand the effect of different network configurations with tensorflow\n",
        "\n",
        "2. Break the morning example and raise questions about how `PyTorch` works.\n",
        "\n",
        "$$\\\\[2cm]$$\n",
        "\n",
        "---\n",
        "---"
      ],
      "metadata": {
        "id": "J-VVpU1MJJOB"
      }
    },
    {
      "cell_type": "markdown",
      "source": [
        "## 1. Tensorflow exercises"
      ],
      "metadata": {
        "id": "sinIebTtMUvs"
      }
    },
    {
      "cell_type": "code",
      "source": [
        "%%html\n",
        "<iframe src=\"https://playground.tensorflow.org\" width=\"1200\" height=\"700\"></iframe>\n"
      ],
      "metadata": {
        "id": "Wq0gHzpaJqvd",
        "colab": {
          "base_uri": "https://localhost:8080/",
          "height": 745
        },
        "outputId": "3541d4ba-b7b5-4bc4-da4d-0dc78fc06464"
      },
      "execution_count": 164,
      "outputs": [
        {
          "output_type": "display_data",
          "data": {
            "text/plain": [
              "<IPython.core.display.HTML object>"
            ],
            "text/html": [
              "<iframe src=\"https://playground.tensorflow.org\" width=\"1200\" height=\"700\"></iframe>\n"
            ]
          },
          "metadata": {}
        }
      ]
    },
    {
      "cell_type": "markdown",
      "source": [
        "Unless otherwise indicated, we work with the following hyper-parameters:\n",
        "Learning rate =0.03, Batch Size=10, Noise=0, Training Data=70%.\n",
        "\n",
        "Since there is a total of 500 data points, there are 350 (or 70%) training data and 150 test data.\n",
        "\n",
        "We examine the behaviour of the networks until about 3500 epochs.\n",
        "\n",
        "It is important to note that there will be differences between different runs obtained with the same hyperparameters, because the initial values of the neural network parameters (weights and bias terms) are sampled randomly.\n",
        "\n",
        "The dataset itself may also change if you click the Regenerate Button at the bottom left of the screen.\n",
        "\n",
        "We work on a classification problem on the Spiral dataset. The yellow dots have a value of -1 and the blue dots have a value of +1.\n",
        "\n",
        "\n",
        "\n"
      ],
      "metadata": {
        "id": "yojhzj6cLxp1"
      }
    },
    {
      "cell_type": "markdown",
      "source": [
        "#### **Question 1:**\n",
        "Use the sigmoid activation function and no hidden layer. What do you observe? How do you interpret it?"
      ],
      "metadata": {
        "id": "563F2iseLxpm"
      }
    },
    {
      "cell_type": "markdown",
      "source": [
        "#### **Question 2:**\n",
        "Now put just one hidden layer, a sigmoid activation function, and make the number of neurons in the hidden layer equal to 4. Then make it equal to the maximum offered by the application, that is 8. What is the number of trained parameters and what do you observe in each case?"
      ],
      "metadata": {
        "id": "2QOO1cr-L4__"
      }
    },
    {
      "cell_type": "markdown",
      "source": [
        "#### **Question 3:**\n",
        "Now do the same as in question 2, but using the ReLU activation function. What do you observe?"
      ],
      "metadata": {
        "id": "LCAFZMY1L48J"
      }
    },
    {
      "cell_type": "markdown",
      "source": [
        "#### **Question 4:**\n",
        "Now use two hidden layers each with four neurons and the ReLU activation function. How many trained parameters do you have? What do you observe?"
      ],
      "metadata": {
        "id": "Ny7l5SQPL452"
      }
    },
    {
      "cell_type": "markdown",
      "source": [
        "#### **Question 5:**\n",
        "Now try two hidden layers with 8 neurons each and a ReLU activation function. How many trained parameters do you have? What do you observe?"
      ],
      "metadata": {
        "id": "w5bQvkz_L43m"
      }
    },
    {
      "cell_type": "markdown",
      "source": [
        "#### **Question 6:**\n",
        "Now try three hidden layers with 8 neurons each. What happens if you compare sigmoid and ReLU?"
      ],
      "metadata": {
        "id": "T6hCgRTVL41p"
      }
    },
    {
      "cell_type": "markdown",
      "source": [
        "#### **Question 7:**\n",
        "Now keep the three layers with 8 neurons and change the batch size to 30, and then 1. What happens if you use ReLU?\n"
      ],
      "metadata": {
        "id": "VEkDEuaLL4zt"
      }
    },
    {
      "cell_type": "markdown",
      "source": [
        "#### **Question 8:**\n",
        "Now that we have obtained a good model see what happens if you introduce all the 7 input variables"
      ],
      "metadata": {
        "id": "oYtvkNlPL4xP"
      }
    },
    {
      "cell_type": "markdown",
      "source": [
        "#### **Question 9:**\n",
        "Now assume that the data are affected by noise. Just use the maximum noise value of 50. The application is not very clear about the mechanism by which the noise affects the initial data classes. This does not matter, just assume that, after introducing this noise value of 50, you are now dealing with new binary class values at each point. What do you observe?"
      ],
      "metadata": {
        "id": "k9xrDsxCL4ub"
      }
    },
    {
      "cell_type": "markdown",
      "source": [
        "<br>\n",
        "\n",
        "---\n",
        "\n",
        "<br>"
      ],
      "metadata": {
        "id": "WIxthEMANlZd"
      }
    },
    {
      "cell_type": "markdown",
      "source": [
        "## 2. `simpleFFN` exercise\n",
        "\n",
        "Try to improve the performance of the network we implemented this morning. A few ideas and hints:\n",
        "\n",
        "- modify the simpleFFN class to add more layers\n",
        "- play with the sizes of the layers\n",
        "- **don't touch** the train, validation, and evaluate functions\n",
        "- play with the data splits\n",
        "- anything else you see fit\n",
        "\n",
        "I recommend that you copy-paste the code from this morning here, and then play editing it."
      ],
      "metadata": {
        "id": "l2jKgoThOnO8"
      }
    },
    {
      "cell_type": "code",
      "source": [
        "!pip install pycm livelossplot\n",
        "%pylab inline"
      ],
      "metadata": {
        "id": "neW2oGou7dBg",
        "outputId": "9c55d5c3-2351-4657-fc4a-42b58d25b9ef",
        "colab": {
          "base_uri": "https://localhost:8080/"
        }
      },
      "execution_count": 165,
      "outputs": [
        {
          "output_type": "stream",
          "name": "stdout",
          "text": [
            "Requirement already satisfied: pycm in /usr/local/lib/python3.10/dist-packages (4.0)\n",
            "Requirement already satisfied: livelossplot in /usr/local/lib/python3.10/dist-packages (0.5.5)\n",
            "Requirement already satisfied: art>=1.8 in /usr/local/lib/python3.10/dist-packages (from pycm) (6.1)\n",
            "Requirement already satisfied: numpy>=1.9.0 in /usr/local/lib/python3.10/dist-packages (from pycm) (1.23.5)\n",
            "Requirement already satisfied: matplotlib in /usr/local/lib/python3.10/dist-packages (from livelossplot) (3.7.1)\n",
            "Requirement already satisfied: bokeh in /usr/local/lib/python3.10/dist-packages (from livelossplot) (3.3.1)\n",
            "Requirement already satisfied: Jinja2>=2.9 in /usr/local/lib/python3.10/dist-packages (from bokeh->livelossplot) (3.1.2)\n",
            "Requirement already satisfied: contourpy>=1 in /usr/local/lib/python3.10/dist-packages (from bokeh->livelossplot) (1.2.0)\n",
            "Requirement already satisfied: packaging>=16.8 in /usr/local/lib/python3.10/dist-packages (from bokeh->livelossplot) (23.2)\n",
            "Requirement already satisfied: pandas>=1.2 in /usr/local/lib/python3.10/dist-packages (from bokeh->livelossplot) (1.5.3)\n",
            "Requirement already satisfied: pillow>=7.1.0 in /usr/local/lib/python3.10/dist-packages (from bokeh->livelossplot) (9.4.0)\n",
            "Requirement already satisfied: PyYAML>=3.10 in /usr/local/lib/python3.10/dist-packages (from bokeh->livelossplot) (6.0.1)\n",
            "Requirement already satisfied: tornado>=5.1 in /usr/local/lib/python3.10/dist-packages (from bokeh->livelossplot) (6.3.2)\n",
            "Requirement already satisfied: xyzservices>=2021.09.1 in /usr/local/lib/python3.10/dist-packages (from bokeh->livelossplot) (2023.10.1)\n",
            "Requirement already satisfied: cycler>=0.10 in /usr/local/lib/python3.10/dist-packages (from matplotlib->livelossplot) (0.12.1)\n",
            "Requirement already satisfied: fonttools>=4.22.0 in /usr/local/lib/python3.10/dist-packages (from matplotlib->livelossplot) (4.45.1)\n",
            "Requirement already satisfied: kiwisolver>=1.0.1 in /usr/local/lib/python3.10/dist-packages (from matplotlib->livelossplot) (1.4.5)\n",
            "Requirement already satisfied: pyparsing>=2.3.1 in /usr/local/lib/python3.10/dist-packages (from matplotlib->livelossplot) (3.1.1)\n",
            "Requirement already satisfied: python-dateutil>=2.7 in /usr/local/lib/python3.10/dist-packages (from matplotlib->livelossplot) (2.8.2)\n",
            "Requirement already satisfied: MarkupSafe>=2.0 in /usr/local/lib/python3.10/dist-packages (from Jinja2>=2.9->bokeh->livelossplot) (2.1.3)\n",
            "Requirement already satisfied: pytz>=2020.1 in /usr/local/lib/python3.10/dist-packages (from pandas>=1.2->bokeh->livelossplot) (2023.3.post1)\n",
            "Requirement already satisfied: six>=1.5 in /usr/local/lib/python3.10/dist-packages (from python-dateutil>=2.7->matplotlib->livelossplot) (1.16.0)\n",
            "Populating the interactive namespace from numpy and matplotlib\n"
          ]
        },
        {
          "output_type": "stream",
          "name": "stderr",
          "text": [
            "/usr/local/lib/python3.10/dist-packages/IPython/core/magics/pylab.py:159: UserWarning: pylab import has clobbered these variables: ['seed', 'indices']\n",
            "`%matplotlib` prevents importing * from pylab and numpy\n",
            "  warn(\"pylab import has clobbered these variables: %s\"  % clobbered +\n"
          ]
        }
      ]
    },
    {
      "cell_type": "code",
      "source": [
        "from sklearn.metrics import accuracy_score\n",
        "from sklearn.model_selection import StratifiedShuffleSplit\n",
        "\n",
        "from livelossplot import PlotLosses\n",
        "from pycm import *\n",
        "\n",
        "import torch\n",
        "import torch.nn as nn\n",
        "import torch.nn.functional as F\n",
        "from torch.utils.data import TensorDataset, DataLoader\n",
        "import torchvision.transforms as transforms\n",
        "from torchvision.datasets import MNIST\n",
        "from torchsummary import summary\n",
        "\n",
        "def set_seed(seed):\n",
        "    \"\"\"\n",
        "    Use this to set ALL the random seeds to a fixed value and take out any randomness from cuda kernels\n",
        "    \"\"\"\n",
        "    random.seed(seed)\n",
        "    np.random.seed(seed)\n",
        "    torch.manual_seed(seed)\n",
        "    torch.cuda.manual_seed_all(seed)\n",
        "\n",
        "    torch.backends.cudnn.benchmark = False  # uses the inbuilt cudnn auto-tuner to find the fastest convolution algorithms. Useful when inputs do not change size -\n",
        "    torch.backends.cudnn.enabled   = False\n",
        "\n",
        "    return True\n",
        "device = 'cpu'\n",
        "if torch.cuda.device_count() > 0 and torch.cuda.is_available():\n",
        "    print(\"Cuda installed! Running on GPU!\")\n",
        "    device = 'cuda'\n",
        "else:\n",
        "    print(\"No GPU available!\")"
      ],
      "metadata": {
        "id": "hncVSjFpJo79",
        "outputId": "cf274861-2acc-43a1-b7da-c837d8ff1fee",
        "colab": {
          "base_uri": "https://localhost:8080/"
        }
      },
      "execution_count": 166,
      "outputs": [
        {
          "output_type": "stream",
          "name": "stdout",
          "text": [
            "No GPU available!\n"
          ]
        }
      ]
    },
    {
      "cell_type": "code",
      "source": [
        "# 实现一个前向传播网络（Feedforward Neural Network）\n",
        "class simpleFFN(nn.Module):\n",
        "    def __init__(self):\n",
        "        super(simpleFFN, self).__init__()\n",
        "        self.hidden_1 = nn.Linear(784,400,bias=True)\n",
        "        self.hidden_2 = nn.Linear(400,200,bias=True)\n",
        "        self.hidden_3 = nn.Linear(200,50,bias=True)\n",
        "        self.output = nn.Linear(50,10,bias=False)\n",
        "        self.activation = nn.Sigmoid()\n",
        "\n",
        "    def forward(self, X):\n",
        "        z1 = self.hidden_1(X)\n",
        "        a1 = self.activation(z1)\n",
        "        z2 = self.hidden_2(a1)\n",
        "        a2 = self.activation(z2)\n",
        "        z3 = self.hidden_3(z2)\n",
        "        a3 = self.activation(z3)\n",
        "        z4 = self.output(a3)\n",
        "        a4 = self.activation(z4)\n",
        "        return a4\n",
        "x = torch.randn((1,1,784))\n",
        "model = simpleFFN()\n",
        "y = model(x)\n",
        "print(y)\n",
        "print(model)\n",
        "\n"
      ],
      "metadata": {
        "id": "2r42D65N7hVy",
        "outputId": "d6272f50-c062-4f7a-bf81-ac223af1860f",
        "colab": {
          "base_uri": "https://localhost:8080/"
        }
      },
      "execution_count": 167,
      "outputs": [
        {
          "output_type": "stream",
          "name": "stdout",
          "text": [
            "tensor([[[0.5466, 0.5639, 0.4119, 0.6227, 0.5753, 0.5022, 0.5026, 0.5599,\n",
            "          0.5325, 0.5310]]], grad_fn=<SigmoidBackward0>)\n",
            "simpleFFN(\n",
            "  (hidden_1): Linear(in_features=784, out_features=400, bias=True)\n",
            "  (hidden_2): Linear(in_features=400, out_features=200, bias=True)\n",
            "  (hidden_3): Linear(in_features=200, out_features=50, bias=True)\n",
            "  (output): Linear(in_features=50, out_features=10, bias=False)\n",
            "  (activation): Sigmoid()\n",
            ")\n"
          ]
        }
      ]
    },
    {
      "cell_type": "code",
      "source": [
        "# 加载数据集\n",
        "mnist_train = MNIST('./', download=True, train=True)\n",
        "mnist_test = MNIST('./', download=True, train=False)"
      ],
      "metadata": {
        "id": "WnN_LYNCBLeE"
      },
      "execution_count": 168,
      "outputs": []
    },
    {
      "cell_type": "code",
      "source": [
        "# 分割数据集\n",
        "shuffler = StratifiedShuffleSplit(n_splits=1 ,test_size=0.1, random_state=42)\n",
        "# 这里总是蒙圈，但是不是有X_train, X_test, y_train, y_test吗\n",
        "# 训练集是要分成X_train,y_train的，label就是y\n",
        "shuffler = shuffler.split(mnist_train.train_data, mnist_train.train_labels)\n",
        "indices = [(train_idx, validation_idx) for train_idx, validation_idx in shuffler][0]"
      ],
      "metadata": {
        "id": "1zqV6A8mBlzH",
        "outputId": "a6bd7ceb-27d9-4d6d-f3f1-414a7058270f",
        "colab": {
          "base_uri": "https://localhost:8080/"
        }
      },
      "execution_count": 169,
      "outputs": [
        {
          "output_type": "stream",
          "name": "stderr",
          "text": [
            "/usr/local/lib/python3.10/dist-packages/torchvision/datasets/mnist.py:75: UserWarning: train_data has been renamed data\n",
            "  warnings.warn(\"train_data has been renamed data\")\n",
            "/usr/local/lib/python3.10/dist-packages/torchvision/datasets/mnist.py:65: UserWarning: train_labels has been renamed targets\n",
            "  warnings.warn(\"train_labels has been renamed targets\")\n"
          ]
        }
      ]
    },
    {
      "cell_type": "code",
      "source": [
        "indices"
      ],
      "metadata": {
        "id": "9jK_PjQODmAy",
        "outputId": "f4673529-c194-4363-d3ba-6833cf9b9433",
        "colab": {
          "base_uri": "https://localhost:8080/"
        }
      },
      "execution_count": 170,
      "outputs": [
        {
          "output_type": "execute_result",
          "data": {
            "text/plain": [
              "(array([50700, 15345,  2527, ...,  4176, 14834, 39484]),\n",
              " array([58886, 22875, 48551, ..., 13829, 40340, 38131]))"
            ]
          },
          "metadata": {},
          "execution_count": 170
        }
      ]
    },
    {
      "cell_type": "code",
      "source": [
        "mnist_train.train_data[indices[0]].shape"
      ],
      "metadata": {
        "id": "MEgxHB-QEQ2q",
        "outputId": "8d08dc4c-2548-4efb-f78b-4809c48f20d7",
        "colab": {
          "base_uri": "https://localhost:8080/"
        }
      },
      "execution_count": 171,
      "outputs": [
        {
          "output_type": "stream",
          "name": "stderr",
          "text": [
            "/usr/local/lib/python3.10/dist-packages/torchvision/datasets/mnist.py:75: UserWarning: train_data has been renamed data\n",
            "  warnings.warn(\"train_data has been renamed data\")\n"
          ]
        },
        {
          "output_type": "execute_result",
          "data": {
            "text/plain": [
              "torch.Size([54000, 28, 28])"
            ]
          },
          "metadata": {},
          "execution_count": 171
        }
      ]
    },
    {
      "cell_type": "code",
      "source": [
        "mnist_train.train_data.shape"
      ],
      "metadata": {
        "id": "f4uUtHe1EZFP",
        "outputId": "b177868b-1149-4ec1-9d95-35cc0db28313",
        "colab": {
          "base_uri": "https://localhost:8080/"
        }
      },
      "execution_count": 172,
      "outputs": [
        {
          "output_type": "execute_result",
          "data": {
            "text/plain": [
              "torch.Size([60000, 28, 28])"
            ]
          },
          "metadata": {},
          "execution_count": 172
        }
      ]
    },
    {
      "cell_type": "code",
      "source": [
        "# 标准化数据\n",
        "def apply_standardization(X):\n",
        "    X /= 255\n",
        "    X -= 0.1307\n",
        "    X /= 0.3081\n",
        "    return X"
      ],
      "metadata": {
        "id": "N6QB8u4_DKgZ"
      },
      "execution_count": 173,
      "outputs": []
    },
    {
      "cell_type": "code",
      "source": [
        "X_train, y_train = apply_standardization(mnist_train.train_data[indices[0]].float()), mnist_train.train_labels[indices[0]]\n",
        "X_val, y_val = apply_standardization(mnist_train.train_data[indices[1]].float()), mnist_train.train_labels[indices[1]]\n",
        "X_test, y_test = apply_standardization(mnist_test.test_data.float()), mnist_test.test_labels"
      ],
      "metadata": {
        "id": "wNvQraFNDZFb",
        "outputId": "427cc270-4f80-41cf-fbf2-5fc964dfc904",
        "colab": {
          "base_uri": "https://localhost:8080/"
        }
      },
      "execution_count": 174,
      "outputs": [
        {
          "output_type": "stream",
          "name": "stderr",
          "text": [
            "/usr/local/lib/python3.10/dist-packages/torchvision/datasets/mnist.py:65: UserWarning: train_labels has been renamed targets\n",
            "  warnings.warn(\"train_labels has been renamed targets\")\n",
            "/usr/local/lib/python3.10/dist-packages/torchvision/datasets/mnist.py:80: UserWarning: test_data has been renamed data\n",
            "  warnings.warn(\"test_data has been renamed data\")\n",
            "/usr/local/lib/python3.10/dist-packages/torchvision/datasets/mnist.py:70: UserWarning: test_labels has been renamed targets\n",
            "  warnings.warn(\"test_labels has been renamed targets\")\n"
          ]
        }
      ]
    },
    {
      "cell_type": "code",
      "source": [
        "# 打包数据\n",
        "mnist_train = TensorDataset(X_train, y_train.long())\n",
        "mnist_val = TensorDataset(X_val, y_val.long())\n",
        "mnist_test = TensorDataset(X_test, y_test.long())\n"
      ],
      "metadata": {
        "id": "o2i9e3YaF17D"
      },
      "execution_count": 175,
      "outputs": []
    },
    {
      "cell_type": "code",
      "source": [
        "plt.imshow(X_train[1], cmap='gray')"
      ],
      "metadata": {
        "id": "6xCMa6LnHEEC",
        "outputId": "490798f9-a3e3-4233-bf20-844c8cf42569",
        "colab": {
          "base_uri": "https://localhost:8080/",
          "height": 448
        }
      },
      "execution_count": 176,
      "outputs": [
        {
          "output_type": "execute_result",
          "data": {
            "text/plain": [
              "<matplotlib.image.AxesImage at 0x7c605f3101f0>"
            ]
          },
          "metadata": {},
          "execution_count": 176
        },
        {
          "output_type": "display_data",
          "data": {
            "text/plain": [
              "<Figure size 640x480 with 1 Axes>"
            ],
            "image/png": "[encoded data removed]"
          },
          "metadata": {}
        }
      ]
    },
    {
      "cell_type": "code",
      "source": [
        "# 训练模型的函数\n",
        "def train(model, optimizer, criterion, data_loader):\n",
        "    model.train()\n",
        "    train_loss, train_accuracy = 0, 0\n",
        "    for X, y in data_loader:\n",
        "        X, y = X.to(device),y.to(device)\n",
        "        optimizer.zero_grad()\n",
        "        a2 = model(X.view(-1,28*28))\n",
        "        loss = criterion(a2,y)\n",
        "        loss.backward()\n",
        "        train_loss += loss*X.size(0)\n",
        "        y_pred = F.log_softmax(a2, dim=1).max(1)[1]\n",
        "        train_accuracy += accuracy_score(y.cpu().numpy(), y_pred.detach().cpu().numpy())*X.size(0)\n",
        "        optimizer.step()\n",
        "    return train_loss/len(data_loader.dataset), train_accuracy/len(data_loader.dataset)\n",
        "\n",
        "def validate(model, criterion, data_loader):\n",
        "    model.eval()\n",
        "    validation_loss, validation_accuracy = 0, 0\n",
        "    for X,y in data_loader:\n",
        "        with torch.no_grad():\n",
        "            X ,y = X.to(device),y.to(device)\n",
        "            a2 = model(X.view(-1,28*28))\n",
        "            loss = criterion(a2 ,y)\n",
        "            validation_loss += loss*X.size(0)\n",
        "            y_pred = F.log_softmax(a2, dim=1).max(1)[1]\n",
        "            validation_accuracy += accuracy_score(y.cpu().numpy(), y_pred.cpu().numpy())*X.size(0)\n",
        "    return validation_loss/len(data_loader.dataset), validation_accuracy/len(data_loader.dataset)\n"
      ],
      "metadata": {
        "id": "3PhIqdIMHMZ4"
      },
      "execution_count": 177,
      "outputs": []
    },
    {
      "cell_type": "code",
      "source": [
        "seed = 42\n",
        "lr = 1e-2\n",
        "momentum = 0.9\n",
        "batch_size = 64\n",
        "test_batch_size = 1000\n",
        "n_epochs = 30"
      ],
      "metadata": {
        "id": "V03PjmiXJC5R"
      },
      "execution_count": 178,
      "outputs": []
    },
    {
      "cell_type": "code",
      "source": [
        "set_seed(seed)\n",
        "model = simpleFFN().to(device)\n",
        "optimizer = torch.optim.SGD(model.parameters(), lr=lr, momentum=momentum)\n",
        "criterion = nn.CrossEntropyLoss()"
      ],
      "metadata": {
        "id": "0VJ3hVRZJC8I"
      },
      "execution_count": 179,
      "outputs": []
    },
    {
      "cell_type": "code",
      "source": [
        "# 数据加载器，吧数据分块训练\n",
        "train_loader = DataLoader(mnist_train, batch_size=batch_size, shuffle=True, num_workers=0)\n",
        "validation_loader = DataLoader(mnist_val, batch_size=test_batch_size, shuffle=False, num_workers=0)\n",
        "test_loader = DataLoader(mnist_test, batch_size=test_batch_size, shuffle=False, num_workers=0)\n"
      ],
      "metadata": {
        "id": "sL8VdHtwJC-e"
      },
      "execution_count": 180,
      "outputs": []
    },
    {
      "cell_type": "code",
      "source": [
        "\n",
        "# 训练\n",
        "set_seed(seed)\n",
        "liveloss = PlotLosses()    # plots evolution of loss and accuracy\n",
        "for epoch in range(30):\n",
        "    logs = {}\n",
        "    train_loss, train_accuracy = train(model, optimizer, criterion, train_loader)\n",
        "\n",
        "    logs['' + 'log loss'] = train_loss.item()\n",
        "    logs['' + 'accuracy'] = train_accuracy.item()\n",
        "\n",
        "    validation_loss, validation_accuracy = validate(model, criterion, validation_loader)\n",
        "    logs['val_' + 'log loss'] = validation_loss.item()\n",
        "    logs['val_' + 'accuracy'] = validation_accuracy.item()\n",
        "\n",
        "    liveloss.update(logs)\n",
        "    liveloss.draw()\n",
        "    print(validation_loss.item())"
      ],
      "metadata": {
        "id": "7EfiTm1bJDAk",
        "outputId": "8a263c21-2c83-419f-c964-79a405f8a628",
        "colab": {
          "base_uri": "https://localhost:8080/",
          "height": 784
        }
      },
      "execution_count": 181,
      "outputs": [
        {
          "output_type": "display_data",
          "data": {
            "text/plain": [
              "<Figure size 1200x800 with 2 Axes>"
            ],
            "image/png": "[encoded data removed]"
          },
          "metadata": {}
        },
        {
          "output_type": "stream",
          "name": "stdout",
          "text": [
            "accuracy\n",
            "\ttraining         \t (min:    0.157, max:    0.966, cur:    0.966)\n",
            "\tvalidation       \t (min:    0.369, max:    0.960, cur:    0.960)\n",
            "log loss\n",
            "\ttraining         \t (min:    1.500, max:    2.288, cur:    1.500)\n",
            "\tvalidation       \t (min:    1.505, max:    2.243, cur:    1.505)\n",
            "1.50544011592865\n"
          ]
        }
      ]
    },
    {
      "cell_type": "code",
      "source": [],
      "metadata": {
        "id": "D-CcMi3BJDC8"
      },
      "execution_count": 181,
      "outputs": []
    },
    {
      "cell_type": "code",
      "source": [],
      "metadata": {
        "id": "DmxCSm4BJDFC"
      },
      "execution_count": 181,
      "outputs": []
    }
  ]
}