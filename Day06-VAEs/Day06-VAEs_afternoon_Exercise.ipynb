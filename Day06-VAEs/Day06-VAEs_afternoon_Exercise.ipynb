{
  "cells": [
    {
      "cell_type": "markdown",
      "source": [
        "<img src=\"https://drive.google.com/uc?id=1DvKhAzLtk-Hilu7Le73WAOz2EBR5d41G\" width=\"500\"/>\n",
        "\n",
        "---"
      ],
      "metadata": {
        "id": "b1vQEANQ2WKq"
      }
    },
    {
      "cell_type": "markdown",
      "metadata": {
        "id": "OZAqrTaTGmLp"
      },
      "source": [
        "## **Day07 Afternoon: Variational Autoencoders**\n",
        "\n",
        "> Indented block\n",
        "\n",
        "\n",
        "\n",
        "# Introduction\n",
        "\n",
        "We are going to build a linear and convolutional VAE for the chest medmnist dataset.\n",
        "\n",
        "## 0.1 Installing MedMNIST"
      ]
    },
    {
      "cell_type": "code",
      "execution_count": 1,
      "metadata": {
        "id": "e4zyBfxBDJxb",
        "outputId": "ce3dff75-d870-4793-921e-d0daf6cec188",
        "colab": {
          "base_uri": "https://localhost:8080/"
        }
      },
      "outputs": [
        {
          "output_type": "stream",
          "name": "stdout",
          "text": [
            "Collecting medmnist\n",
            "  Downloading medmnist-2.2.3-py3-none-any.whl (22 kB)\n",
            "Requirement already satisfied: numpy in /usr/local/lib/python3.10/dist-packages (from medmnist) (1.23.5)\n",
            "Requirement already satisfied: pandas in /usr/local/lib/python3.10/dist-packages (from medmnist) (1.5.3)\n",
            "Requirement already satisfied: scikit-learn in /usr/local/lib/python3.10/dist-packages (from medmnist) (1.2.2)\n",
            "Requirement already satisfied: scikit-image in /usr/local/lib/python3.10/dist-packages (from medmnist) (0.19.3)\n",
            "Requirement already satisfied: tqdm in /usr/local/lib/python3.10/dist-packages (from medmnist) (4.66.1)\n",
            "Requirement already satisfied: Pillow in /usr/local/lib/python3.10/dist-packages (from medmnist) (9.4.0)\n",
            "Collecting fire (from medmnist)\n",
            "  Downloading fire-0.5.0.tar.gz (88 kB)\n",
            "\u001b[2K     \u001b[90m━━━━━━━━━━━━━━━━━━━━━━━━━━━━━━━━━━━━━━━━\u001b[0m \u001b[32m88.3/88.3 kB\u001b[0m \u001b[31m3.9 MB/s\u001b[0m eta \u001b[36m0:00:00\u001b[0m\n",
            "\u001b[?25h  Preparing metadata (setup.py) ... \u001b[?25l\u001b[?25hdone\n",
            "Requirement already satisfied: torch in /usr/local/lib/python3.10/dist-packages (from medmnist) (2.1.0+cu118)\n",
            "Requirement already satisfied: torchvision in /usr/local/lib/python3.10/dist-packages (from medmnist) (0.16.0+cu118)\n",
            "Requirement already satisfied: six in /usr/local/lib/python3.10/dist-packages (from fire->medmnist) (1.16.0)\n",
            "Requirement already satisfied: termcolor in /usr/local/lib/python3.10/dist-packages (from fire->medmnist) (2.3.0)\n",
            "Requirement already satisfied: python-dateutil>=2.8.1 in /usr/local/lib/python3.10/dist-packages (from pandas->medmnist) (2.8.2)\n",
            "Requirement already satisfied: pytz>=2020.1 in /usr/local/lib/python3.10/dist-packages (from pandas->medmnist) (2023.3.post1)\n",
            "Requirement already satisfied: scipy>=1.4.1 in /usr/local/lib/python3.10/dist-packages (from scikit-image->medmnist) (1.11.4)\n",
            "Requirement already satisfied: networkx>=2.2 in /usr/local/lib/python3.10/dist-packages (from scikit-image->medmnist) (3.2.1)\n",
            "Requirement already satisfied: imageio>=2.4.1 in /usr/local/lib/python3.10/dist-packages (from scikit-image->medmnist) (2.31.6)\n",
            "Requirement already satisfied: tifffile>=2019.7.26 in /usr/local/lib/python3.10/dist-packages (from scikit-image->medmnist) (2023.9.26)\n",
            "Requirement already satisfied: PyWavelets>=1.1.1 in /usr/local/lib/python3.10/dist-packages (from scikit-image->medmnist) (1.5.0)\n",
            "Requirement already satisfied: packaging>=20.0 in /usr/local/lib/python3.10/dist-packages (from scikit-image->medmnist) (23.2)\n",
            "Requirement already satisfied: joblib>=1.1.1 in /usr/local/lib/python3.10/dist-packages (from scikit-learn->medmnist) (1.3.2)\n",
            "Requirement already satisfied: threadpoolctl>=2.0.0 in /usr/local/lib/python3.10/dist-packages (from scikit-learn->medmnist) (3.2.0)\n",
            "Requirement already satisfied: filelock in /usr/local/lib/python3.10/dist-packages (from torch->medmnist) (3.13.1)\n",
            "Requirement already satisfied: typing-extensions in /usr/local/lib/python3.10/dist-packages (from torch->medmnist) (4.5.0)\n",
            "Requirement already satisfied: sympy in /usr/local/lib/python3.10/dist-packages (from torch->medmnist) (1.12)\n",
            "Requirement already satisfied: jinja2 in /usr/local/lib/python3.10/dist-packages (from torch->medmnist) (3.1.2)\n",
            "Requirement already satisfied: fsspec in /usr/local/lib/python3.10/dist-packages (from torch->medmnist) (2023.6.0)\n",
            "Requirement already satisfied: triton==2.1.0 in /usr/local/lib/python3.10/dist-packages (from torch->medmnist) (2.1.0)\n",
            "Requirement already satisfied: requests in /usr/local/lib/python3.10/dist-packages (from torchvision->medmnist) (2.31.0)\n",
            "Requirement already satisfied: MarkupSafe>=2.0 in /usr/local/lib/python3.10/dist-packages (from jinja2->torch->medmnist) (2.1.3)\n",
            "Requirement already satisfied: charset-normalizer<4,>=2 in /usr/local/lib/python3.10/dist-packages (from requests->torchvision->medmnist) (3.3.2)\n",
            "Requirement already satisfied: idna<4,>=2.5 in /usr/local/lib/python3.10/dist-packages (from requests->torchvision->medmnist) (3.6)\n",
            "Requirement already satisfied: urllib3<3,>=1.21.1 in /usr/local/lib/python3.10/dist-packages (from requests->torchvision->medmnist) (2.0.7)\n",
            "Requirement already satisfied: certifi>=2017.4.17 in /usr/local/lib/python3.10/dist-packages (from requests->torchvision->medmnist) (2023.11.17)\n",
            "Requirement already satisfied: mpmath>=0.19 in /usr/local/lib/python3.10/dist-packages (from sympy->torch->medmnist) (1.3.0)\n",
            "Building wheels for collected packages: fire\n",
            "  Building wheel for fire (setup.py) ... \u001b[?25l\u001b[?25hdone\n",
            "  Created wheel for fire: filename=fire-0.5.0-py2.py3-none-any.whl size=116934 sha256=1c6dc86c999ccd58e22db438e9d4e15f4aed7949a98b318d519f528668139d56\n",
            "  Stored in directory: /root/.cache/pip/wheels/90/d4/f7/9404e5db0116bd4d43e5666eaa3e70ab53723e1e3ea40c9a95\n",
            "Successfully built fire\n",
            "Installing collected packages: fire, medmnist\n",
            "Successfully installed fire-0.5.0 medmnist-2.2.3\n"
          ]
        }
      ],
      "source": [
        "!pip install medmnist"
      ]
    },
    {
      "cell_type": "markdown",
      "metadata": {
        "id": "qqoIGvDXHAKe"
      },
      "source": [
        "## 0.2 Import packages"
      ]
    },
    {
      "cell_type": "code",
      "execution_count": 2,
      "metadata": {
        "id": "YIwV1csTDefr"
      },
      "outputs": [],
      "source": [
        "from tqdm import tqdm\n",
        "import numpy as np\n",
        "import torch\n",
        "import torch.nn as nn\n",
        "import torch.optim as optim\n",
        "import torch.utils.data as data\n",
        "import torchvision.transforms as transforms\n",
        "\n",
        "import medmnist\n",
        "from medmnist import INFO, Evaluator\n",
        "\n",
        "import matplotlib.pyplot as plt"
      ]
    },
    {
      "cell_type": "markdown",
      "metadata": {
        "id": "FC5TwQ4fHk5o"
      },
      "source": [
        "## 0.3 Download the dataset\n",
        "\n",
        "Tip: there are often examples in the README files:\n",
        "\n",
        "https://github.com/MedMNIST/MedMNIST/blob/main/README.md\n",
        "\n",
        "I learnt how to do this using the example in\n",
        "\n",
        "https://github.com/MedMNIST/MedMNIST/blob/main/examples/getting_started.ipynb"
      ]
    },
    {
      "cell_type": "code",
      "execution_count": 3,
      "metadata": {
        "id": "hMLwtvQ_Dg9C",
        "outputId": "659b3532-8901-4b65-d9ed-95382de09819",
        "colab": {
          "base_uri": "https://localhost:8080/"
        }
      },
      "outputs": [
        {
          "output_type": "stream",
          "name": "stdout",
          "text": [
            "Downloading https://zenodo.org/records/6496656/files/chestmnist.npz to /root/.medmnist/chestmnist.npz\n"
          ]
        },
        {
          "output_type": "stream",
          "name": "stderr",
          "text": [
            "100%|██████████| 82802576/82802576 [00:03<00:00, 20835602.37it/s]\n"
          ]
        },
        {
          "output_type": "stream",
          "name": "stdout",
          "text": [
            "Using downloaded and verified file: /root/.medmnist/chestmnist.npz\n",
            "Using downloaded and verified file: /root/.medmnist/chestmnist.npz\n"
          ]
        }
      ],
      "source": [
        "data_flag = 'chestmnist'\n",
        "download = True\n",
        "\n",
        "batch_size = 32\n",
        "\n",
        "info = INFO[data_flag]\n",
        "task = info['task']\n",
        "n_channels = info['n_channels']\n",
        "n_classes = len(info['label'])\n",
        "\n",
        "DataClass = getattr(medmnist, info['python_class'])\n",
        "\n",
        "# preprocessing\n",
        "data_transform = transforms.Compose([\n",
        "    transforms.ToTensor(),\n",
        "    # transforms.Normalize(mean=[.5], std=[.5])\n",
        "])\n",
        "\n",
        "# load the data\n",
        "train_dataset = DataClass(split='train', transform=data_transform, download=download)\n",
        "test_dataset = DataClass(split='test', transform=data_transform, download=download)\n",
        "\n",
        "pil_dataset = DataClass(split='train', download=download)\n",
        "\n",
        "# encapsulate data into dataloader form\n",
        "train_loader = data.DataLoader(dataset=train_dataset, batch_size=batch_size, shuffle=True)\n",
        "train_loader_at_eval = data.DataLoader(dataset=train_dataset, batch_size=2*batch_size, shuffle=False)\n",
        "test_loader = data.DataLoader(dataset=test_dataset, batch_size=2*batch_size, shuffle=False)\n",
        "\n"
      ]
    },
    {
      "cell_type": "markdown",
      "metadata": {
        "id": "1hRK7VCzHqUc"
      },
      "source": [
        "## 0.4 Check the dataset\n",
        "\n",
        "It's always a good idea to check the dataset before using it.\n",
        "\n",
        "According to https://medmnist.com/, the dataset should consist of 28x28 images. The chest class has 112,120 images with splits for:\n",
        "\n",
        "- training\t(78,468 images)\n",
        "- validation (11,219 images)\n",
        "- testing (22,433 images)\n",
        "\n",
        "__Can you:__\n",
        "\n",
        "1. Check the number of batches in the dataloader? (Hint: check the length)\n",
        "2. Get the first batch of images out of the dataloader?\n",
        "3. Plot the first image in the batch?\n",
        "4. How many pixels does an image contain?\n",
        "5. What is the range of the images?\n"
      ]
    },
    {
      "cell_type": "code",
      "execution_count": 4,
      "metadata": {
        "id": "lO8uYHMBET1T",
        "outputId": "e72d8390-ba34-4f0a-866a-7bd6e81a0d33",
        "colab": {
          "base_uri": "https://localhost:8080/",
          "height": 593
        }
      },
      "outputs": [
        {
          "output_type": "stream",
          "name": "stdout",
          "text": [
            "<torch.utils.data.dataloader.DataLoader object at 0x7863346a3790>\n",
            "Batch size: 32\n",
            "Batches:<bound method DataLoader.__len__ of <torch.utils.data.dataloader.DataLoader object at 0x7863346a3790>>\n",
            "Num images: 78496\n",
            "\n",
            "Image shape: torch.Size([32, 1, 28, 28])\n",
            "Pixels:784\n",
            "Range: max, 0.9450980424880981 min,0.0\n"
          ]
        },
        {
          "output_type": "display_data",
          "data": {
            "text/plain": [
              "<Figure size 640x480 with 2 Axes>"
            ],
            "image/png": "[encoded data removed]"
          },
          "metadata": {}
        }
      ],
      "source": [
        "print(train_loader)\n",
        "print('Batch size: '+str(train_loader.batch_size))\n",
        "print('Batches:'+str(train_loader.__len__))  # Check the number of batches\n",
        "print('Num images: '+str(train_loader.batch_size*train_loader.__len__()))\n",
        "print()\n",
        "\n",
        "  # Get the first batch of images\n",
        "images, labels = next(iter(train_loader))\n",
        "\n",
        "print('Image shape: '+str(images.shape))  # NOTE: The shape is n_ims, n_channels, img_dims\n",
        "\n",
        "plt.imshow(images[0].squeeze())  # Plot the first image in the batch\n",
        "plt.colorbar()\n",
        "\n",
        "print('Pixels:'+str(images.shape[2]*images.shape[3]))  # How many pixels are in the image\n",
        "print('Range: max, '+str(float(images.max()))+' min,'+str(float(images.min())))\n"
      ]
    },
    {
      "cell_type": "markdown",
      "metadata": {
        "id": "0OJy6svbKmTT"
      },
      "source": [
        "## 1.1 The Encoder\n",
        "\n",
        "The encoder takes an image and develops a latent vector. Use Linear layers and ReLU activation functions to generate the Mu and Sigma latent vectors.\n",
        "\n",
        "**In the**\n",
        "\\_\\_init\\_\\_()\n",
        "**function...**\n",
        "\n",
        "1. How many nodes should the first layer have?\n",
        "2. How would you choose the dimensionality reduction schedule?\n",
        "3. Design layers to generate latent vectors. Do they have activation functions?\n",
        "\n",
        "**In the**\n",
        "forward()\n",
        "**function...**\n",
        "\n",
        "1. Can you reshape the image to a vector?\n",
        "2. Can you Implement the latent vectors (mu/sigma) so they are returned with the correct values?\n"
      ]
    },
    {
      "cell_type": "code",
      "execution_count": 5,
      "metadata": {
        "id": "rpeHPmBPKmoI"
      },
      "outputs": [],
      "source": [
        "class VAE_Encoder(nn.Module):  # The Encoder inherits the properties of nn.Module https://pytorch.org/docs/stable/generated/torch.nn.Module.html\n",
        "  def __init__(self):\n",
        "    '''\n",
        "    Class contains the Encoder (image -> latent).\n",
        "    '''\n",
        "    super(VAE_Encoder, self).__init__()\n",
        "\n",
        "    self.layer1 = nn.Sequential(\n",
        "        nn.Linear(784,512,bias=False),  # How many nodes should the first layer have?\n",
        "        nn.ReLU()\n",
        "    )\n",
        "\n",
        "    self.layer2 = nn.Sequential(\n",
        "        nn.Linear(512,256,bias=False),  # How would you choose a dimensionality reduction schedule?\n",
        "        nn.ReLU()\n",
        "    )\n",
        "\n",
        "    self.layer3 = nn.Sequential(\n",
        "        nn.Linear(256,128,bias=False),   # How would you choose a dimensionality reduction schedule?\n",
        "        nn.ReLU()\n",
        "    )\n",
        "\n",
        "    self.layerMu = nn.Sequential(\n",
        "        nn.Linear(128, 16),\n",
        "        # Does this need an activation?\n",
        "    )\n",
        "\n",
        "    self.layerSigma = nn.Sequential(\n",
        "        nn.Linear(128, 16),\n",
        "        # Does this need an activation?\n",
        "    )\n",
        "\n",
        "  def forward(self, x):  # Custom pytorch modules should follow this structure\n",
        "    '''\n",
        "    x: [float] the MNIST image\n",
        "    '''\n",
        "\n",
        "    x = torch.flatten(x, start_dim=1)  # Reshape the input into a vector (nD to 1D)\n",
        "    x = self.layer1(x)\n",
        "    x = self.layer2(x)\n",
        "    x = self.layer3(x)\n",
        "    mu = self.layerMu(x) # Implement Mu\n",
        "    sigma = torch.exp(self.layerSigma(x))# Implement Sigma\n",
        "    return mu, sigma\n"
      ]
    },
    {
      "cell_type": "markdown",
      "metadata": {
        "id": "x4od0XCpOJpn"
      },
      "source": [
        "## 1.2 Encoding an image\n",
        "\n",
        "The encoder will take an image and generate 2 latent vectors (mu/sigma). It is important to show that the encoder works correcly.\n",
        "\n",
        "**Can you**\n",
        "\n",
        "1. Get the first image from the first batch?\n",
        "2. Run the image through the encoder?\n",
        "3. Are the elements of mu positive and negative?\n",
        "4. Are the elements of sigma all positive?\n",
        "\n",
        "**If the answer to questions 3 and 4 is not \"Yes\", then return to the encoder and make corrections.**"
      ]
    },
    {
      "cell_type": "code",
      "execution_count": 6,
      "metadata": {
        "id": "jySOXNp5M0IV",
        "outputId": "8c4c41b8-1c74-44c4-b545-36cf351b6bbd",
        "colab": {
          "base_uri": "https://localhost:8080/"
        }
      },
      "outputs": [
        {
          "output_type": "stream",
          "name": "stdout",
          "text": [
            "torch.Size([1, 28, 28])\n",
            "tensor([[-0.0926, -0.0324,  0.0509,  0.0161,  0.0584, -0.0054,  0.1036, -0.0222,\n",
            "         -0.0013,  0.1194, -0.1082,  0.0082,  0.0093,  0.0425, -0.0432,  0.0841]])\n",
            "tensor([[0.9747, 0.9907, 1.0575, 1.0478, 1.0582, 1.0035, 1.0971, 0.9810, 0.9772,\n",
            "         1.0403, 0.9870, 0.9275, 1.0003, 0.9871, 1.0454, 1.0538]])\n"
          ]
        }
      ],
      "source": [
        "encoder = VAE_Encoder()\n",
        "images, labels = next(iter(train_loader))\n",
        "print(images[0].shape)\n",
        "  # Get the first batch from the dataloader\n",
        "  # Get the first image from the batch\n",
        "mu, sigma = encoder(images[0].unsqueeze(0))\n",
        "\n",
        "\n",
        "print(mu.detach()) # Check whether the elements are correct?\n",
        "print(sigma.detach())"
      ]
    },
    {
      "cell_type": "markdown",
      "metadata": {
        "id": "iAFwqO9BStds"
      },
      "source": [
        "## 1.3 The Decoder\n",
        "\n",
        "The decoder takes a latent vector and develops an image. Use Linear layers and ReLU activation functions to generate an image.\n",
        "\n",
        "Remember, if you implement the stochastic sampling layer in the decoder, then you won't be able to make deterministic preditions.\n",
        "\n",
        "**In the**\n",
        "\\_\\_init\\_\\_()\n",
        "**function...**\n",
        "\n",
        "1. Should the latent vector layer have an activation function?\n",
        "2. How would you choose the dimensionality expansion schedule?\n",
        "3. What activation function should the output layer have?\n",
        "\n",
        "**In the**\n",
        "forward()\n",
        "**function...**\n",
        "\n",
        "1. Can you reshape the vector to an image?\n"
      ]
    },
    {
      "cell_type": "code",
      "execution_count": 7,
      "metadata": {
        "id": "jz9HlR8lSsu2"
      },
      "outputs": [],
      "source": [
        "class VAE_Decoder(nn.Module):  # The Encoder inherits the properties of nn.Module https://pytorch.org/docs/stable/generated/torch.nn.Module.html\n",
        "  def __init__(self):\n",
        "    '''\n",
        "    Class contains the Decoder (latent -> image).\n",
        "    '''\n",
        "\n",
        "    super(VAE_Decoder, self).__init__()\n",
        "\n",
        "    self.layerLatent = nn.Sequential(\n",
        "        nn.Linear(16, 128), # Choose the dimensionality expansion schedule\n",
        "        # Does the latent vector have an activation?\n",
        "    )\n",
        "\n",
        "    self.layer1 = nn.Sequential(\n",
        "        nn.Linear(128, 256,bias=False), # Choose the dimensionality expansion schedule\n",
        "        nn.ReLU()\n",
        "    )\n",
        "\n",
        "    self.layer2 = nn.Sequential(\n",
        "        nn.Linear(256, 512, bias=False),  # Choose the dimensionality expansion schedule\n",
        "        nn.ReLU()\n",
        "    )\n",
        "\n",
        "    self.layer3 = nn.Sequential(\n",
        "        nn.Linear(512, 784, bias=False),  # Choose the dimensionality expansion schedule\n",
        "         # What activation for the output layer?\n",
        "        nn.Sigmoid()\n",
        "    )\n",
        "\n",
        "  def forward(self, z):  # Custom pytorch modules should follow this structure\n",
        "    '''\n",
        "    x: [float] the MNIST image\n",
        "    '''\n",
        "\n",
        "    z = self.layerLatent(z)\n",
        "    z = self.layer1(z)\n",
        "    z = self.layer2(z)\n",
        "    z = self.layer3(z)\n",
        "    return z.reshape((-1,1,28,28))# Reshape the vector into an image\n",
        "\n"
      ]
    },
    {
      "cell_type": "markdown",
      "metadata": {
        "id": "OvCf5XZ1XUIZ"
      },
      "source": [
        "## 1.4 Decoding a latent vector\n",
        "\n",
        "The encoder will take a latent vector (z) and generate an image. It is important to show that the encoder works correcly.\n",
        "\n",
        "**Can you**\n",
        "\n",
        "1. Generate a vector of zeros with the correct shape?\n",
        "2. Run the latent vector through the decoder?\n",
        "3. Is the image the correct shape (1,1,28,28)?\n",
        "4. Does the image look like random noise?\n",
        "\n",
        "**If the answer to questions 3 and 4 is not \"Yes\", then return to the decoder and make corrections.**"
      ]
    },
    {
      "cell_type": "code",
      "execution_count": 8,
      "metadata": {
        "id": "qQDzq72EWS6O",
        "outputId": "859dab06-f6b3-4f07-ffe5-59b4d8e99ba4",
        "colab": {
          "base_uri": "https://localhost:8080/",
          "height": 466
        }
      },
      "outputs": [
        {
          "output_type": "stream",
          "name": "stdout",
          "text": [
            "Image shape: torch.Size([1, 1, 28, 28])\n"
          ]
        },
        {
          "output_type": "execute_result",
          "data": {
            "text/plain": [
              "<matplotlib.image.AxesImage at 0x7863292d71c0>"
            ]
          },
          "metadata": {},
          "execution_count": 8
        },
        {
          "output_type": "display_data",
          "data": {
            "text/plain": [
              "<Figure size 640x480 with 1 Axes>"
            ],
            "image/png": "[encoded data removed]"
          },
          "metadata": {}
        }
      ],
      "source": [
        "decoder = VAE_Decoder()\n",
        "\n",
        "z = torch.zeros(1,16)  # Generate a random vector with the correct shape\n",
        "image = decoder(z)  # Run the vector through the decoder\n",
        "\n",
        "print('Image shape: '+str(image.shape))  # Check the shape of the image\n",
        "\n",
        "plt.imshow(image.detach().cpu().squeeze())  # Does the image look like random noise?\n"
      ]
    },
    {
      "cell_type": "markdown",
      "metadata": {
        "id": "PXh14IV5X-5O"
      },
      "source": [
        "## 2.1 Autoencoder\n",
        "\n",
        "The output of the encoder is two latent vectors, mu and sigma. Together these represent the latent space distribution because they define a Gaussian distribution.\n",
        "\n",
        "Now we build the autoencoder. The autoencoder uses an *encoder* to generate the latent mu and sigma and a *decoder* to generate an image using the latent vector z. The latent vector z is found be stochastic sampling of the latent space distribution.\n",
        "\n",
        "**In**\n",
        "sample_latent_space()\n",
        "**Can you**\n",
        "\n",
        "1. Define an equation to sample from the latent distribution?\n",
        "\n",
        "**In**\n",
        "forward()\n",
        "**Can you**\n",
        "\n",
        "1. Take the image and generate the latent vectors mu & sigma?\n",
        "2. Take the latent vectors mu & sigma and generate the latent vector sample?\n",
        "3. Take the latent vector sample and generate the reconstructed image?\n",
        "\n"
      ]
    },
    {
      "cell_type": "code",
      "execution_count": 9,
      "metadata": {
        "id": "yz52IrPpYEvU",
        "outputId": "2e0688da-1e64-4e3d-c1cc-49fa46ce5efb",
        "colab": {
          "base_uri": "https://localhost:8080/"
        }
      },
      "outputs": [
        {
          "output_type": "stream",
          "name": "stdout",
          "text": [
            "done\n"
          ]
        }
      ],
      "source": [
        "class VAE(nn.Module):\n",
        "  def __init__(self, device):\n",
        "    '''\n",
        "    Class combines the Encoder and the Decoder with a VAE latent space.\n",
        "    '''\n",
        "    super(VAE, self).__init__()\n",
        "    self.device = device\n",
        "    self.encoder = VAE_Encoder()\n",
        "    self.decoder = VAE_Decoder()\n",
        "    self.distribution = torch.distributions.Normal(0, 1)  # Sample from N(0,1)\n",
        "\n",
        "  def sample_latent_space(self, mu, sigma):\n",
        "    z = mu + sigma*self.distribution.sample(mu.shape).to(self.device) ## (1) Sample the latent distribution\n",
        "    kl_div = (sigma**2 + mu**2 - torch.log(sigma) - 1/2).sum()  # A term, which is required for regularisation\n",
        "    return z, kl_div\n",
        "\n",
        "  def forward(self, x):\n",
        "    '''\n",
        "    x - [float] A batch of images from the data-loader\n",
        "    '''\n",
        "\n",
        "      ## (1) Generate the latent vectors Mu and Sigma\n",
        "    mu, sigma = self.encoder(x)\n",
        "      ## (2) Generate the latent vector sample\n",
        "    z, kl_div = self.sample_latent_space(mu, sigma)\n",
        "      ## (3) Generate the reconstructed image\n",
        "    z = self.decoder(z)\n",
        "    return z, kl_div\n",
        "\n",
        "print('done')"
      ]
    },
    {
      "cell_type": "markdown",
      "metadata": {
        "id": "mlx-mQmSbnjg"
      },
      "source": [
        "## 2.2 Generating a reconstruction\n",
        "\n",
        "It is important to test that the VAE works as expected."
      ]
    },
    {
      "cell_type": "code",
      "execution_count": 10,
      "metadata": {
        "id": "flVrCJtSZRLK",
        "outputId": "c08661b2-453c-4abd-962a-33294daea8bf",
        "colab": {
          "base_uri": "https://localhost:8080/",
          "height": 879
        }
      },
      "outputs": [
        {
          "output_type": "stream",
          "name": "stdout",
          "text": [
            "torch.Size([1, 28, 28])\n"
          ]
        },
        {
          "output_type": "execute_result",
          "data": {
            "text/plain": [
              "<matplotlib.image.AxesImage at 0x7863291f3130>"
            ]
          },
          "metadata": {},
          "execution_count": 10
        },
        {
          "output_type": "display_data",
          "data": {
            "text/plain": [
              "<Figure size 640x480 with 1 Axes>"
            ],
            "image/png": "[encoded data removed]"
          },
          "metadata": {}
        },
        {
          "output_type": "display_data",
          "data": {
            "text/plain": [
              "<Figure size 640x480 with 1 Axes>"
            ],
            "image/png": "[encoded data removed]"
          },
          "metadata": {}
        }
      ],
      "source": [
        "vae = VAE('cpu')\n",
        "\n",
        "images, labels = next(iter(train_loader))  # Get the first batch of images\n",
        "print(images[0].shape)  # Get the first image from the batch\n",
        "recon, _ = vae(images[10].unsqueeze(0))  # Are mu and sigma correct\n",
        "\n",
        "plt.figure(); plt.imshow(images[0].squeeze())\n",
        "plt.figure(); plt.imshow(recon.cpu().detach().squeeze())\n"
      ]
    },
    {
      "cell_type": "markdown",
      "metadata": {
        "id": "lDuEgpiFbwDB"
      },
      "source": [
        "## 3.1 Training the VAE"
      ]
    },
    {
      "cell_type": "code",
      "execution_count": 11,
      "metadata": {
        "id": "CL1LgPG8bvMj",
        "outputId": "cdb51767-3f45-43ae-e1dd-d873ec1169f5",
        "colab": {
          "base_uri": "https://localhost:8080/"
        }
      },
      "outputs": [
        {
          "output_type": "stream",
          "name": "stderr",
          "text": [
            "100%|██████████| 2453/2453 [00:16<00:00, 150.13it/s]\n",
            "100%|██████████| 2453/2453 [00:15<00:00, 157.59it/s]\n",
            "100%|██████████| 2453/2453 [00:16<00:00, 152.54it/s]\n",
            "100%|██████████| 2453/2453 [00:17<00:00, 143.03it/s]\n",
            "100%|██████████| 2453/2453 [00:15<00:00, 158.13it/s]\n",
            "100%|██████████| 2453/2453 [00:15<00:00, 158.18it/s]\n",
            "100%|██████████| 2453/2453 [00:15<00:00, 158.67it/s]\n",
            "100%|██████████| 2453/2453 [00:15<00:00, 157.49it/s]\n",
            "100%|██████████| 2453/2453 [00:16<00:00, 151.32it/s]\n",
            "100%|██████████| 2453/2453 [00:15<00:00, 156.05it/s]"
          ]
        },
        {
          "output_type": "stream",
          "name": "stdout",
          "text": [
            "done\n"
          ]
        },
        {
          "output_type": "stream",
          "name": "stderr",
          "text": [
            "\n"
          ]
        }
      ],
      "source": [
        "def train(autoencoder, data, kl_div_on=True, epochs=10, device='cpu'):\n",
        "  opt = torch.optim.Adam(autoencoder.parameters())\n",
        "  for epoch in range(epochs):  # Run data over numerous epochs\n",
        "    for batch, label in tqdm(data):  # Iterate over the batches of images and labels\n",
        "      batch = batch.to(device)  # Send batch of images to the GPU\n",
        "      opt.zero_grad()  # Set optimiser grad to 0\n",
        "      x_hat, KL = autoencoder(batch)  # Generate predicted images (x_hat) by running batch of images through autoencoder\n",
        "      loss = ((batch - x_hat)**2).sum() + KL  # Calculate combined loss\n",
        "      loss.backward()  # Back-propagate\n",
        "      opt.step()  # Step the optimiser\n",
        "  return autoencoder  # Return the trained autoencoder (for later analysis)\n",
        "\n",
        "device = 'cuda'\n",
        "\n",
        "dims_latent = 2  # Maybe increase this an try the t-sne algorithm for visualisation?!\n",
        "vae = VAE(device).to(device)\n",
        "vae = train(vae, train_loader, epochs=10, device=device)\n",
        "\n",
        "print('done')"
      ]
    },
    {
      "cell_type": "markdown",
      "metadata": {
        "id": "RTcT5k6TjO2X"
      },
      "source": [
        "## 4.1 Mode collapse\n",
        "\n",
        "Generate some images with the trained VAE. Do you notice that all the recons look similar?\n",
        "\n",
        "Generative models have a tendency towards mode collapse, where they generate the \"average\" of the dataset rather than a meaningful recon."
      ]
    },
    {
      "cell_type": "code",
      "execution_count": 12,
      "metadata": {
        "id": "WAyFrQeR50oA",
        "outputId": "93ad9f95-6976-4756-a0f8-937967c36cbc",
        "colab": {
          "base_uri": "https://localhost:8080/",
          "height": 317
        }
      },
      "outputs": [
        {
          "output_type": "stream",
          "name": "stdout",
          "text": [
            "torch.Size([64, 1, 28, 28])\n"
          ]
        },
        {
          "output_type": "display_data",
          "data": {
            "text/plain": [
              "<Figure size 1850x600 with 10 Axes>"
            ],
            "image/png": "[encoded data removed]"
          },
          "metadata": {}
        }
      ],
      "source": [
        "images, labels = next(iter(test_loader))  # Get the first batch of images\n",
        "print(images.shape)  # Get the first image from the batch\n",
        "\n",
        "_, ax = plt.subplots(2, 5, figsize=[18.5, 6])\n",
        "for n, idx  in enumerate(torch.randint(0,images.shape[0], (5,))):\n",
        "  recon, _ = vae(images[idx].unsqueeze(0).cuda())  # Are mu and sigma correct\n",
        "  ax[0, n].imshow(images[idx].squeeze())\n",
        "  ax[1, n].imshow(recon.cpu().detach().squeeze())\n"
      ]
    },
    {
      "cell_type": "markdown",
      "metadata": {
        "id": "7YDzNVfADwVh"
      },
      "source": [
        "## 4.2 Convolutional VAE\n",
        "\n",
        "By increasing the complexity of the model we can generate more complex images. The best starting point is to replace Linear layers with Conv layers.\n",
        "\n",
        "In a convolutional Encoder:\n",
        "- Increase the number of channels using __Conv2D__\n",
        "- Compress the spatial dimensions are compressed using __MaxPool2d__\n",
        "- It is important to pad the starting image to a power of two so the dimensionality reduction works correctly."
      ]
    },
    {
      "cell_type": "code",
      "execution_count": 13,
      "metadata": {
        "id": "dEhoWBUMDu1e"
      },
      "outputs": [],
      "source": [
        "class VAE_Encoder_Conv(nn.Module):\n",
        "  def __init__(self):\n",
        "    '''\n",
        "    Class contains the Encoder (image -> latent).\n",
        "    '''\n",
        "    super(VAE_Encoder_Conv, self).__init__()\n",
        "\n",
        "    self.layer1 = nn.Sequential(\n",
        "        nn.Conv2d(1,  20, 3, padding=3),  # Pad so that image dims are 2^n\n",
        "        nn.GELU(),\n",
        "        nn.MaxPool2d(2)\n",
        "    )  # Dims in 32x32 -> out 16x16\n",
        "\n",
        "    self.layer2 = nn.Sequential(\n",
        "        nn.Conv2d(20, 40, 3, padding=\"same\"),\n",
        "        nn.MaxPool2d(2)\n",
        "    )  # Dims in 16x16 -> out 8x8\n",
        "\n",
        "    self.layer3 = nn.Sequential(\n",
        "        nn.Conv2d(40, 60, 3, padding=\"same\"),\n",
        "        nn.GELU(),\n",
        "        nn.MaxPool2d(2)\n",
        "    )  # Dims in 8x8 -> out 4x4\n",
        "\n",
        "    self.layerMu = nn.Sequential(\n",
        "        nn.Conv2d(60, 120, 1),\n",
        "    )  # Dims in 4x4 -> out 4x4\n",
        "\n",
        "    self.layerSigma = nn.Sequential(\n",
        "        nn.Conv2d(60, 120, 1),\n",
        "    )  # Dims in 4x4 -> out 4x4\n",
        "\n",
        "  def forward(self, x, print_shape=False):  # Custom pytorch modules should follow this structure\n",
        "    '''\n",
        "    x: [float] the MNIST image\n",
        "    '''\n",
        "\n",
        "    x = self.layer1(x)\n",
        "    if print_shape:\n",
        "      print('L1: '+str(x.shape))\n",
        "    x = self.layer2(x)\n",
        "    if print_shape:\n",
        "      print('L2: '+str(x.shape))\n",
        "    x = self.layer3(x)\n",
        "    if print_shape:\n",
        "      print('L3: '+str(x.shape))\n",
        "    mu =  self.layerMu(x)\n",
        "    sigma = torch.exp(self.layerSigma(x))\n",
        "    return mu, sigma\n"
      ]
    },
    {
      "cell_type": "code",
      "execution_count": 14,
      "metadata": {
        "id": "PIRd27uFGrD1",
        "outputId": "0c6ea2c2-5e4f-4de9-f754-f2289f9f5cab",
        "colab": {
          "base_uri": "https://localhost:8080/"
        }
      },
      "outputs": [
        {
          "output_type": "stream",
          "name": "stdout",
          "text": [
            "Input shape: torch.Size([1, 28, 28])\n",
            "L1: torch.Size([1, 20, 16, 16])\n",
            "L2: torch.Size([1, 40, 8, 8])\n",
            "L3: torch.Size([1, 60, 4, 4])\n",
            "Mu shape: torch.Size([1, 120, 4, 4])\n",
            "Sigma shape:torch.Size([1, 120, 4, 4])\n"
          ]
        }
      ],
      "source": [
        "encoder = VAE_Encoder_Conv()\n",
        "\n",
        "images, labels = next(iter(train_loader))  # Get the first batch of images\n",
        "print('Input shape: '+str(images[0].shape))  # Get the first image from the batch\n",
        "mu, sigma = encoder(images[0].unsqueeze(0), print_shape=True)  # Are mu and sigma correct\n",
        "\n",
        "print('Mu shape: '+str(mu.detach().shape))\n",
        "print('Sigma shape:'+str(sigma.detach().shape))"
      ]
    },
    {
      "cell_type": "markdown",
      "metadata": {
        "id": "9_nEcvcyODKU"
      },
      "source": [
        "In a convolutional Decoder:\n",
        "- Decrease the number of channels using __Conv2D__\n",
        "- Expand the spatial dimensions using __Upsample__\n",
        "- Dont forget to remove the padding from the output!"
      ]
    },
    {
      "cell_type": "code",
      "execution_count": 15,
      "metadata": {
        "id": "L8b2AcrxD89F"
      },
      "outputs": [],
      "source": [
        "class VAE_Decoder_Conv(nn.Module):  # The Encoder inherits the properties of nn.Module https://pytorch.org/docs/stable/generated/torch.nn.Module.html\n",
        "  def __init__(self):\n",
        "    '''\n",
        "    Class contains the Decoder (latent -> image).\n",
        "    '''\n",
        "\n",
        "    super(VAE_Decoder_Conv, self).__init__()\n",
        "\n",
        "    self.layerLatent = nn.Sequential(\n",
        "        nn.Conv2d(120, 60, 1),\n",
        "        nn.GELU(),\n",
        "        nn.Upsample(scale_factor=2, mode='nearest')\n",
        "    )  # Dims in 4x4 -> out 8x8\n",
        "\n",
        "    self.layer1 = nn.Sequential(\n",
        "        nn.Conv2d(60, 40, 3, padding='same'),\n",
        "        nn.GELU(),\n",
        "        nn.Upsample(scale_factor=2, mode='nearest')\n",
        "    )  # Dims in 8x8 -> out 16x16\n",
        "\n",
        "    self.layer2 = nn.Sequential(\n",
        "        nn.Conv2d(40, 20, 3, padding='same'),\n",
        "        nn.GELU(),\n",
        "        nn.Upsample(scale_factor=2, mode='nearest')\n",
        "    )  # Dims in 16x16 -> out 32x32\n",
        "\n",
        "    self.layer3 = nn.Sequential(\n",
        "        nn.Conv2d(20, 1, 3, padding='same'),\n",
        "        nn.GELU(),\n",
        "        nn.Sigmoid()\n",
        "    )  # Dims in 32x32 -> out 32x32\n",
        "\n",
        "  def forward(self, z, print_shape=False):  # Custom pytorch modules should follow this structure\n",
        "    '''\n",
        "    x: [float] the MNIST image\n",
        "    '''\n",
        "\n",
        "    z = self.layerLatent(z)\n",
        "    z = self.layer1(z)\n",
        "    if print_shape:\n",
        "      print('L1: '+str(z.shape))\n",
        "    z = self.layer2(z)\n",
        "    if print_shape:\n",
        "      print('L2: '+str(z.shape))\n",
        "    z = self.layer3(z)\n",
        "    if print_shape:\n",
        "      print('L3: '+str(z.shape))\n",
        "    return z[:,:,2:-2,2:-2]  # Crop the output\n",
        "\n"
      ]
    },
    {
      "cell_type": "markdown",
      "metadata": {
        "id": "FcLv2SW0OTJ-"
      },
      "source": []
    },
    {
      "cell_type": "code",
      "execution_count": 16,
      "metadata": {
        "id": "zlXYVN47J2U5",
        "outputId": "49fd8e24-1dcb-4e1c-87d1-bf54c705a5a6",
        "colab": {
          "base_uri": "https://localhost:8080/",
          "height": 537
        }
      },
      "outputs": [
        {
          "output_type": "stream",
          "name": "stdout",
          "text": [
            "Latent shape: torch.Size([1, 120, 4, 4])\n",
            "L1: torch.Size([1, 40, 16, 16])\n",
            "L2: torch.Size([1, 20, 32, 32])\n",
            "L3: torch.Size([1, 1, 32, 32])\n",
            "Image shape: torch.Size([1, 1, 28, 28])\n"
          ]
        },
        {
          "output_type": "execute_result",
          "data": {
            "text/plain": [
              "<matplotlib.image.AxesImage at 0x786320234d00>"
            ]
          },
          "metadata": {},
          "execution_count": 16
        },
        {
          "output_type": "display_data",
          "data": {
            "text/plain": [
              "<Figure size 640x480 with 1 Axes>"
            ],
            "image/png": "[encoded data removed]"
          },
          "metadata": {}
        }
      ],
      "source": [
        "decoder = VAE_Decoder_Conv()\n",
        "\n",
        "latent_vec = torch.zeros(1,120,4,4)\n",
        "\n",
        "print('Latent shape: '+str(latent_vec.shape))\n",
        "\n",
        "recon = decoder(latent_vec, print_shape=True)\n",
        "\n",
        "print('Image shape: '+str(recon.shape))\n",
        "\n",
        "plt.imshow(recon.detach().cpu().squeeze())\n"
      ]
    },
    {
      "cell_type": "markdown",
      "metadata": {
        "id": "zah6yCejOciK"
      },
      "source": [
        "You don't need to make many changes for Autoencoding though.\n",
        "\n",
        "An interesting challenge is to explore the effect of changing the spatial/channel dimensions in the latent space."
      ]
    },
    {
      "cell_type": "code",
      "execution_count": 17,
      "metadata": {
        "id": "i2HndoU9Letx",
        "outputId": "12f84205-a302-4411-b671-a2f402c02619",
        "colab": {
          "base_uri": "https://localhost:8080/"
        }
      },
      "outputs": [
        {
          "output_type": "stream",
          "name": "stdout",
          "text": [
            "done\n"
          ]
        }
      ],
      "source": [
        "class VAE_Conv(nn.Module):\n",
        "  def __init__(self, device):\n",
        "    '''\n",
        "    Class combines the Encoder and the Decoder with a VAE latent space.\n",
        "    '''\n",
        "    super(VAE_Conv, self).__init__()\n",
        "    self.device = device\n",
        "    self.encoder = VAE_Encoder_Conv()\n",
        "    self.decoder = VAE_Decoder_Conv()\n",
        "    self.distribution = torch.distributions.Normal(0, 1)  # Sample from N(0,1)\n",
        "\n",
        "  def sample_latent_space(self, mu, sigma):\n",
        "    z = mu + sigma * self.distribution.sample(mu.shape).to(self.device)  # Sample the latent distribution\n",
        "    kl_div = (sigma**2 + mu**2 - torch.log(sigma) - 1/2).sum()  # A term, which is required for regularisation\n",
        "    return z, kl_div\n",
        "\n",
        "  def forward(self, x):\n",
        "    '''\n",
        "    x - [float] A batch of images from the data-loader\n",
        "    '''\n",
        "\n",
        "    mu, sigma = self.encoder(x)  # Run the image through the Encoder\n",
        "    z, kl_div = self.sample_latent_space(mu, sigma)  # Take the output of the encoder and get the latent vector\n",
        "    z = self.decoder(z)  # Return the output of the decoder (the predicted image)\n",
        "    return z, kl_div\n",
        "\n",
        "print('done')"
      ]
    },
    {
      "cell_type": "markdown",
      "metadata": {
        "id": "N8rF8nm4OsAr"
      },
      "source": [
        "Notice how the appearance of the reconstruction contains correlated noise. This is exactly what we want so that we can achieve visually \"correct\" appearances."
      ]
    },
    {
      "cell_type": "code",
      "execution_count": 18,
      "metadata": {
        "id": "oU-gY_9DLt8Z",
        "outputId": "13baf01e-8d3f-44c3-ea24-87487cf8fe11",
        "colab": {
          "base_uri": "https://localhost:8080/",
          "height": 879
        }
      },
      "outputs": [
        {
          "output_type": "stream",
          "name": "stdout",
          "text": [
            "torch.Size([1, 28, 28])\n"
          ]
        },
        {
          "output_type": "execute_result",
          "data": {
            "text/plain": [
              "<matplotlib.image.AxesImage at 0x78632006c4c0>"
            ]
          },
          "metadata": {},
          "execution_count": 18
        },
        {
          "output_type": "display_data",
          "data": {
            "text/plain": [
              "<Figure size 640x480 with 1 Axes>"
            ],
            "image/png": "[encoded data removed]"
          },
          "metadata": {}
        },
        {
          "output_type": "display_data",
          "data": {
            "text/plain": [
              "<Figure size 640x480 with 1 Axes>"
            ],
            "image/png": "[encoded data removed]"
          },
          "metadata": {}
        }
      ],
      "source": [
        "vae = VAE_Conv('cpu')\n",
        "\n",
        "images, labels = next(iter(train_loader))  # Get the first batch of images\n",
        "print(images[0].shape)  # Get the first image from the batch\n",
        "recon, _ = vae(images[10].unsqueeze(0))  # Are mu and sigma correct\n",
        "\n",
        "plt.figure(); plt.imshow(images[0].squeeze())\n",
        "plt.figure(); plt.imshow(recon.cpu().detach().squeeze())\n"
      ]
    },
    {
      "cell_type": "code",
      "execution_count": 19,
      "metadata": {
        "id": "iSiUwiiJMcdI",
        "outputId": "9e4e5141-8eaf-48a4-88ec-0a68e37dfe14",
        "colab": {
          "base_uri": "https://localhost:8080/"
        }
      },
      "outputs": [
        {
          "output_type": "stream",
          "name": "stderr",
          "text": [
            "100%|██████████| 2453/2453 [00:23<00:00, 104.39it/s]\n",
            "100%|██████████| 2453/2453 [00:22<00:00, 111.47it/s]\n",
            "100%|██████████| 2453/2453 [00:22<00:00, 110.45it/s]\n",
            "100%|██████████| 2453/2453 [00:21<00:00, 113.13it/s]\n",
            "100%|██████████| 2453/2453 [00:21<00:00, 113.18it/s]"
          ]
        },
        {
          "output_type": "stream",
          "name": "stdout",
          "text": [
            "done\n"
          ]
        },
        {
          "output_type": "stream",
          "name": "stderr",
          "text": [
            "\n"
          ]
        }
      ],
      "source": [
        "def train(autoencoder, data, kl_div_on=True, epochs=10, device='cpu'):\n",
        "  opt = torch.optim.Adam(autoencoder.parameters(), lr=1e-4, betas=(0.9, 0.999), weight_decay=0.5)\n",
        "  for epoch in range(epochs):  # Run data over numerous epochs\n",
        "    for batch, label in tqdm(data):  # Iterate over the batches of images and labels\n",
        "      batch = batch.to(device)  # Send batch of images to the GPU\n",
        "      opt.zero_grad()  # Set optimiser grad to 0\n",
        "      x_hat, KL = autoencoder(batch)  # Generate predicted images (x_hat) by running batch of images through autoencoder\n",
        "      loss = ((batch - x_hat)**2).sum() + KL  # Calculate combined loss\n",
        "      loss.backward()  # Back-propagate\n",
        "      opt.step()  # Step the optimiser\n",
        "  return autoencoder  # Return the trained autoencoder (for later analysis)\n",
        "\n",
        "device = 'cuda'\n",
        "\n",
        "vae_conv = VAE_Conv(device).to(device)\n",
        "vae_conv = train(vae_conv.train(True), train_loader, epochs=5, device=device)\n",
        "\n",
        "print('done')"
      ]
    },
    {
      "cell_type": "code",
      "execution_count": 21,
      "metadata": {
        "id": "sFQcMTE2Ml9T",
        "outputId": "00cac4d6-37c7-4a10-cdbb-6c56cc6c50bb",
        "colab": {
          "base_uri": "https://localhost:8080/",
          "height": 317
        }
      },
      "outputs": [
        {
          "output_type": "stream",
          "name": "stdout",
          "text": [
            "torch.Size([64, 1, 28, 28])\n"
          ]
        },
        {
          "output_type": "display_data",
          "data": {
            "text/plain": [
              "<Figure size 1850x600 with 10 Axes>"
            ],
            "image/png": "[encoded data removed]"
          },
          "metadata": {}
        }
      ],
      "source": [
        "images, labels = next(iter(test_loader))  # Get the first batch of images\n",
        "print(images.shape)  # Get the first image from the batch\n",
        "vae_conv1 = vae_conv.eval()\n",
        "\n",
        "_, ax = plt.subplots(2, 5, figsize=[18.5, 6])\n",
        "for n, idx  in enumerate(torch.randint(0,images.shape[0], (5,))):\n",
        "  recon, _ = vae_conv(images[idx].unsqueeze(0).cuda())  # Are mu and sigma correct\n",
        "  ax[0, n].imshow(images[idx].squeeze())\n",
        "  ax[1, n].imshow(recon.cpu().detach().squeeze())\n"
      ]
    },
    {
      "cell_type": "code",
      "execution_count": null,
      "metadata": {
        "id": "TJaiT8Ab2MKa"
      },
      "outputs": [],
      "source": []
    }
  ],
  "metadata": {
    "accelerator": "GPU",
    "colab": {
      "provenance": [],
      "gpuType": "T4"
    },
    "kernelspec": {
      "display_name": "Python 3",
      "name": "python3"
    },
    "language_info": {
      "codemirror_mode": {
        "name": "ipython",
        "version": 3
      },
      "file_extension": ".py",
      "mimetype": "text/x-python",
      "name": "python",
      "nbconvert_exporter": "python",
      "pygments_lexer": "ipython3",
      "version": "3.10.8"
    }
  },
  "nbformat": 4,
  "nbformat_minor": 0
}