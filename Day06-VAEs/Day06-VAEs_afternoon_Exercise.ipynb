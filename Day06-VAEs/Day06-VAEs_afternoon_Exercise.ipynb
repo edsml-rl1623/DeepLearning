{
  "cells": [
    {
      "cell_type": "markdown",
      "source": [
        "<img src=\"https://drive.google.com/uc?id=1DvKhAzLtk-Hilu7Le73WAOz2EBR5d41G\" width=\"500\"/>\n",
        "\n",
        "---"
      ],
      "metadata": {
        "id": "b1vQEANQ2WKq"
      }
    },
    {
      "cell_type": "markdown",
      "metadata": {
        "id": "OZAqrTaTGmLp"
      },
      "source": [
        "## **Day07 Afternoon: Variational Autoencoders**\n",
        "\n",
        "> Indented block\n",
        "\n",
        "\n",
        "\n",
        "# Introduction\n",
        "\n",
        "We are going to build a linear and convolutional VAE for the chest medmnist dataset.\n",
        "\n",
        "## 0.1 Installing MedMNIST"
      ]
    },
    {
      "cell_type": "code",
      "execution_count": 2,
      "metadata": {
        "id": "e4zyBfxBDJxb",
        "outputId": "6d9f323d-91db-4b5b-9dbf-11acb93bdb02",
        "colab": {
          "base_uri": "https://localhost:8080/"
        }
      },
      "outputs": [
        {
          "output_type": "stream",
          "name": "stdout",
          "text": [
            "Requirement already satisfied: medmnist in /usr/local/lib/python3.10/dist-packages (2.2.3)\n",
            "Requirement already satisfied: numpy in /usr/local/lib/python3.10/dist-packages (from medmnist) (1.23.5)\n",
            "Requirement already satisfied: pandas in /usr/local/lib/python3.10/dist-packages (from medmnist) (1.5.3)\n",
            "Requirement already satisfied: scikit-learn in /usr/local/lib/python3.10/dist-packages (from medmnist) (1.2.2)\n",
            "Requirement already satisfied: scikit-image in /usr/local/lib/python3.10/dist-packages (from medmnist) (0.19.3)\n",
            "Requirement already satisfied: tqdm in /usr/local/lib/python3.10/dist-packages (from medmnist) (4.66.1)\n",
            "Requirement already satisfied: Pillow in /usr/local/lib/python3.10/dist-packages (from medmnist) (9.4.0)\n",
            "Requirement already satisfied: fire in /usr/local/lib/python3.10/dist-packages (from medmnist) (0.5.0)\n",
            "Requirement already satisfied: torch in /usr/local/lib/python3.10/dist-packages (from medmnist) (2.1.0+cu118)\n",
            "Requirement already satisfied: torchvision in /usr/local/lib/python3.10/dist-packages (from medmnist) (0.16.0+cu118)\n",
            "Requirement already satisfied: six in /usr/local/lib/python3.10/dist-packages (from fire->medmnist) (1.16.0)\n",
            "Requirement already satisfied: termcolor in /usr/local/lib/python3.10/dist-packages (from fire->medmnist) (2.3.0)\n",
            "Requirement already satisfied: python-dateutil>=2.8.1 in /usr/local/lib/python3.10/dist-packages (from pandas->medmnist) (2.8.2)\n",
            "Requirement already satisfied: pytz>=2020.1 in /usr/local/lib/python3.10/dist-packages (from pandas->medmnist) (2023.3.post1)\n",
            "Requirement already satisfied: scipy>=1.4.1 in /usr/local/lib/python3.10/dist-packages (from scikit-image->medmnist) (1.11.4)\n",
            "Requirement already satisfied: networkx>=2.2 in /usr/local/lib/python3.10/dist-packages (from scikit-image->medmnist) (3.2.1)\n",
            "Requirement already satisfied: imageio>=2.4.1 in /usr/local/lib/python3.10/dist-packages (from scikit-image->medmnist) (2.31.6)\n",
            "Requirement already satisfied: tifffile>=2019.7.26 in /usr/local/lib/python3.10/dist-packages (from scikit-image->medmnist) (2023.9.26)\n",
            "Requirement already satisfied: PyWavelets>=1.1.1 in /usr/local/lib/python3.10/dist-packages (from scikit-image->medmnist) (1.5.0)\n",
            "Requirement already satisfied: packaging>=20.0 in /usr/local/lib/python3.10/dist-packages (from scikit-image->medmnist) (23.2)\n",
            "Requirement already satisfied: joblib>=1.1.1 in /usr/local/lib/python3.10/dist-packages (from scikit-learn->medmnist) (1.3.2)\n",
            "Requirement already satisfied: threadpoolctl>=2.0.0 in /usr/local/lib/python3.10/dist-packages (from scikit-learn->medmnist) (3.2.0)\n",
            "Requirement already satisfied: filelock in /usr/local/lib/python3.10/dist-packages (from torch->medmnist) (3.13.1)\n",
            "Requirement already satisfied: typing-extensions in /usr/local/lib/python3.10/dist-packages (from torch->medmnist) (4.5.0)\n",
            "Requirement already satisfied: sympy in /usr/local/lib/python3.10/dist-packages (from torch->medmnist) (1.12)\n",
            "Requirement already satisfied: jinja2 in /usr/local/lib/python3.10/dist-packages (from torch->medmnist) (3.1.2)\n",
            "Requirement already satisfied: fsspec in /usr/local/lib/python3.10/dist-packages (from torch->medmnist) (2023.6.0)\n",
            "Requirement already satisfied: triton==2.1.0 in /usr/local/lib/python3.10/dist-packages (from torch->medmnist) (2.1.0)\n",
            "Requirement already satisfied: requests in /usr/local/lib/python3.10/dist-packages (from torchvision->medmnist) (2.31.0)\n",
            "Requirement already satisfied: MarkupSafe>=2.0 in /usr/local/lib/python3.10/dist-packages (from jinja2->torch->medmnist) (2.1.3)\n",
            "Requirement already satisfied: charset-normalizer<4,>=2 in /usr/local/lib/python3.10/dist-packages (from requests->torchvision->medmnist) (3.3.2)\n",
            "Requirement already satisfied: idna<4,>=2.5 in /usr/local/lib/python3.10/dist-packages (from requests->torchvision->medmnist) (3.6)\n",
            "Requirement already satisfied: urllib3<3,>=1.21.1 in /usr/local/lib/python3.10/dist-packages (from requests->torchvision->medmnist) (2.0.7)\n",
            "Requirement already satisfied: certifi>=2017.4.17 in /usr/local/lib/python3.10/dist-packages (from requests->torchvision->medmnist) (2023.11.17)\n",
            "Requirement already satisfied: mpmath>=0.19 in /usr/local/lib/python3.10/dist-packages (from sympy->torch->medmnist) (1.3.0)\n"
          ]
        }
      ],
      "source": [
        "!pip install medmnist"
      ]
    },
    {
      "cell_type": "markdown",
      "metadata": {
        "id": "qqoIGvDXHAKe"
      },
      "source": [
        "## 0.2 Import packages"
      ]
    },
    {
      "cell_type": "code",
      "execution_count": 3,
      "metadata": {
        "id": "YIwV1csTDefr"
      },
      "outputs": [],
      "source": [
        "from tqdm import tqdm\n",
        "import numpy as np\n",
        "import torch\n",
        "import torch.nn as nn\n",
        "import torch.optim as optim\n",
        "import torch.utils.data as data\n",
        "import torchvision.transforms as transforms\n",
        "\n",
        "import medmnist\n",
        "from medmnist import INFO, Evaluator\n",
        "\n",
        "import matplotlib.pyplot as plt"
      ]
    },
    {
      "cell_type": "markdown",
      "metadata": {
        "id": "FC5TwQ4fHk5o"
      },
      "source": [
        "## 0.3 Download the dataset\n",
        "\n",
        "Tip: there are often examples in the README files:\n",
        "\n",
        "https://github.com/MedMNIST/MedMNIST/blob/main/README.md\n",
        "\n",
        "I learnt how to do this using the example in\n",
        "\n",
        "https://github.com/MedMNIST/MedMNIST/blob/main/examples/getting_started.ipynb"
      ]
    },
    {
      "cell_type": "code",
      "execution_count": 4,
      "metadata": {
        "id": "hMLwtvQ_Dg9C",
        "outputId": "e965e50c-ef34-4cde-e97a-4493e936963c",
        "colab": {
          "base_uri": "https://localhost:8080/"
        }
      },
      "outputs": [
        {
          "output_type": "stream",
          "name": "stdout",
          "text": [
            "Downloading https://zenodo.org/records/6496656/files/chestmnist.npz to /root/.medmnist/chestmnist.npz\n"
          ]
        },
        {
          "output_type": "stream",
          "name": "stderr",
          "text": [
            "100%|██████████| 82802576/82802576 [00:03<00:00, 23728717.17it/s]\n"
          ]
        },
        {
          "output_type": "stream",
          "name": "stdout",
          "text": [
            "Using downloaded and verified file: /root/.medmnist/chestmnist.npz\n",
            "Using downloaded and verified file: /root/.medmnist/chestmnist.npz\n"
          ]
        }
      ],
      "source": [
        "data_flag = 'chestmnist'\n",
        "download = True\n",
        "\n",
        "batch_size = 32\n",
        "\n",
        "info = INFO[data_flag]\n",
        "task = info['task']\n",
        "n_channels = info['n_channels']\n",
        "n_classes = len(info['label'])\n",
        "\n",
        "DataClass = getattr(medmnist, info['python_class'])\n",
        "\n",
        "# preprocessing\n",
        "data_transform = transforms.Compose([\n",
        "    transforms.ToTensor(),\n",
        "    # transforms.Normalize(mean=[.5], std=[.5])\n",
        "])\n",
        "\n",
        "# load the data\n",
        "train_dataset = DataClass(split='train', transform=data_transform, download=download)\n",
        "test_dataset = DataClass(split='test', transform=data_transform, download=download)\n",
        "\n",
        "pil_dataset = DataClass(split='train', download=download)\n",
        "\n",
        "# encapsulate data into dataloader form\n",
        "train_loader = data.DataLoader(dataset=train_dataset, batch_size=batch_size, shuffle=True)\n",
        "train_loader_at_eval = data.DataLoader(dataset=train_dataset, batch_size=2*batch_size, shuffle=False)\n",
        "test_loader = data.DataLoader(dataset=test_dataset, batch_size=2*batch_size, shuffle=False)\n",
        "\n"
      ]
    },
    {
      "cell_type": "markdown",
      "metadata": {
        "id": "1hRK7VCzHqUc"
      },
      "source": [
        "## 0.4 Check the dataset\n",
        "\n",
        "It's always a good idea to check the dataset before using it.\n",
        "\n",
        "According to https://medmnist.com/, the dataset should consist of 28x28 images. The chest class has 112,120 images with splits for:\n",
        "\n",
        "- training\t(78,468 images)\n",
        "- validation (11,219 images)\n",
        "- testing (22,433 images)\n",
        "\n",
        "__Can you:__\n",
        "\n",
        "1. Check the number of batches in the dataloader? (Hint: check the length)\n",
        "2. Get the first batch of images out of the dataloader?\n",
        "3. Plot the first image in the batch?\n",
        "4. How many pixels does an image contain?\n",
        "5. What is the range of the images?\n"
      ]
    },
    {
      "cell_type": "code",
      "execution_count": 8,
      "metadata": {
        "id": "lO8uYHMBET1T",
        "outputId": "b31ed814-b737-44a1-dabc-546afe4bb3be",
        "colab": {
          "base_uri": "https://localhost:8080/",
          "height": 593
        }
      },
      "outputs": [
        {
          "output_type": "stream",
          "name": "stdout",
          "text": [
            "<torch.utils.data.dataloader.DataLoader object at 0x7abe21149840>\n",
            "Batch size: 32\n",
            "Batches:<bound method DataLoader.__len__ of <torch.utils.data.dataloader.DataLoader object at 0x7abe21149840>>\n",
            "Num images: 78496\n",
            "\n",
            "Image shape: torch.Size([32, 1, 28, 28])\n",
            "Pixels:784\n",
            "Range: max, 0.9450980424880981 min,0.0\n"
          ]
        },
        {
          "output_type": "display_data",
          "data": {
            "text/plain": [
              "<Figure size 640x480 with 2 Axes>"
            ],
            "image/png": "[encoded data removed]"
          },
          "metadata": {}
        }
      ],
      "source": [
        "print(train_loader)\n",
        "print('Batch size: '+str(train_loader.batch_size))\n",
        "print('Batches:'+str(train_loader.__len__))  # Check the number of batches\n",
        "print('Num images: '+str(train_loader.batch_size*train_loader.__len__()))\n",
        "print()\n",
        "\n",
        "  # Get the first batch of images\n",
        "images, labels = next(iter(train_loader))\n",
        "\n",
        "print('Image shape: '+str(images.shape))  # NOTE: The shape is n_ims, n_channels, img_dims\n",
        "\n",
        "plt.imshow(images[0].squeeze())  # Plot the first image in the batch\n",
        "plt.colorbar()\n",
        "\n",
        "print('Pixels:'+str(images.shape[2]*images.shape[3]))  # How many pixels are in the image\n",
        "print('Range: max, '+str(float(images.max()))+' min,'+str(float(images.min())))\n"
      ]
    },
    {
      "cell_type": "markdown",
      "metadata": {
        "id": "0OJy6svbKmTT"
      },
      "source": [
        "## 1.1 The Encoder\n",
        "\n",
        "The encoder takes an image and develops a latent vector. Use Linear layers and ReLU activation functions to generate the Mu and Sigma latent vectors.\n",
        "\n",
        "**In the**\n",
        "\\_\\_init\\_\\_()\n",
        "**function...**\n",
        "\n",
        "1. How many nodes should the first layer have?\n",
        "2. How would you choose the dimensionality reduction schedule?\n",
        "3. Design layers to generate latent vectors. Do they have activation functions?\n",
        "\n",
        "**In the**\n",
        "forward()\n",
        "**function...**\n",
        "\n",
        "1. Can you reshape the image to a vector?\n",
        "2. Can you Implement the latent vectors (mu/sigma) so they are returned with the correct values?\n"
      ]
    },
    {
      "cell_type": "code",
      "execution_count": 13,
      "metadata": {
        "id": "rpeHPmBPKmoI"
      },
      "outputs": [],
      "source": [
        "class VAE_Encoder(nn.Module):  # The Encoder inherits the properties of nn.Module https://pytorch.org/docs/stable/generated/torch.nn.Module.html\n",
        "  def __init__(self):\n",
        "    '''\n",
        "    Class contains the Encoder (image -> latent).\n",
        "    '''\n",
        "    super(VAE_Encoder, self).__init__()\n",
        "\n",
        "    self.layer1 = nn.Sequential(\n",
        "        nn.Linear(784,512,bias=False),  # How many nodes should the first layer have?\n",
        "        nn.ReLU()\n",
        "    )\n",
        "\n",
        "    self.layer2 = nn.Sequential(\n",
        "        nn.Linear(512,256,bias=False),  # How would you choose a dimensionality reduction schedule?\n",
        "        nn.ReLU()\n",
        "    )\n",
        "\n",
        "    self.layer3 = nn.Sequential(\n",
        "        nn.Linear(256,128,bias=False),   # How would you choose a dimensionality reduction schedule?\n",
        "        nn.ReLU()\n",
        "    )\n",
        "\n",
        "    self.layerMu = nn.Sequential(\n",
        "        nn.Linear(128, 16),\n",
        "        # Does this need an activation?\n",
        "    )\n",
        "\n",
        "    self.layerSigma = nn.Sequential(\n",
        "        nn.Linear(128, 16),\n",
        "        # Does this need an activation?\n",
        "    )\n",
        "\n",
        "  def forward(self, x):  # Custom pytorch modules should follow this structure\n",
        "    '''\n",
        "    x: [float] the MNIST image\n",
        "    '''\n",
        "\n",
        "    x = torch.flatten(x, start_dim=1)  # Reshape the input into a vector (nD to 1D)\n",
        "    x = self.layer1(x)\n",
        "    x = self.layer2(x)\n",
        "    x = self.layer3(x)\n",
        "    mu = self.layerMu(x) # Implement Mu\n",
        "    sigma = torch.exp(self.layerSigma(x))# Implement Sigma\n",
        "    return mu, sigma\n"
      ]
    },
    {
      "cell_type": "markdown",
      "metadata": {
        "id": "x4od0XCpOJpn"
      },
      "source": [
        "## 1.2 Encoding an image\n",
        "\n",
        "The encoder will take an image and generate 2 latent vectors (mu/sigma). It is important to show that the encoder works correcly.\n",
        "\n",
        "**Can you**\n",
        "\n",
        "1. Get the first image from the first batch?\n",
        "2. Run the image through the encoder?\n",
        "3. Are the elements of mu positive and negative?\n",
        "4. Are the elements of sigma all positive?\n",
        "\n",
        "**If the answer to questions 3 and 4 is not \"Yes\", then return to the encoder and make corrections.**"
      ]
    },
    {
      "cell_type": "code",
      "execution_count": 14,
      "metadata": {
        "id": "jySOXNp5M0IV",
        "outputId": "4ddb3fe0-8b57-4307-ce8c-cdef266b684f",
        "colab": {
          "base_uri": "https://localhost:8080/"
        }
      },
      "outputs": [
        {
          "output_type": "stream",
          "name": "stdout",
          "text": [
            "torch.Size([1, 28, 28])\n",
            "tensor([[ 0.0077,  0.0675,  0.0712, -0.0389, -0.0265, -0.0439, -0.0091, -0.0231,\n",
            "         -0.0008,  0.0312, -0.0081, -0.0643,  0.0534,  0.0640, -0.0022,  0.0442]])\n",
            "tensor([[1.1009, 0.9825, 1.0154, 0.9782, 0.9114, 1.0469, 1.0451, 1.0310, 0.9505,\n",
            "         1.0866, 1.0838, 1.0886, 1.0105, 0.9759, 0.9313, 1.0271]])\n"
          ]
        }
      ],
      "source": [
        "encoder = VAE_Encoder()\n",
        "images, labels = next(iter(train_loader))\n",
        "print(images[0].shape)\n",
        "  # Get the first batch from the dataloader\n",
        "  # Get the first image from the batch\n",
        "mu, sigma = encoder(images[0].unsqueeze(0))\n",
        "\n",
        "\n",
        "print(mu.detach()) # Check whether the elements are correct?\n",
        "print(sigma.detach())"
      ]
    },
    {
      "cell_type": "markdown",
      "metadata": {
        "id": "iAFwqO9BStds"
      },
      "source": [
        "## 1.3 The Decoder\n",
        "\n",
        "The decoder takes a latent vector and develops an image. Use Linear layers and ReLU activation functions to generate an image.\n",
        "\n",
        "Remember, if you implement the stochastic sampling layer in the decoder, then you won't be able to make deterministic preditions.\n",
        "\n",
        "**In the**\n",
        "\\_\\_init\\_\\_()\n",
        "**function...**\n",
        "\n",
        "1. Should the latent vector layer have an activation function?\n",
        "2. How would you choose the dimensionality expansion schedule?\n",
        "3. What activation function should the output layer have?\n",
        "\n",
        "**In the**\n",
        "forward()\n",
        "**function...**\n",
        "\n",
        "1. Can you reshape the vector to an image?\n"
      ]
    },
    {
      "cell_type": "code",
      "execution_count": 15,
      "metadata": {
        "id": "jz9HlR8lSsu2"
      },
      "outputs": [],
      "source": [
        "class VAE_Decoder(nn.Module):  # The Encoder inherits the properties of nn.Module https://pytorch.org/docs/stable/generated/torch.nn.Module.html\n",
        "  def __init__(self):\n",
        "    '''\n",
        "    Class contains the Decoder (latent -> image).\n",
        "    '''\n",
        "\n",
        "    super(VAE_Decoder, self).__init__()\n",
        "\n",
        "    self.layerLatent = nn.Sequential(\n",
        "        nn.Linear(16, 128), # Choose the dimensionality expansion schedule\n",
        "        # Does the latent vector have an activation?\n",
        "    )\n",
        "\n",
        "    self.layer1 = nn.Sequential(\n",
        "        nn.Linear(128, 256,bias=False), # Choose the dimensionality expansion schedule\n",
        "        nn.ReLU()\n",
        "    )\n",
        "\n",
        "    self.layer2 = nn.Sequential(\n",
        "        nn.Linear(256, 512, bias=False),  # Choose the dimensionality expansion schedule\n",
        "        nn.ReLU()\n",
        "    )\n",
        "\n",
        "    self.layer3 = nn.Sequential(\n",
        "        nn.Linear(512, 784, bias=False),  # Choose the dimensionality expansion schedule\n",
        "         # What activation for the output layer?\n",
        "        nn.Sigmoid()\n",
        "    )\n",
        "\n",
        "  def forward(self, z):  # Custom pytorch modules should follow this structure\n",
        "    '''\n",
        "    x: [float] the MNIST image\n",
        "    '''\n",
        "\n",
        "    z = self.layerLatent(z)\n",
        "    z = self.layer1(z)\n",
        "    z = self.layer2(z)\n",
        "    z = self.layer3(z)\n",
        "    return z.reshape((-1,1,28,28))# Reshape the vector into an image\n",
        "\n"
      ]
    },
    {
      "cell_type": "markdown",
      "metadata": {
        "id": "OvCf5XZ1XUIZ"
      },
      "source": [
        "## 1.4 Decoding a latent vector\n",
        "\n",
        "The encoder will take a latent vector (z) and generate an image. It is important to show that the encoder works correcly.\n",
        "\n",
        "**Can you**\n",
        "\n",
        "1. Generate a vector of zeros with the correct shape?\n",
        "2. Run the latent vector through the decoder?\n",
        "3. Is the image the correct shape (1,1,28,28)?\n",
        "4. Does the image look like random noise?\n",
        "\n",
        "**If the answer to questions 3 and 4 is not \"Yes\", then return to the decoder and make corrections.**"
      ]
    },
    {
      "cell_type": "code",
      "execution_count": 16,
      "metadata": {
        "id": "qQDzq72EWS6O",
        "outputId": "b59b1e1e-12ce-466d-e10d-d009264120ad",
        "colab": {
          "base_uri": "https://localhost:8080/",
          "height": 466
        }
      },
      "outputs": [
        {
          "output_type": "stream",
          "name": "stdout",
          "text": [
            "Image shape: torch.Size([1, 1, 28, 28])\n"
          ]
        },
        {
          "output_type": "execute_result",
          "data": {
            "text/plain": [
              "<matplotlib.image.AxesImage at 0x7abd2cd162c0>"
            ]
          },
          "metadata": {},
          "execution_count": 16
        },
        {
          "output_type": "display_data",
          "data": {
            "text/plain": [
              "<Figure size 640x480 with 1 Axes>"
            ],
            "image/png": "[encoded data removed]"
          },
          "metadata": {}
        }
      ],
      "source": [
        "decoder = VAE_Decoder()\n",
        "\n",
        "z = torch.zeros(1,16)  # Generate a random vector with the correct shape\n",
        "image = decoder(z)  # Run the vector through the decoder\n",
        "\n",
        "print('Image shape: '+str(image.shape))  # Check the shape of the image\n",
        "\n",
        "plt.imshow(image.detach().cpu().squeeze())  # Does the image look like random noise?\n"
      ]
    },
    {
      "cell_type": "markdown",
      "metadata": {
        "id": "PXh14IV5X-5O"
      },
      "source": [
        "## 2.1 Autoencoder\n",
        "\n",
        "The output of the encoder is two latent vectors, mu and sigma. Together these represent the latent space distribution because they define a Gaussian distribution.\n",
        "\n",
        "Now we build the autoencoder. The autoencoder uses an *encoder* to generate the latent mu and sigma and a *decoder* to generate an image using the latent vector z. The latent vector z is found be stochastic sampling of the latent space distribution.\n",
        "\n",
        "**In**\n",
        "sample_latent_space()\n",
        "**Can you**\n",
        "\n",
        "1. Define an equation to sample from the latent distribution?\n",
        "\n",
        "**In**\n",
        "forward()\n",
        "**Can you**\n",
        "\n",
        "1. Take the image and generate the latent vectors mu & sigma?\n",
        "2. Take the latent vectors mu & sigma and generate the latent vector sample?\n",
        "3. Take the latent vector sample and generate the reconstructed image?\n",
        "\n"
      ]
    },
    {
      "cell_type": "code",
      "execution_count": 19,
      "metadata": {
        "id": "yz52IrPpYEvU",
        "outputId": "345f4670-79a4-455c-938a-c0ff6a278013",
        "colab": {
          "base_uri": "https://localhost:8080/"
        }
      },
      "outputs": [
        {
          "output_type": "stream",
          "name": "stdout",
          "text": [
            "done\n"
          ]
        }
      ],
      "source": [
        "class VAE(nn.Module):\n",
        "  def __init__(self, device):\n",
        "    '''\n",
        "    Class combines the Encoder and the Decoder with a VAE latent space.\n",
        "    '''\n",
        "    super(VAE, self).__init__()\n",
        "    self.device = device\n",
        "    self.encoder = VAE_Encoder()\n",
        "    self.decoder = VAE_Decoder()\n",
        "    self.distribution = torch.distributions.Normal(0, 1)  # Sample from N(0,1)\n",
        "\n",
        "  def sample_latent_space(self, mu, sigma):\n",
        "    z = mu + sigma*self.distribution.sample(mu.shape).to(self.device) ## (1) Sample the latent distribution\n",
        "    kl_div = (sigma**2 + mu**2 - torch.log(sigma) - 1/2).sum()  # A term, which is required for regularisation\n",
        "    return z, kl_div\n",
        "\n",
        "  def forward(self, x):\n",
        "    '''\n",
        "    x - [float] A batch of images from the data-loader\n",
        "    '''\n",
        "\n",
        "      ## (1) Generate the latent vectors Mu and Sigma\n",
        "    mu, sigma = self.encoder(x)\n",
        "      ## (2) Generate the latent vector sample\n",
        "    z, kl_div = self.sample_latent_space(mu, sigma)\n",
        "      ## (3) Generate the reconstructed image\n",
        "    z = self.decoder(z)\n",
        "    return z, kl_div\n",
        "\n",
        "print('done')"
      ]
    },
    {
      "cell_type": "markdown",
      "metadata": {
        "id": "mlx-mQmSbnjg"
      },
      "source": [
        "## 2.2 Generating a reconstruction\n",
        "\n",
        "It is important to test that the VAE works as expected."
      ]
    },
    {
      "cell_type": "code",
      "execution_count": 20,
      "metadata": {
        "id": "flVrCJtSZRLK",
        "outputId": "1b03d878-0559-4a48-a0c1-e4103657d479",
        "colab": {
          "base_uri": "https://localhost:8080/",
          "height": 879
        }
      },
      "outputs": [
        {
          "output_type": "stream",
          "name": "stdout",
          "text": [
            "torch.Size([1, 28, 28])\n"
          ]
        },
        {
          "output_type": "execute_result",
          "data": {
            "text/plain": [
              "<matplotlib.image.AxesImage at 0x7abd1d995570>"
            ]
          },
          "metadata": {},
          "execution_count": 20
        },
        {
          "output_type": "display_data",
          "data": {
            "text/plain": [
              "<Figure size 640x480 with 1 Axes>"
            ],
            "image/png": "[encoded data removed]"
          },
          "metadata": {}
        },
        {
          "output_type": "display_data",
          "data": {
            "text/plain": [
              "<Figure size 640x480 with 1 Axes>"
            ],
            "image/png": "[encoded data removed]"
          },
          "metadata": {}
        }
      ],
      "source": [
        "vae = VAE('cpu')\n",
        "\n",
        "images, labels = next(iter(train_loader))  # Get the first batch of images\n",
        "print(images[0].shape)  # Get the first image from the batch\n",
        "recon, _ = vae(images[10].unsqueeze(0))  # Are mu and sigma correct\n",
        "\n",
        "plt.figure(); plt.imshow(images[0].squeeze())\n",
        "plt.figure(); plt.imshow(recon.cpu().detach().squeeze())\n"
      ]
    },
    {
      "cell_type": "markdown",
      "metadata": {
        "id": "lDuEgpiFbwDB"
      },
      "source": [
        "## 3.1 Training the VAE"
      ]
    },
    {
      "cell_type": "code",
      "execution_count": 21,
      "metadata": {
        "id": "CL1LgPG8bvMj",
        "outputId": "907da63d-e954-40c1-99bc-b094d33cd210",
        "colab": {
          "base_uri": "https://localhost:8080/",
          "height": 455
        }
      },
      "outputs": [
        {
          "output_type": "error",
          "ename": "RuntimeError",
          "evalue": "ignored",
          "traceback": [
            "\u001b[0;31m---------------------------------------------------------------------------\u001b[0m",
            "\u001b[0;31mRuntimeError\u001b[0m                              Traceback (most recent call last)",
            "\u001b[0;32m<ipython-input-21-947987c7ab9f>\u001b[0m in \u001b[0;36m<cell line: 16>\u001b[0;34m()\u001b[0m\n\u001b[1;32m     14\u001b[0m \u001b[0;34m\u001b[0m\u001b[0m\n\u001b[1;32m     15\u001b[0m \u001b[0mdims_latent\u001b[0m \u001b[0;34m=\u001b[0m \u001b[0;36m2\u001b[0m  \u001b[0;31m# Maybe increase this an try the t-sne algorithm for visualisation?!\u001b[0m\u001b[0;34m\u001b[0m\u001b[0;34m\u001b[0m\u001b[0m\n\u001b[0;32m---> 16\u001b[0;31m \u001b[0mvae\u001b[0m \u001b[0;34m=\u001b[0m \u001b[0mVAE\u001b[0m\u001b[0;34m(\u001b[0m\u001b[0mdevice\u001b[0m\u001b[0;34m)\u001b[0m\u001b[0;34m.\u001b[0m\u001b[0mto\u001b[0m\u001b[0;34m(\u001b[0m\u001b[0mdevice\u001b[0m\u001b[0;34m)\u001b[0m\u001b[0;34m\u001b[0m\u001b[0;34m\u001b[0m\u001b[0m\n\u001b[0m\u001b[1;32m     17\u001b[0m \u001b[0mvae\u001b[0m \u001b[0;34m=\u001b[0m \u001b[0mtrain\u001b[0m\u001b[0;34m(\u001b[0m\u001b[0mvae\u001b[0m\u001b[0;34m,\u001b[0m \u001b[0mtrain_loader\u001b[0m\u001b[0;34m,\u001b[0m \u001b[0mepochs\u001b[0m\u001b[0;34m=\u001b[0m\u001b[0;36m10\u001b[0m\u001b[0;34m,\u001b[0m \u001b[0mdevice\u001b[0m\u001b[0;34m=\u001b[0m\u001b[0mdevice\u001b[0m\u001b[0;34m)\u001b[0m\u001b[0;34m\u001b[0m\u001b[0;34m\u001b[0m\u001b[0m\n\u001b[1;32m     18\u001b[0m \u001b[0;34m\u001b[0m\u001b[0m\n",
            "\u001b[0;32m/usr/local/lib/python3.10/dist-packages/torch/nn/modules/module.py\u001b[0m in \u001b[0;36mto\u001b[0;34m(self, *args, **kwargs)\u001b[0m\n\u001b[1;32m   1158\u001b[0m             \u001b[0;32mreturn\u001b[0m \u001b[0mt\u001b[0m\u001b[0;34m.\u001b[0m\u001b[0mto\u001b[0m\u001b[0;34m(\u001b[0m\u001b[0mdevice\u001b[0m\u001b[0;34m,\u001b[0m \u001b[0mdtype\u001b[0m \u001b[0;32mif\u001b[0m \u001b[0mt\u001b[0m\u001b[0;34m.\u001b[0m\u001b[0mis_floating_point\u001b[0m\u001b[0;34m(\u001b[0m\u001b[0;34m)\u001b[0m \u001b[0;32mor\u001b[0m \u001b[0mt\u001b[0m\u001b[0;34m.\u001b[0m\u001b[0mis_complex\u001b[0m\u001b[0;34m(\u001b[0m\u001b[0;34m)\u001b[0m \u001b[0;32melse\u001b[0m \u001b[0;32mNone\u001b[0m\u001b[0;34m,\u001b[0m \u001b[0mnon_blocking\u001b[0m\u001b[0;34m)\u001b[0m\u001b[0;34m\u001b[0m\u001b[0;34m\u001b[0m\u001b[0m\n\u001b[1;32m   1159\u001b[0m \u001b[0;34m\u001b[0m\u001b[0m\n\u001b[0;32m-> 1160\u001b[0;31m         \u001b[0;32mreturn\u001b[0m \u001b[0mself\u001b[0m\u001b[0;34m.\u001b[0m\u001b[0m_apply\u001b[0m\u001b[0;34m(\u001b[0m\u001b[0mconvert\u001b[0m\u001b[0;34m)\u001b[0m\u001b[0;34m\u001b[0m\u001b[0;34m\u001b[0m\u001b[0m\n\u001b[0m\u001b[1;32m   1161\u001b[0m \u001b[0;34m\u001b[0m\u001b[0m\n\u001b[1;32m   1162\u001b[0m     def register_full_backward_pre_hook(\n",
            "\u001b[0;32m/usr/local/lib/python3.10/dist-packages/torch/nn/modules/module.py\u001b[0m in \u001b[0;36m_apply\u001b[0;34m(self, fn, recurse)\u001b[0m\n\u001b[1;32m    808\u001b[0m         \u001b[0;32mif\u001b[0m \u001b[0mrecurse\u001b[0m\u001b[0;34m:\u001b[0m\u001b[0;34m\u001b[0m\u001b[0;34m\u001b[0m\u001b[0m\n\u001b[1;32m    809\u001b[0m             \u001b[0;32mfor\u001b[0m \u001b[0mmodule\u001b[0m \u001b[0;32min\u001b[0m \u001b[0mself\u001b[0m\u001b[0;34m.\u001b[0m\u001b[0mchildren\u001b[0m\u001b[0;34m(\u001b[0m\u001b[0;34m)\u001b[0m\u001b[0;34m:\u001b[0m\u001b[0;34m\u001b[0m\u001b[0;34m\u001b[0m\u001b[0m\n\u001b[0;32m--> 810\u001b[0;31m                 \u001b[0mmodule\u001b[0m\u001b[0;34m.\u001b[0m\u001b[0m_apply\u001b[0m\u001b[0;34m(\u001b[0m\u001b[0mfn\u001b[0m\u001b[0;34m)\u001b[0m\u001b[0;34m\u001b[0m\u001b[0;34m\u001b[0m\u001b[0m\n\u001b[0m\u001b[1;32m    811\u001b[0m \u001b[0;34m\u001b[0m\u001b[0m\n\u001b[1;32m    812\u001b[0m         \u001b[0;32mdef\u001b[0m \u001b[0mcompute_should_use_set_data\u001b[0m\u001b[0;34m(\u001b[0m\u001b[0mtensor\u001b[0m\u001b[0;34m,\u001b[0m \u001b[0mtensor_applied\u001b[0m\u001b[0;34m)\u001b[0m\u001b[0;34m:\u001b[0m\u001b[0;34m\u001b[0m\u001b[0;34m\u001b[0m\u001b[0m\n",
            "\u001b[0;32m/usr/local/lib/python3.10/dist-packages/torch/nn/modules/module.py\u001b[0m in \u001b[0;36m_apply\u001b[0;34m(self, fn, recurse)\u001b[0m\n\u001b[1;32m    808\u001b[0m         \u001b[0;32mif\u001b[0m \u001b[0mrecurse\u001b[0m\u001b[0;34m:\u001b[0m\u001b[0;34m\u001b[0m\u001b[0;34m\u001b[0m\u001b[0m\n\u001b[1;32m    809\u001b[0m             \u001b[0;32mfor\u001b[0m \u001b[0mmodule\u001b[0m \u001b[0;32min\u001b[0m \u001b[0mself\u001b[0m\u001b[0;34m.\u001b[0m\u001b[0mchildren\u001b[0m\u001b[0;34m(\u001b[0m\u001b[0;34m)\u001b[0m\u001b[0;34m:\u001b[0m\u001b[0;34m\u001b[0m\u001b[0;34m\u001b[0m\u001b[0m\n\u001b[0;32m--> 810\u001b[0;31m                 \u001b[0mmodule\u001b[0m\u001b[0;34m.\u001b[0m\u001b[0m_apply\u001b[0m\u001b[0;34m(\u001b[0m\u001b[0mfn\u001b[0m\u001b[0;34m)\u001b[0m\u001b[0;34m\u001b[0m\u001b[0;34m\u001b[0m\u001b[0m\n\u001b[0m\u001b[1;32m    811\u001b[0m \u001b[0;34m\u001b[0m\u001b[0m\n\u001b[1;32m    812\u001b[0m         \u001b[0;32mdef\u001b[0m \u001b[0mcompute_should_use_set_data\u001b[0m\u001b[0;34m(\u001b[0m\u001b[0mtensor\u001b[0m\u001b[0;34m,\u001b[0m \u001b[0mtensor_applied\u001b[0m\u001b[0;34m)\u001b[0m\u001b[0;34m:\u001b[0m\u001b[0;34m\u001b[0m\u001b[0;34m\u001b[0m\u001b[0m\n",
            "\u001b[0;32m/usr/local/lib/python3.10/dist-packages/torch/nn/modules/module.py\u001b[0m in \u001b[0;36m_apply\u001b[0;34m(self, fn, recurse)\u001b[0m\n\u001b[1;32m    808\u001b[0m         \u001b[0;32mif\u001b[0m \u001b[0mrecurse\u001b[0m\u001b[0;34m:\u001b[0m\u001b[0;34m\u001b[0m\u001b[0;34m\u001b[0m\u001b[0m\n\u001b[1;32m    809\u001b[0m             \u001b[0;32mfor\u001b[0m \u001b[0mmodule\u001b[0m \u001b[0;32min\u001b[0m \u001b[0mself\u001b[0m\u001b[0;34m.\u001b[0m\u001b[0mchildren\u001b[0m\u001b[0;34m(\u001b[0m\u001b[0;34m)\u001b[0m\u001b[0;34m:\u001b[0m\u001b[0;34m\u001b[0m\u001b[0;34m\u001b[0m\u001b[0m\n\u001b[0;32m--> 810\u001b[0;31m                 \u001b[0mmodule\u001b[0m\u001b[0;34m.\u001b[0m\u001b[0m_apply\u001b[0m\u001b[0;34m(\u001b[0m\u001b[0mfn\u001b[0m\u001b[0;34m)\u001b[0m\u001b[0;34m\u001b[0m\u001b[0;34m\u001b[0m\u001b[0m\n\u001b[0m\u001b[1;32m    811\u001b[0m \u001b[0;34m\u001b[0m\u001b[0m\n\u001b[1;32m    812\u001b[0m         \u001b[0;32mdef\u001b[0m \u001b[0mcompute_should_use_set_data\u001b[0m\u001b[0;34m(\u001b[0m\u001b[0mtensor\u001b[0m\u001b[0;34m,\u001b[0m \u001b[0mtensor_applied\u001b[0m\u001b[0;34m)\u001b[0m\u001b[0;34m:\u001b[0m\u001b[0;34m\u001b[0m\u001b[0;34m\u001b[0m\u001b[0m\n",
            "\u001b[0;32m/usr/local/lib/python3.10/dist-packages/torch/nn/modules/module.py\u001b[0m in \u001b[0;36m_apply\u001b[0;34m(self, fn, recurse)\u001b[0m\n\u001b[1;32m    831\u001b[0m             \u001b[0;31m# `with torch.no_grad():`\u001b[0m\u001b[0;34m\u001b[0m\u001b[0;34m\u001b[0m\u001b[0m\n\u001b[1;32m    832\u001b[0m             \u001b[0;32mwith\u001b[0m \u001b[0mtorch\u001b[0m\u001b[0;34m.\u001b[0m\u001b[0mno_grad\u001b[0m\u001b[0;34m(\u001b[0m\u001b[0;34m)\u001b[0m\u001b[0;34m:\u001b[0m\u001b[0;34m\u001b[0m\u001b[0;34m\u001b[0m\u001b[0m\n\u001b[0;32m--> 833\u001b[0;31m                 \u001b[0mparam_applied\u001b[0m \u001b[0;34m=\u001b[0m \u001b[0mfn\u001b[0m\u001b[0;34m(\u001b[0m\u001b[0mparam\u001b[0m\u001b[0;34m)\u001b[0m\u001b[0;34m\u001b[0m\u001b[0;34m\u001b[0m\u001b[0m\n\u001b[0m\u001b[1;32m    834\u001b[0m             \u001b[0mshould_use_set_data\u001b[0m \u001b[0;34m=\u001b[0m \u001b[0mcompute_should_use_set_data\u001b[0m\u001b[0;34m(\u001b[0m\u001b[0mparam\u001b[0m\u001b[0;34m,\u001b[0m \u001b[0mparam_applied\u001b[0m\u001b[0;34m)\u001b[0m\u001b[0;34m\u001b[0m\u001b[0;34m\u001b[0m\u001b[0m\n\u001b[1;32m    835\u001b[0m             \u001b[0;32mif\u001b[0m \u001b[0mshould_use_set_data\u001b[0m\u001b[0;34m:\u001b[0m\u001b[0;34m\u001b[0m\u001b[0;34m\u001b[0m\u001b[0m\n",
            "\u001b[0;32m/usr/local/lib/python3.10/dist-packages/torch/nn/modules/module.py\u001b[0m in \u001b[0;36mconvert\u001b[0;34m(t)\u001b[0m\n\u001b[1;32m   1156\u001b[0m                 return t.to(device, dtype if t.is_floating_point() or t.is_complex() else None,\n\u001b[1;32m   1157\u001b[0m                             non_blocking, memory_format=convert_to_format)\n\u001b[0;32m-> 1158\u001b[0;31m             \u001b[0;32mreturn\u001b[0m \u001b[0mt\u001b[0m\u001b[0;34m.\u001b[0m\u001b[0mto\u001b[0m\u001b[0;34m(\u001b[0m\u001b[0mdevice\u001b[0m\u001b[0;34m,\u001b[0m \u001b[0mdtype\u001b[0m \u001b[0;32mif\u001b[0m \u001b[0mt\u001b[0m\u001b[0;34m.\u001b[0m\u001b[0mis_floating_point\u001b[0m\u001b[0;34m(\u001b[0m\u001b[0;34m)\u001b[0m \u001b[0;32mor\u001b[0m \u001b[0mt\u001b[0m\u001b[0;34m.\u001b[0m\u001b[0mis_complex\u001b[0m\u001b[0;34m(\u001b[0m\u001b[0;34m)\u001b[0m \u001b[0;32melse\u001b[0m \u001b[0;32mNone\u001b[0m\u001b[0;34m,\u001b[0m \u001b[0mnon_blocking\u001b[0m\u001b[0;34m)\u001b[0m\u001b[0;34m\u001b[0m\u001b[0;34m\u001b[0m\u001b[0m\n\u001b[0m\u001b[1;32m   1159\u001b[0m \u001b[0;34m\u001b[0m\u001b[0m\n\u001b[1;32m   1160\u001b[0m         \u001b[0;32mreturn\u001b[0m \u001b[0mself\u001b[0m\u001b[0;34m.\u001b[0m\u001b[0m_apply\u001b[0m\u001b[0;34m(\u001b[0m\u001b[0mconvert\u001b[0m\u001b[0;34m)\u001b[0m\u001b[0;34m\u001b[0m\u001b[0;34m\u001b[0m\u001b[0m\n",
            "\u001b[0;32m/usr/local/lib/python3.10/dist-packages/torch/cuda/__init__.py\u001b[0m in \u001b[0;36m_lazy_init\u001b[0;34m()\u001b[0m\n\u001b[1;32m    296\u001b[0m         \u001b[0;32mif\u001b[0m \u001b[0;34m\"CUDA_MODULE_LOADING\"\u001b[0m \u001b[0;32mnot\u001b[0m \u001b[0;32min\u001b[0m \u001b[0mos\u001b[0m\u001b[0;34m.\u001b[0m\u001b[0menviron\u001b[0m\u001b[0;34m:\u001b[0m\u001b[0;34m\u001b[0m\u001b[0;34m\u001b[0m\u001b[0m\n\u001b[1;32m    297\u001b[0m             \u001b[0mos\u001b[0m\u001b[0;34m.\u001b[0m\u001b[0menviron\u001b[0m\u001b[0;34m[\u001b[0m\u001b[0;34m\"CUDA_MODULE_LOADING\"\u001b[0m\u001b[0;34m]\u001b[0m \u001b[0;34m=\u001b[0m \u001b[0;34m\"LAZY\"\u001b[0m\u001b[0;34m\u001b[0m\u001b[0;34m\u001b[0m\u001b[0m\n\u001b[0;32m--> 298\u001b[0;31m         \u001b[0mtorch\u001b[0m\u001b[0;34m.\u001b[0m\u001b[0m_C\u001b[0m\u001b[0;34m.\u001b[0m\u001b[0m_cuda_init\u001b[0m\u001b[0;34m(\u001b[0m\u001b[0;34m)\u001b[0m\u001b[0;34m\u001b[0m\u001b[0;34m\u001b[0m\u001b[0m\n\u001b[0m\u001b[1;32m    299\u001b[0m         \u001b[0;31m# Some of the queued calls may reentrantly call _lazy_init();\u001b[0m\u001b[0;34m\u001b[0m\u001b[0;34m\u001b[0m\u001b[0m\n\u001b[1;32m    300\u001b[0m         \u001b[0;31m# we need to just return without initializing in that case.\u001b[0m\u001b[0;34m\u001b[0m\u001b[0;34m\u001b[0m\u001b[0m\n",
            "\u001b[0;31mRuntimeError\u001b[0m: Found no NVIDIA driver on your system. Please check that you have an NVIDIA GPU and installed a driver from http://www.nvidia.com/Download/index.aspx"
          ]
        }
      ],
      "source": [
        "def train(autoencoder, data, kl_div_on=True, epochs=10, device='cpu'):\n",
        "  opt = torch.optim.Adam(autoencoder.parameters())\n",
        "  for epoch in range(epochs):  # Run data over numerous epochs\n",
        "    for batch, label in tqdm(data):  # Iterate over the batches of images and labels\n",
        "      batch = batch.to(device)  # Send batch of images to the GPU\n",
        "      opt.zero_grad()  # Set optimiser grad to 0\n",
        "      x_hat, KL = autoencoder(batch)  # Generate predicted images (x_hat) by running batch of images through autoencoder\n",
        "      loss = ((batch - x_hat)**2).sum() + KL  # Calculate combined loss\n",
        "      loss.backward()  # Back-propagate\n",
        "      opt.step()  # Step the optimiser\n",
        "  return autoencoder  # Return the trained autoencoder (for later analysis)\n",
        "\n",
        "device = 'cuda'\n",
        "\n",
        "dims_latent = 2  # Maybe increase this an try the t-sne algorithm for visualisation?!\n",
        "vae = VAE(device).to(device)\n",
        "vae = train(vae, train_loader, epochs=10, device=device)\n",
        "\n",
        "print('done')"
      ]
    },
    {
      "cell_type": "markdown",
      "metadata": {
        "id": "RTcT5k6TjO2X"
      },
      "source": [
        "## 4.1 Mode collapse\n",
        "\n",
        "Generate some images with the trained VAE. Do you notice that all the recons look similar?\n",
        "\n",
        "Generative models have a tendency towards mode collapse, where they generate the \"average\" of the dataset rather than a meaningful recon."
      ]
    },
    {
      "cell_type": "code",
      "execution_count": null,
      "metadata": {
        "id": "WAyFrQeR50oA"
      },
      "outputs": [],
      "source": [
        "images, labels = next(iter(test_loader))  # Get the first batch of images\n",
        "print(images.shape)  # Get the first image from the batch\n",
        "\n",
        "_, ax = plt.subplots(2, 5, figsize=[18.5, 6])\n",
        "for n, idx  in enumerate(torch.randint(0,images.shape[0], (5,))):\n",
        "  recon, _ = vae(images[idx].unsqueeze(0).cuda())  # Are mu and sigma correct\n",
        "  ax[0, n].imshow(images[idx].squeeze())\n",
        "  ax[1, n].imshow(recon.cpu().detach().squeeze())\n"
      ]
    },
    {
      "cell_type": "markdown",
      "metadata": {
        "id": "7YDzNVfADwVh"
      },
      "source": [
        "## 4.2 Convolutional VAE\n",
        "\n",
        "By increasing the complexity of the model we can generate more complex images. The best starting point is to replace Linear layers with Conv layers.\n",
        "\n",
        "In a convolutional Encoder:\n",
        "- Increase the number of channels using __Conv2D__\n",
        "- Compress the spatial dimensions are compressed using __MaxPool2d__\n",
        "- It is important to pad the starting image to a power of two so the dimensionality reduction works correctly."
      ]
    },
    {
      "cell_type": "code",
      "execution_count": null,
      "metadata": {
        "id": "dEhoWBUMDu1e"
      },
      "outputs": [],
      "source": [
        "class VAE_Encoder_Conv(nn.Module):\n",
        "  def __init__(self):\n",
        "    '''\n",
        "    Class contains the Encoder (image -> latent).\n",
        "    '''\n",
        "    super(VAE_Encoder_Conv, self).__init__()\n",
        "\n",
        "    self.layer1 = nn.Sequential(\n",
        "        nn.Conv2d(1,  20, 3, padding=3),  # Pad so that image dims are 2^n\n",
        "        nn.GELU(),\n",
        "        nn.MaxPool2d(2)\n",
        "    )  # Dims in 32x32 -> out 16x16\n",
        "\n",
        "    self.layer2 = nn.Sequential(\n",
        "        nn.Conv2d(20, 40, 3, padding=\"same\"),\n",
        "        nn.MaxPool2d(2)\n",
        "    )  # Dims in 16x16 -> out 8x8\n",
        "\n",
        "    self.layer3 = nn.Sequential(\n",
        "        nn.Conv2d(40, 60, 3, padding=\"same\"),\n",
        "        nn.GELU(),\n",
        "        nn.MaxPool2d(2)\n",
        "    )  # Dims in 8x8 -> out 4x4\n",
        "\n",
        "    self.layerMu = nn.Sequential(\n",
        "        nn.Conv2d(60, 120, 1),\n",
        "    )  # Dims in 4x4 -> out 4x4\n",
        "\n",
        "    self.layerSigma = nn.Sequential(\n",
        "        nn.Conv2d(60, 120, 1),\n",
        "    )  # Dims in 4x4 -> out 4x4\n",
        "\n",
        "  def forward(self, x, print_shape=False):  # Custom pytorch modules should follow this structure\n",
        "    '''\n",
        "    x: [float] the MNIST image\n",
        "    '''\n",
        "\n",
        "    x = self.layer1(x)\n",
        "    if print_shape:\n",
        "      print('L1: '+str(x.shape))\n",
        "    x = self.layer2(x)\n",
        "    if print_shape:\n",
        "      print('L2: '+str(x.shape))\n",
        "    x = self.layer3(x)\n",
        "    if print_shape:\n",
        "      print('L3: '+str(x.shape))\n",
        "    mu =  self.layerMu(x)\n",
        "    sigma = torch.exp(self.layerSigma(x))\n",
        "    return mu, sigma\n"
      ]
    },
    {
      "cell_type": "code",
      "execution_count": null,
      "metadata": {
        "id": "PIRd27uFGrD1"
      },
      "outputs": [],
      "source": [
        "encoder = VAE_Encoder_Conv()\n",
        "\n",
        "images, labels = next(iter(train_loader))  # Get the first batch of images\n",
        "print('Input shape: '+str(images[0].shape))  # Get the first image from the batch\n",
        "mu, sigma = encoder(images[0].unsqueeze(0), print_shape=True)  # Are mu and sigma correct\n",
        "\n",
        "print('Mu shape: '+str(mu.detach().shape))\n",
        "print('Sigma shape:'+str(sigma.detach().shape))"
      ]
    },
    {
      "cell_type": "markdown",
      "metadata": {
        "id": "9_nEcvcyODKU"
      },
      "source": [
        "In a convolutional Decoder:\n",
        "- Decrease the number of channels using __Conv2D__\n",
        "- Expand the spatial dimensions using __Upsample__\n",
        "- Dont forget to remove the padding from the output!"
      ]
    },
    {
      "cell_type": "code",
      "execution_count": null,
      "metadata": {
        "id": "L8b2AcrxD89F"
      },
      "outputs": [],
      "source": [
        "class VAE_Decoder_Conv(nn.Module):  # The Encoder inherits the properties of nn.Module https://pytorch.org/docs/stable/generated/torch.nn.Module.html\n",
        "  def __init__(self):\n",
        "    '''\n",
        "    Class contains the Decoder (latent -> image).\n",
        "    '''\n",
        "\n",
        "    super(VAE_Decoder_Conv, self).__init__()\n",
        "\n",
        "    self.layerLatent = nn.Sequential(\n",
        "        nn.Conv2d(120, 60, 1),\n",
        "        nn.GELU(),\n",
        "        nn.Upsample(scale_factor=2, mode='nearest')\n",
        "    )  # Dims in 4x4 -> out 8x8\n",
        "\n",
        "    self.layer1 = nn.Sequential(\n",
        "        nn.Conv2d(60, 40, 3, padding='same'),\n",
        "        nn.GELU(),\n",
        "        nn.Upsample(scale_factor=2, mode='nearest')\n",
        "    )  # Dims in 8x8 -> out 16x16\n",
        "\n",
        "    self.layer2 = nn.Sequential(\n",
        "        nn.Conv2d(40, 20, 3, padding='same'),\n",
        "        nn.GELU(),\n",
        "        nn.Upsample(scale_factor=2, mode='nearest')\n",
        "    )  # Dims in 16x16 -> out 32x32\n",
        "\n",
        "    self.layer3 = nn.Sequential(\n",
        "        nn.Conv2d(20, 1, 3, padding='same'),\n",
        "        nn.GELU(),\n",
        "        nn.Sigmoid()\n",
        "    )  # Dims in 32x32 -> out 32x32\n",
        "\n",
        "  def forward(self, z, print_shape=False):  # Custom pytorch modules should follow this structure\n",
        "    '''\n",
        "    x: [float] the MNIST image\n",
        "    '''\n",
        "\n",
        "    z = self.layerLatent(z)\n",
        "    z = self.layer1(z)\n",
        "    if print_shape:\n",
        "      print('L1: '+str(z.shape))\n",
        "    z = self.layer2(z)\n",
        "    if print_shape:\n",
        "      print('L2: '+str(z.shape))\n",
        "    z = self.layer3(z)\n",
        "    if print_shape:\n",
        "      print('L3: '+str(z.shape))\n",
        "    return z[:,:,2:-2,2:-2]  # Crop the output\n",
        "\n"
      ]
    },
    {
      "cell_type": "markdown",
      "metadata": {
        "id": "FcLv2SW0OTJ-"
      },
      "source": []
    },
    {
      "cell_type": "code",
      "execution_count": null,
      "metadata": {
        "id": "zlXYVN47J2U5"
      },
      "outputs": [],
      "source": [
        "decoder = VAE_Decoder_Conv()\n",
        "\n",
        "latent_vec = torch.zeros(1,120,4,4)\n",
        "\n",
        "print('Latent shape: '+str(latent_vec.shape))\n",
        "\n",
        "recon = decoder(latent_vec, print_shape=True)\n",
        "\n",
        "print('Image shape: '+str(recon.shape))\n",
        "\n",
        "plt.imshow(recon.detach().cpu().squeeze())\n"
      ]
    },
    {
      "cell_type": "markdown",
      "metadata": {
        "id": "zah6yCejOciK"
      },
      "source": [
        "You don't need to make many changes for Autoencoding though.\n",
        "\n",
        "An interesting challenge is to explore the effect of changing the spatial/channel dimensions in the latent space."
      ]
    },
    {
      "cell_type": "code",
      "execution_count": null,
      "metadata": {
        "id": "i2HndoU9Letx"
      },
      "outputs": [],
      "source": [
        "class VAE_Conv(nn.Module):\n",
        "  def __init__(self, device):\n",
        "    '''\n",
        "    Class combines the Encoder and the Decoder with a VAE latent space.\n",
        "    '''\n",
        "    super(VAE_Conv, self).__init__()\n",
        "    self.device = device\n",
        "    self.encoder = VAE_Encoder_Conv()\n",
        "    self.decoder = VAE_Decoder_Conv()\n",
        "    self.distribution = torch.distributions.Normal(0, 1)  # Sample from N(0,1)\n",
        "\n",
        "  def sample_latent_space(self, mu, sigma):\n",
        "    z = mu + sigma * self.distribution.sample(mu.shape).to(self.device)  # Sample the latent distribution\n",
        "    kl_div = (sigma**2 + mu**2 - torch.log(sigma) - 1/2).sum()  # A term, which is required for regularisation\n",
        "    return z, kl_div\n",
        "\n",
        "  def forward(self, x):\n",
        "    '''\n",
        "    x - [float] A batch of images from the data-loader\n",
        "    '''\n",
        "\n",
        "    mu, sigma = self.encoder(x)  # Run the image through the Encoder\n",
        "    z, kl_div = self.sample_latent_space(mu, sigma)  # Take the output of the encoder and get the latent vector\n",
        "    z = self.decoder(z)  # Return the output of the decoder (the predicted image)\n",
        "    return z, kl_div\n",
        "\n",
        "print('done')"
      ]
    },
    {
      "cell_type": "markdown",
      "metadata": {
        "id": "N8rF8nm4OsAr"
      },
      "source": [
        "Notice how the appearance of the reconstruction contains correlated noise. This is exactly what we want so that we can achieve visually \"correct\" appearances."
      ]
    },
    {
      "cell_type": "code",
      "execution_count": null,
      "metadata": {
        "id": "oU-gY_9DLt8Z"
      },
      "outputs": [],
      "source": [
        "vae = VAE_Conv('cpu')\n",
        "\n",
        "images, labels = next(iter(train_loader))  # Get the first batch of images\n",
        "print(images[0].shape)  # Get the first image from the batch\n",
        "recon, _ = vae(images[10].unsqueeze(0))  # Are mu and sigma correct\n",
        "\n",
        "plt.figure(); plt.imshow(images[0].squeeze())\n",
        "plt.figure(); plt.imshow(recon.cpu().detach().squeeze())\n"
      ]
    },
    {
      "cell_type": "code",
      "execution_count": null,
      "metadata": {
        "id": "iSiUwiiJMcdI"
      },
      "outputs": [],
      "source": [
        "def train(autoencoder, data, kl_div_on=True, epochs=10, device='cpu'):\n",
        "  opt = torch.optim.Adam(autoencoder.parameters(), lr=1e-4, betas=(0.9, 0.999), weight_decay=0.5)\n",
        "  for epoch in range(epochs):  # Run data over numerous epochs\n",
        "    for batch, label in tqdm(data):  # Iterate over the batches of images and labels\n",
        "      batch = batch.to(device)  # Send batch of images to the GPU\n",
        "      opt.zero_grad()  # Set optimiser grad to 0\n",
        "      x_hat, KL = autoencoder(batch)  # Generate predicted images (x_hat) by running batch of images through autoencoder\n",
        "      loss = ((batch - x_hat)**2).sum() + KL  # Calculate combined loss\n",
        "      loss.backward()  # Back-propagate\n",
        "      opt.step()  # Step the optimiser\n",
        "  return autoencoder  # Return the trained autoencoder (for later analysis)\n",
        "\n",
        "device = 'cuda'\n",
        "\n",
        "vae_conv = VAE_Conv(device).to(device)\n",
        "vae_conv = train(vae_conv.train(True), train_loader, epochs=5, device=device)\n",
        "\n",
        "print('done')"
      ]
    },
    {
      "cell_type": "code",
      "execution_count": null,
      "metadata": {
        "id": "sFQcMTE2Ml9T"
      },
      "outputs": [],
      "source": [
        "images, labels = next(iter(test_loader))  # Get the first batch of images\n",
        "print(images.shape)  # Get the first image from the batch\n",
        "vae_conv1 = vae_conv1.eval()\n",
        "\n",
        "_, ax = plt.subplots(2, 5, figsize=[18.5, 6])\n",
        "for n, idx  in enumerate(torch.randint(0,images.shape[0], (5,))):\n",
        "  recon, _ = vae_conv1(images[idx].unsqueeze(0).cuda())  # Are mu and sigma correct\n",
        "  ax[0, n].imshow(images[idx].squeeze())\n",
        "  ax[1, n].imshow(recon.cpu().detach().squeeze())\n"
      ]
    },
    {
      "cell_type": "code",
      "execution_count": null,
      "metadata": {
        "id": "TJaiT8Ab2MKa"
      },
      "outputs": [],
      "source": []
    }
  ],
  "metadata": {
    "accelerator": "GPU",
    "colab": {
      "provenance": [],
      "gpuType": "T4"
    },
    "kernelspec": {
      "display_name": "Python 3",
      "name": "python3"
    },
    "language_info": {
      "codemirror_mode": {
        "name": "ipython",
        "version": 3
      },
      "file_extension": ".py",
      "mimetype": "text/x-python",
      "name": "python",
      "nbconvert_exporter": "python",
      "pygments_lexer": "ipython3",
      "version": "3.10.8"
    }
  },
  "nbformat": 4,
  "nbformat_minor": 0
}